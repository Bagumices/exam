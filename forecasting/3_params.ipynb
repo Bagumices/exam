{
 "cells": [
  {
   "cell_type": "code",
   "execution_count": 2,
   "metadata": {
    "collapsed": true,
    "pycharm": {
     "is_executing": false
    }
   },
   "outputs": [],
   "source": [
    "import numpy as np \n",
    "import matplotlib.pyplot as plt \n",
    "import pandas as pd \n",
    "\n",
    "import keras\n",
    "from keras.layers import Embedding\n",
    "from keras.layers import LSTM\n",
    "from keras.models import Sequential\n",
    "from keras.layers import Dense, Activation, Dropout\n"
   ]
  },
  {
   "cell_type": "code",
   "execution_count": 3,
   "outputs": [
    {
     "name": "stderr",
     "text": [
      "/home/roman/PycharmProjects/Example/venv/lib/python3.7/site-packages/ipykernel_launcher.py:5: SettingWithCopyWarning: \nA value is trying to be set on a copy of a slice from a DataFrame.\nTry using .loc[row_indexer,col_indexer] = value instead\n\nSee the caveats in the documentation: http://pandas.pydata.org/pandas-docs/stable/indexing.html#indexing-view-versus-copy\n  \"\"\"\n"
     ],
     "output_type": "stream"
    }
   ],
   "source": [
    "df = pd.read_csv('../data.csv', sep=',', index_col='id')\n",
    "subjects = ['calculus', 'algebra', 'discrete', 'ode', 'complex', 'mechanics',\n",
    "            'prob_and_stat', 'pde', 'functional', 'optimization', 'random_proc', 'numerical']\n",
    "df['mean'] = df[subjects].mean(axis=1)\n",
    "df[df['year'] == 13]['ege'] = df['ege'] - 30\n",
    "# select only 2013, 2014, 2015 courses\n",
    "df = df[:-40]\n",
    "\n",
    "# complexity\n",
    "df['c'] = [0.06] * 20 + [0.03] * 20 + [0.21] * 20\n",
    "# scam\n",
    "df['s'] = [0.8] * 20 + [0.5] * 20 + [0.3] * 20\n",
    "\n",
    "df['round'] = np.rint(df['mean'].values)\n",
    "\n",
    "x = df[['s', 'c', 'ege']].values\n",
    "y = df['round'].values - 3\n"
   ],
   "metadata": {
    "collapsed": false,
    "pycharm": {
     "name": "#%%\n",
     "is_executing": false
    }
   }
  },
  {
   "cell_type": "code",
   "execution_count": 4,
   "outputs": [
    {
     "name": "stdout",
     "text": [
      "WARNING:tensorflow:From /home/roman/PycharmProjects/Example/venv/lib/python3.7/site-packages/tensorflow/python/framework/op_def_library.py:263: colocate_with (from tensorflow.python.framework.ops) is deprecated and will be removed in a future version.\nInstructions for updating:\nColocations handled automatically by placer.\n",
      "WARNING:tensorflow:From /home/roman/PycharmProjects/Example/venv/lib/python3.7/site-packages/keras/backend/tensorflow_backend.py:3445: calling dropout (from tensorflow.python.ops.nn_ops) with keep_prob is deprecated and will be removed in a future version.\nInstructions for updating:\nPlease use `rate` instead of `keep_prob`. Rate should be set to `rate = 1 - keep_prob`.\n"
     ],
     "output_type": "stream"
    }
   ],
   "source": [
    "max_features = 1024\n",
    "\n",
    "model = Sequential()\n",
    "model.add(Embedding(max_features, output_dim=256))\n",
    "model.add(LSTM(128))\n",
    "model.add(Dropout(0.5))\n",
    "model.add(Dense(3, activation='sigmoid'))\n",
    "\n",
    "model.compile(loss='categorical_crossentropy',\n",
    "              optimizer='rmsprop',\n",
    "              metrics=['accuracy'])\n"
   ],
   "metadata": {
    "collapsed": false,
    "pycharm": {
     "name": "#%%\n",
     "is_executing": false
    }
   }
  },
  {
   "cell_type": "code",
   "execution_count": 5,
   "outputs": [
    {
     "name": "stdout",
     "text": [
      "WARNING:tensorflow:From /home/roman/PycharmProjects/Example/venv/lib/python3.7/site-packages/tensorflow/python/ops/math_ops.py:3066: to_int32 (from tensorflow.python.ops.math_ops) is deprecated and will be removed in a future version.\nInstructions for updating:\nUse tf.cast instead.\n",
      "Epoch 1/100\n",
      " - 0s - loss: 1.0807 - acc: 0.5667\n",
      "Epoch 2/100\n - 0s - loss: 1.0230 - acc: 0.5000\n",
      "Epoch 3/100\n - 0s - loss: 0.9661 - acc: 0.5000\n",
      "Epoch 4/100\n - 0s - loss: 0.9136 - acc: 0.5167\n",
      "Epoch 5/100\n - 0s - loss: 0.8936 - acc: 0.5000\n",
      "Epoch 6/100\n - 0s - loss: 0.8667 - acc: 0.5000\n",
      "Epoch 7/100\n - 0s - loss: 0.8519 - acc: 0.5167\n",
      "Epoch 8/100\n",
      " - 0s - loss: 0.8389 - acc: 0.5667\n",
      "Epoch 9/100\n",
      " - 0s - loss: 0.8267 - acc: 0.6833\n",
      "Epoch 10/100\n",
      " - 0s - loss: 0.8007 - acc: 0.6333\n",
      "Epoch 11/100\n",
      " - 0s - loss: 0.7549 - acc: 0.6500\n",
      "Epoch 12/100\n",
      " - 0s - loss: 0.7192 - acc: 0.8000\n",
      "Epoch 13/100\n",
      " - 0s - loss: 0.6444 - acc: 0.8000\n",
      "Epoch 14/100\n",
      " - 0s - loss: 0.6095 - acc: 0.8333\n",
      "Epoch 15/100\n",
      " - 0s - loss: 0.5542 - acc: 0.8167\n",
      "Epoch 16/100\n",
      " - 0s - loss: 0.4212 - acc: 0.8500\n",
      "Epoch 17/100\n",
      " - 0s - loss: 0.4258 - acc: 0.8333\n",
      "Epoch 18/100\n",
      " - 0s - loss: 0.3408 - acc: 0.8500\n",
      "Epoch 19/100\n",
      " - 0s - loss: 0.3079 - acc: 0.9000\n",
      "Epoch 20/100\n",
      " - 0s - loss: 0.3086 - acc: 0.8667\n",
      "Epoch 21/100\n",
      " - 0s - loss: 0.3310 - acc: 0.8667\n",
      "Epoch 22/100\n",
      " - 0s - loss: 0.2562 - acc: 0.9000\n",
      "Epoch 23/100\n",
      " - 0s - loss: 0.2638 - acc: 0.9000\n",
      "Epoch 24/100\n",
      " - 0s - loss: 0.2223 - acc: 0.9333\n",
      "Epoch 25/100\n",
      " - 0s - loss: 0.2417 - acc: 0.9167\n",
      "Epoch 26/100\n",
      " - 0s - loss: 0.2007 - acc: 0.9167\n",
      "Epoch 27/100\n",
      " - 0s - loss: 0.1954 - acc: 0.8833\n",
      "Epoch 28/100\n",
      " - 0s - loss: 0.1648 - acc: 0.9333\n",
      "Epoch 29/100\n",
      " - 0s - loss: 0.2378 - acc: 0.9000\n",
      "Epoch 30/100\n",
      " - 0s - loss: 0.2223 - acc: 0.9000\n",
      "Epoch 31/100\n",
      " - 0s - loss: 0.2552 - acc: 0.9167\n",
      "Epoch 32/100\n",
      " - 0s - loss: 0.1776 - acc: 0.9167\n",
      "Epoch 33/100\n",
      " - 0s - loss: 0.1994 - acc: 0.9000\n",
      "Epoch 34/100\n",
      " - 0s - loss: 0.1954 - acc: 0.9000\n",
      "Epoch 35/100\n",
      " - 0s - loss: 0.1852 - acc: 0.8833\n",
      "Epoch 36/100\n",
      " - 0s - loss: 0.2092 - acc: 0.9000\n",
      "Epoch 37/100\n",
      " - 0s - loss: 0.1778 - acc: 0.9500\n",
      "Epoch 38/100\n",
      " - 0s - loss: 0.1853 - acc: 0.9167\n",
      "Epoch 39/100\n",
      " - 0s - loss: 0.1676 - acc: 0.9000\n",
      "Epoch 40/100\n",
      " - 0s - loss: 0.1716 - acc: 0.9167\n",
      "Epoch 41/100\n",
      " - 0s - loss: 0.1801 - acc: 0.8667\n",
      "Epoch 42/100\n",
      " - 0s - loss: 0.1951 - acc: 0.9000\n",
      "Epoch 43/100\n",
      " - 0s - loss: 0.1589 - acc: 0.9000\n",
      "Epoch 44/100\n",
      " - 0s - loss: 0.2214 - acc: 0.8500\n",
      "Epoch 45/100\n",
      " - 0s - loss: 0.1680 - acc: 0.9500\n",
      "Epoch 46/100\n - 0s - loss: 0.1891 - acc: 0.9000\n",
      "Epoch 47/100\n",
      " - 0s - loss: 0.2084 - acc: 0.9000\n",
      "Epoch 48/100\n",
      " - 0s - loss: 0.1677 - acc: 0.9167\n",
      "Epoch 49/100\n",
      " - 0s - loss: 0.1536 - acc: 0.9000\n",
      "Epoch 50/100\n",
      " - 0s - loss: 0.1560 - acc: 0.9167\n",
      "Epoch 51/100\n",
      " - 0s - loss: 0.1719 - acc: 0.9000\n",
      "Epoch 52/100\n",
      " - 0s - loss: 0.1982 - acc: 0.8500\n",
      "Epoch 53/100\n",
      " - 0s - loss: 0.2167 - acc: 0.8833\n",
      "Epoch 54/100\n",
      " - 0s - loss: 0.1407 - acc: 0.9333\n",
      "Epoch 55/100\n",
      " - 0s - loss: 0.1844 - acc: 0.9167\n",
      "Epoch 56/100\n",
      " - 0s - loss: 0.1538 - acc: 0.9000\n",
      "Epoch 57/100\n - 0s - loss: 0.1743 - acc: 0.9000\n",
      "Epoch 58/100\n",
      " - 0s - loss: 0.1848 - acc: 0.9000\n",
      "Epoch 59/100\n",
      " - 0s - loss: 0.1793 - acc: 0.9000\n",
      "Epoch 60/100\n",
      " - 0s - loss: 0.1687 - acc: 0.8833\n",
      "Epoch 61/100\n",
      " - 0s - loss: 0.1930 - acc: 0.9167\n",
      "Epoch 62/100\n",
      " - 0s - loss: 0.2009 - acc: 0.8333\n",
      "Epoch 63/100\n",
      " - 0s - loss: 0.1729 - acc: 0.9167\n",
      "Epoch 64/100\n",
      " - 0s - loss: 0.1703 - acc: 0.8833\n",
      "Epoch 65/100\n",
      " - 0s - loss: 0.1680 - acc: 0.8833\n",
      "Epoch 66/100\n",
      " - 0s - loss: 0.1830 - acc: 0.8833\n",
      "Epoch 67/100\n",
      " - 0s - loss: 0.1693 - acc: 0.9000\n",
      "Epoch 68/100\n",
      " - 0s - loss: 0.1743 - acc: 0.8500\n",
      "Epoch 69/100\n",
      " - 0s - loss: 0.1889 - acc: 0.8667\n",
      "Epoch 70/100\n - 0s - loss: 0.1533 - acc: 0.8833\n",
      "Epoch 71/100\n",
      " - 0s - loss: 0.1695 - acc: 0.8833\n",
      "Epoch 72/100\n",
      " - 0s - loss: 0.1849 - acc: 0.8833\n",
      "Epoch 73/100\n",
      " - 0s - loss: 0.1669 - acc: 0.9333\n",
      "Epoch 74/100\n",
      " - 0s - loss: 0.1656 - acc: 0.8833\n",
      "Epoch 75/100\n",
      " - 0s - loss: 0.1753 - acc: 0.9333\n",
      "Epoch 76/100\n",
      " - 0s - loss: 0.1670 - acc: 0.9000\n",
      "Epoch 77/100\n",
      " - 0s - loss: 0.1734 - acc: 0.9000\n",
      "Epoch 78/100\n",
      " - 0s - loss: 0.1842 - acc: 0.9000\n",
      "Epoch 79/100\n",
      " - 0s - loss: 0.1690 - acc: 0.9500\n",
      "Epoch 80/100\n",
      " - 0s - loss: 0.1557 - acc: 0.9167\n",
      "Epoch 81/100\n",
      " - 0s - loss: 0.1951 - acc: 0.8667\n",
      "Epoch 82/100\n",
      " - 0s - loss: 0.1784 - acc: 0.9167\n",
      "Epoch 83/100\n",
      " - 0s - loss: 0.1665 - acc: 0.9167\n",
      "Epoch 84/100\n",
      " - 0s - loss: 0.1893 - acc: 0.8667\n",
      "Epoch 85/100\n",
      " - 0s - loss: 0.1493 - acc: 0.9167\n",
      "Epoch 86/100\n",
      " - 0s - loss: 0.1662 - acc: 0.9000\n",
      "Epoch 87/100\n",
      " - 0s - loss: 0.1644 - acc: 0.9000\n",
      "Epoch 88/100\n",
      " - 0s - loss: 0.1805 - acc: 0.9167\n",
      "Epoch 89/100\n",
      " - 0s - loss: 0.1632 - acc: 0.9167\n",
      "Epoch 90/100\n",
      " - 0s - loss: 0.1625 - acc: 0.8833\n",
      "Epoch 91/100\n - 0s - loss: 0.1507 - acc: 0.9000\n",
      "Epoch 92/100\n",
      " - 0s - loss: 0.1553 - acc: 0.9000\n",
      "Epoch 93/100\n",
      " - 0s - loss: 0.1667 - acc: 0.9000\n",
      "Epoch 94/100\n",
      " - 0s - loss: 0.1567 - acc: 0.9167\n",
      "Epoch 95/100\n",
      " - 0s - loss: 0.1603 - acc: 0.8833\n",
      "Epoch 96/100\n",
      " - 0s - loss: 0.1837 - acc: 0.8833\n",
      "Epoch 97/100\n",
      " - 0s - loss: 0.1732 - acc: 0.9000\n",
      "Epoch 98/100\n",
      " - 0s - loss: 0.1500 - acc: 0.9333\n",
      "Epoch 99/100\n",
      " - 0s - loss: 0.1502 - acc: 0.9000\n",
      "Epoch 100/100\n",
      " - 0s - loss: 0.1623 - acc: 0.9167\n"
     ],
     "output_type": "stream"
    }
   ],
   "source": [
    "one_hot_labels = keras.utils.to_categorical(y, num_classes=3)\n",
    "history = model.fit(x, one_hot_labels, epochs=100, batch_size=20, verbose=2, shuffle=True)\n",
    "\n"
   ],
   "metadata": {
    "collapsed": false,
    "pycharm": {
     "name": "#%%\n",
     "is_executing": false
    }
   }
  },
  {
   "cell_type": "code",
   "execution_count": 6,
   "outputs": [
    {
     "data": {
      "text/plain": "array([[0.2276, 0.4033, 0.0173],\n       [0.9881, 0.0044, 0.001 ],\n       [0.0016, 0.9912, 0.0008],\n       [0.0019, 0.9916, 0.0006],\n       [0.0071, 0.0098, 0.9874],\n       [0.0076, 0.0156, 0.9833],\n       [0.1904, 0.4626, 0.0167],\n       [0.2167, 0.518 , 0.0111],\n       [0.9885, 0.0035, 0.0011],\n       [0.2175, 0.4696, 0.0135],\n       [0.6938, 0.4132, 0.0012],\n       [0.9889, 0.0044, 0.0009],\n       [0.0018, 0.9922, 0.0005],\n       [0.1897, 0.4873, 0.0135],\n       [0.2276, 0.4033, 0.0173],\n       [0.99  , 0.0047, 0.0007],\n       [0.9885, 0.0035, 0.0011],\n       [0.2175, 0.4696, 0.0135],\n       [0.6938, 0.4132, 0.0012],\n       [0.9889, 0.0044, 0.0009],\n       [0.0018, 0.9922, 0.0005],\n       [0.1897, 0.4873, 0.0135],\n       [0.2276, 0.4033, 0.0173],\n       [0.99  , 0.0047, 0.0007]], dtype=float32)"
     },
     "metadata": {},
     "output_type": "execute_result",
     "execution_count": 6
    }
   ],
   "source": [
    "x_test = np.array([\n",
    "    [0.8, 0.06, 220], [0.8, 0.06, 224], [0.8, 0.06, 230], [0.8, 0.06, 234], [0.8, 0.06, 240], [0.8, 0.06, 245],\n",
    "    [0.8, 0.06, 250], [0.8, 0.06, 260],\n",
    "    \n",
    "    [0.5, 0.03, 190], [0.5, 0.03, 195], [0.5, 0.03, 200], [0.5, 0.03, 205], [0.5, 0.03, 210], [0.5, 0.03, 215],\n",
    "    [0.5, 0.03, 220], [0.5, 0.03, 225],\n",
    "    \n",
    "    [0.3, 0.21, 190], [0.3, 0.21, 195], [0.3, 0.21, 200], [0.3, 0.21, 205], [0.3, 0.21, 210], [0.3, 0.21, 215],\n",
    "    [0.3, 0.21, 220], [0.3, 0.21, 225]\n",
    "    \n",
    "])\n",
    "classes = model.predict(x_test, batch_size=10)\n",
    "np.set_printoptions(precision=4, suppress=True)\n",
    "classes\n"
   ],
   "metadata": {
    "collapsed": false,
    "pycharm": {
     "name": "#%%\n",
     "is_executing": false
    }
   }
  },
  {
   "cell_type": "code",
   "execution_count": 9,
   "outputs": [
    {
     "data": {
      "text/plain": "<matplotlib.collections.PathCollection at 0x7fc2e80b6320>"
     },
     "metadata": {},
     "output_type": "execute_result",
     "execution_count": 9
    },
    {
     "data": {
      "text/plain": "<Figure size 432x288 with 1 Axes>",
      "image/png": "[encoded data removed]"
     },
     "metadata": {
      "needs_background": "light"
     },
     "output_type": "display_data"
    }
   ],
   "source": [
    "y = list(map(lambda y : y.argmax() + 3, classes))\n",
    "plt.scatter(x_test[:, 2], y, marker='o')\n"
   ],
   "metadata": {
    "collapsed": false,
    "pycharm": {
     "name": "#%%\n",
     "is_executing": false
    }
   }
  }
 ],
 "metadata": {
  "language_info": {
   "codemirror_mode": {
    "name": "ipython",
    "version": 2
   },
   "file_extension": ".py",
   "mimetype": "text/x-python",
   "name": "python",
   "nbconvert_exporter": "python",
   "pygments_lexer": "ipython2",
   "version": "2.7.6"
  },
  "kernelspec": {
   "name": "python3",
   "language": "python",
   "display_name": "Python 3"
  },
  "pycharm": {
   "stem_cell": {
    "cell_type": "raw",
    "source": [],
    "metadata": {
     "collapsed": false
    }
   }
  }
 },
 "nbformat": 4,
 "nbformat_minor": 0
}