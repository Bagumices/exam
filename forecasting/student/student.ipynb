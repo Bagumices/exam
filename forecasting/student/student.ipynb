{
 "cells": [
  {
   "cell_type": "code",
   "execution_count": 2,
   "outputs": [],
   "source": [
    "import numpy as np \n",
    "import matplotlib.pyplot as plt \n",
    "import pandas as pd \n",
    "\n",
    "import keras\n",
    "from keras.utils import plot_model\n",
    "from keras.layers import Embedding\n",
    "from keras.layers import LSTM\n",
    "from keras.models import Sequential\n",
    "from keras.layers import Dense, Activation, Dropout\n",
    "from keras.optimizers import SGD\n"
   ],
   "metadata": {
    "collapsed": false,
    "pycharm": {
     "name": "#%%\n",
     "is_executing": false
    }
   }
  },
  {
   "cell_type": "code",
   "execution_count": 43,
   "outputs": [],
   "source": [
    "df = pd.read_csv('../../data.csv', sep=',', index_col='id')\n",
    "subjects = ['calculus', 'algebra', 'discrete', 'ode', 'complex', 'mechanics',\n",
    "            'prob_and_stat', 'pde', 'functional', 'optimization', 'random_proc', 'numerical']\n",
    "df['mean'] = df[subjects].mean(axis=1)\n",
    "df['round'] = np.rint(df['mean'].values)\n",
    "df['k'] = [0.8] * 20 + [0.5] * 20 + [0.3] * 20 + [0.3] * 20 + [0.3] * 20\n"
   ],
   "metadata": {
    "collapsed": false,
    "pycharm": {
     "name": "#%%\n",
     "is_executing": false
    }
   }
  },
  {
   "cell_type": "code",
   "execution_count": 44,
   "outputs": [],
   "source": [
    "subject_courses = {\n",
    "    1: ['calculus', 'algebra', 'discrete'],\n",
    "    2: ['calculus', 'algebra', 'discrete', 'ode', 'complex', 'mechanics'],\n",
    "    3: ['calculus', 'algebra', 'discrete', 'ode', 'complex', 'mechanics', \n",
    "        'prob_and_stat', 'pde', 'functional'],\n",
    "    4: ['calculus', 'algebra', 'discrete', 'ode', 'complex', 'mechanics', \n",
    "        'prob_and_stat', 'pde', 'functional', 'optimization', 'random_proc', 'numerical']\n",
    "}\n",
    "\n",
    "years = [13, 14, 15, 16, 17]\n",
    "train_data = []\n",
    "\n",
    "\n",
    "for index, row in df.iterrows():\n",
    "    for i in range(1, 4):\n",
    "        # [1] -> 2, [1,2] -> 3, [1, 2, 3] -> 4\n",
    "        \n",
    "        current_subjects = row[subject_courses[i]]\n",
    "        if current_subjects.isnull().values.any():\n",
    "            continue\n",
    "        \n",
    "        previous_mean = current_subjects.mean()\n",
    "        next_subjects = row[subject_courses[i+1]]\n",
    "        \n",
    "        if next_subjects.isnull().values.any():\n",
    "            continue\n",
    "            \n",
    "        next_mean = next_subjects.mean()\n",
    "\n",
    "        train_data.append(dict(\n",
    "            ege=row['ege'],\n",
    "            k=row['k'],\n",
    "            course=i,\n",
    "            prev_mean=previous_mean,\n",
    "            next_mean=next_mean,\n",
    "            year=row['year']\n",
    "        ))\n",
    "\n",
    "train_df = pd.DataFrame(train_data)\n",
    "# train_df['round'] = np.rint(train_df['mean'].values)\n",
    "# train_df[['prev_mean', 'next_mean']]\n",
    "x = train_df[['ege', 'k', 'course', 'prev_mean']].values\n",
    "y = train_df['next_mean'].values\n"
   ],
   "metadata": {
    "collapsed": false,
    "pycharm": {
     "name": "#%%\n",
     "is_executing": false
    }
   }
  },
  {
   "cell_type": "code",
   "execution_count": 104,
   "outputs": [],
   "source": [
    "max_features = 1024\n",
    "\n",
    "model = Sequential()\n",
    "model.add(Embedding(max_features, output_dim=1))\n",
    "model.add(LSTM(128))\n",
    "model.add(Dense(1, activation='relu'))\n",
    "\n",
    "model.compile(loss='logcosh',\n",
    "              optimizer='rmsprop',\n",
    "              metrics=['accuracy'])\n"
   ],
   "metadata": {
    "collapsed": false,
    "pycharm": {
     "name": "#%%\n",
     "is_executing": false
    }
   }
  },
  {
   "cell_type": "code",
   "execution_count": 105,
   "outputs": [],
   "source": [
    "# one_hot_labels = keras.utils.to_categorical(y, num_classes=3)\n",
    "history = model.fit(x, y, epochs=300, batch_size=40, verbose=0, shuffle=False)\n"
   ],
   "metadata": {
    "collapsed": false,
    "pycharm": {
     "name": "#%%\n",
     "is_executing": false
    }
   }
  },
  {
   "cell_type": "code",
   "execution_count": 106,
   "outputs": [
    {
     "data": {
      "text/plain": "<Figure size 432x288 with 1 Axes>",
      "image/png": "[encoded data removed]"
     },
     "metadata": {
      "needs_background": "light"
     },
     "output_type": "display_data"
    }
   ],
   "source": [
    "plt.plot(history.history['acc'])\n",
    "plt.title('Model accuracy')\n",
    "plt.ylabel('Accuracy')\n",
    "plt.xlabel('Epoch')\n",
    "plt.legend(['Train', 'Test'], loc='upper left')\n",
    "plt.show()"
   ],
   "metadata": {
    "collapsed": false,
    "pycharm": {
     "name": "#%%\n",
     "is_executing": false
    }
   }
  },
  {
   "cell_type": "code",
   "execution_count": 107,
   "outputs": [
    {
     "data": {
      "text/plain": "<Figure size 432x288 with 1 Axes>",
      "image/png": "[encoded data removed]"
     },
     "metadata": {
      "needs_background": "light"
     },
     "output_type": "display_data"
    }
   ],
   "source": [
    "plt.plot(history.history['loss'])\n",
    "plt.title('Model loss')\n",
    "plt.ylabel('Loss')\n",
    "plt.xlabel('Epoch')\n",
    "plt.legend(['Train', 'Test'], loc='upper left')\n",
    "plt.show()\n"
   ],
   "metadata": {
    "collapsed": false,
    "pycharm": {
     "name": "#%%\n",
     "is_executing": false
    }
   }
  },
  {
   "cell_type": "markdown",
   "source": [
    "#### Прогнозирование для 16 года на 2 курс\n"
   ],
   "metadata": {
    "collapsed": false
   }
  },
  {
   "cell_type": "code",
   "execution_count": 111,
   "outputs": [
    {
     "data": {
      "text/plain": "<Figure size 432x288 with 1 Axes>",
      "image/png": "[encoded data removed]"
     },
     "metadata": {
      "needs_background": "light"
     },
     "output_type": "display_data"
    }
   ],
   "source": [
    "df_16 = train_df[train_df['year'] == 16][['ege', 'k', 'prev_mean', 'course', 'next_mean']]\n",
    "x_train = df_16[['ege', 'k', 'course', 'prev_mean']].values\n",
    "y_train = df_16['next_mean'].values\n",
    "\n",
    "y_predict = model.predict(x_train)\n",
    "# y_predict = list(map(lambda y : y.argmax()+3, y_predict))\n",
    "\n",
    "marker_size = [100 for i in range(len(x))]\n",
    "plt.scatter(x_train[:, 3], y_train, marker='|', color='green', s=marker_size)\n",
    "plt.scatter(x_train[:, 3], y_predict, marker='_', color='red', s=marker_size)\n",
    "\n",
    "plt.grid()\n",
    "plt.xticks(np.arange(3, 5.25, 0.25))\n",
    "plt.yticks(np.arange(3, 5.25, 0.25))\n",
    "plt.xlabel('Previous mean')\n",
    "plt.ylabel('Next mean');\n"
   ],
   "metadata": {
    "collapsed": false,
    "pycharm": {
     "name": "#%%\n",
     "is_executing": false
    }
   }
  },
  {
   "cell_type": "markdown",
   "source": [
    "#### Прогнозирование для 15 года на 4 курс\n"
   ],
   "metadata": {
    "collapsed": false
   }
  },
  {
   "cell_type": "code",
   "execution_count": 110,
   "outputs": [
    {
     "name": "stderr",
     "text": [
      "/home/roman/PycharmProjects/Example/venv/lib/python3.7/site-packages/ipykernel_launcher.py:1: UserWarning: Boolean Series key will be reindexed to match DataFrame index.\n  \"\"\"Entry point for launching an IPython kernel.\n"
     ],
     "output_type": "stream"
    },
    {
     "data": {
      "text/plain": "<Figure size 432x288 with 1 Axes>",
      "image/png": "[encoded data removed]"
     },
     "metadata": {
      "needs_background": "light"
     },
     "output_type": "display_data"
    }
   ],
   "source": [
    "df_15 = train_df[train_df['year'] == 15][train_df['course']==3][['ege', 'k', 'prev_mean', 'course', 'next_mean']]\n",
    "x_train = df_15[['ege', 'k', 'course', 'prev_mean']].values\n",
    "y_train = df_15['next_mean'].values\n",
    "\n",
    "y_predict = model.predict(x_train)\n",
    "# y_predict = list(map(lambda y : y.argmax()+3, y_predict))\n",
    "\n",
    "marker_size = [100 for i in range(len(x))]\n",
    "plt.scatter(x_train[:, 3], y_train, marker='|', color='green', s=marker_size)\n",
    "plt.scatter(x_train[:, 3], y_predict, marker='_', color='red', s=marker_size)\n",
    "\n",
    "plt.grid()\n",
    "plt.xticks(np.arange(3, 5.25, 0.25))\n",
    "plt.yticks(np.arange(3, 5.25, 0.25))\n",
    "plt.xlabel('Previous mean')\n",
    "plt.ylabel('Next mean');"
   ],
   "metadata": {
    "collapsed": false,
    "pycharm": {
     "name": "#%%\n",
     "is_executing": false
    }
   }
  }
 ],
 "metadata": {
  "language_info": {
   "codemirror_mode": {
    "name": "ipython",
    "version": 2
   },
   "file_extension": ".py",
   "mimetype": "text/x-python",
   "name": "python",
   "nbconvert_exporter": "python",
   "pygments_lexer": "ipython2",
   "version": "2.7.6"
  },
  "kernelspec": {
   "name": "python3",
   "language": "python",
   "display_name": "Python 3"
  },
  "pycharm": {
   "stem_cell": {
    "cell_type": "raw",
    "source": [],
    "metadata": {
     "collapsed": false
    }
   }
  }
 },
 "nbformat": 4,
 "nbformat_minor": 0
}