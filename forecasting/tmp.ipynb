{
 "cells": [
  {
   "cell_type": "code",
   "execution_count": 1,
   "metadata": {
    "collapsed": true,
    "pycharm": {
     "is_executing": false
    }
   },
   "outputs": [
    {
     "name": "stderr",
     "text": [
      "Using TensorFlow backend.\n"
     ],
     "output_type": "stream"
    }
   ],
   "source": [
    "import numpy as np \n",
    "import matplotlib.pyplot as plt \n",
    "import pandas as pd \n",
    "\n",
    "import keras\n",
    "from keras.utils import plot_model\n",
    "from keras.layers import Embedding\n",
    "from keras.layers import LSTM\n",
    "from keras.models import Sequential\n",
    "from keras.layers import Dense, Activation, Dropout\n",
    "from keras.optimizers import SGD\n"
   ]
  },
  {
   "cell_type": "code",
   "execution_count": 3,
   "outputs": [
    {
     "name": "stderr",
     "text": [
      "/home/roman/PycharmProjects/Example/venv/lib/python3.7/site-packages/ipykernel_launcher.py:5: SettingWithCopyWarning: \nA value is trying to be set on a copy of a slice from a DataFrame.\nTry using .loc[row_indexer,col_indexer] = value instead\n\nSee the caveats in the documentation: http://pandas.pydata.org/pandas-docs/stable/indexing.html#indexing-view-versus-copy\n  \"\"\"\n"
     ],
     "output_type": "stream"
    },
    {
     "data": {
      "text/plain": "<matplotlib.collections.PathCollection at 0x7f3b5fabff28>"
     },
     "metadata": {},
     "output_type": "execute_result",
     "execution_count": 3
    },
    {
     "data": {
      "text/plain": "<Figure size 432x288 with 1 Axes>",
      "image/png": "[encoded data removed]"
     },
     "metadata": {
      "needs_background": "light"
     },
     "output_type": "display_data"
    }
   ],
   "source": [
    "df = pd.read_csv('../data.csv', sep=',', index_col='id')\n",
    "subjects = ['calculus', 'algebra', 'discrete', 'ode', 'complex', 'mechanics',\n",
    "            'prob_and_stat', 'pde', 'functional', 'optimization', 'random_proc', 'numerical']\n",
    "df['mean'] = df[subjects].mean(axis=1)\n",
    "df[df['year'] == 13]['ege'] = df['ege'] - 30\n",
    "df = df[:-40]\n",
    "\n",
    "df['k'] = [0.8] * 20 + [0.5] * 20 + [0.3] * 20\n",
    "\n",
    "df['round'] = np.rint(df['mean'].values)\n",
    "\n",
    "x = df[['k', 'ege']].values\n",
    "y = df['round'].values - 3\n",
    "\n",
    "x_optional = np.array([\n",
    "    [0.8, 243], [0.8, 239], [0.8, 237], [0.8, 235], [0.8, 234], [0.8, 233], [0.8, 232], [0.8, 231], \n",
    "    [0.8, 230], [0.8, 229], [0.8, 228], [0.8, 227], [0.8, 226], [0.8, 225], [0.8, 224], [0.8, 223], \n",
    "    [0.8, 222], [0.8, 221], [0.8, 220], [0.8, 219], \n",
    "    [0.5, 235], [0.5, 220], [0.5, 218], [0.5, 217], [0.5, 215], [0.5, 214], [0.5, 213], [0.5, 210], \n",
    "    [0.5, 209], [0.5, 207], [0.5, 206], [0.5, 205], [0.5, 203], [0.5, 200], [0.5, 199], [0.5, 195], \n",
    "    [0.5, 193], [0.5, 192], [0.5, 191], [0.5, 190], \n",
    "    [0.3, 244], [0.3, 222], [0.3, 215], [0.3, 213], [0.3, 211], [0.3, 209], [0.3, 206], [0.3, 205], \n",
    "    [0.3, 204], [0.3, 203], [0.3, 202], [0.3, 201], [0.3, 200], [0.3, 199], [0.3, 197], [0.3, 196], \n",
    "    [0.3, 194], [0.3, 193], [0.3, 191], [0.3, 191]\n",
    "])\n",
    "y_optional = np.array([\n",
    "    2,2,2,2,2,2,1,1,1,1,1,1,1,1,0,0,0,0,0,0,2,2,2,2,2,2,2,1,1,1,1,1,1,1,1,0,0,0,0,0,2,2,2,1,1,1,1,\n",
    "    1,1,1,1,1,1,1,1,0,0,0,0,0])\n",
    "\n",
    "x = np.concatenate((x, x_optional), axis=0)\n",
    "y = np.concatenate((y, y_optional), axis=0)\n",
    "\n",
    "plt.scatter(x[:, 1], y, marker='o')"
   ],
   "metadata": {
    "collapsed": false,
    "pycharm": {
     "name": "#%%\n",
     "is_executing": false
    }
   }
  },
  {
   "cell_type": "code",
   "execution_count": 5,
   "outputs": [
    {
     "name": "stdout",
     "text": [
      "WARNING:tensorflow:From /home/roman/PycharmProjects/Example/venv/lib/python3.7/site-packages/tensorflow/python/framework/op_def_library.py:263: colocate_with (from tensorflow.python.framework.ops) is deprecated and will be removed in a future version.\nInstructions for updating:\nColocations handled automatically by placer.\n"
     ],
     "output_type": "stream"
    }
   ],
   "source": [
    "max_features = 1024\n",
    "\n",
    "model = Sequential()\n",
    "model.add(Embedding(max_features, output_dim=256))\n",
    "model.add(LSTM(128))\n",
    "model.add(Dense(3, activation='sigmoid'))\n",
    "\n",
    "model.compile(loss='categorical_crossentropy',\n",
    "              optimizer='rmsprop',\n",
    "              metrics=['accuracy'])\n"
   ],
   "metadata": {
    "collapsed": false,
    "pycharm": {
     "name": "#%%\n",
     "is_executing": false
    }
   }
  },
  {
   "cell_type": "code",
   "execution_count": 6,
   "outputs": [
    {
     "name": "stdout",
     "text": [
      "WARNING:tensorflow:From /home/roman/PycharmProjects/Example/venv/lib/python3.7/site-packages/tensorflow/python/ops/math_ops.py:3066: to_int32 (from tensorflow.python.ops.math_ops) is deprecated and will be removed in a future version.\nInstructions for updating:\nUse tf.cast instead.\n",
      "Epoch 1/100\n",
      " - 0s - loss: 1.0802 - acc: 0.4833\n",
      "Epoch 2/100\n - 0s - loss: 1.0282 - acc: 0.4833\n",
      "Epoch 3/100\n - 0s - loss: 0.9747 - acc: 0.4833\n",
      "Epoch 4/100\n - 0s - loss: 0.9406 - acc: 0.4833\n",
      "Epoch 5/100\n",
      " - 0s - loss: 0.8948 - acc: 0.5083\n",
      "Epoch 6/100\n",
      " - 0s - loss: 0.8410 - acc: 0.5417\n",
      "Epoch 7/100\n",
      " - 0s - loss: 0.7735 - acc: 0.5917\n",
      "Epoch 8/100\n",
      " - 0s - loss: 0.6955 - acc: 0.7000\n",
      "Epoch 9/100\n",
      " - 0s - loss: 0.5976 - acc: 0.7833\n",
      "Epoch 10/100\n",
      " - 0s - loss: 0.5076 - acc: 0.7917\n",
      "Epoch 11/100\n",
      " - 0s - loss: 0.4432 - acc: 0.7667\n",
      "Epoch 12/100\n",
      " - 0s - loss: 0.4205 - acc: 0.7833\n",
      "Epoch 13/100\n",
      " - 0s - loss: 0.3997 - acc: 0.8000\n",
      "Epoch 14/100\n - 0s - loss: 0.3865 - acc: 0.8000\n",
      "Epoch 15/100\n",
      " - 0s - loss: 0.3788 - acc: 0.7833\n",
      "Epoch 16/100\n",
      " - 0s - loss: 0.3892 - acc: 0.7667\n",
      "Epoch 17/100\n",
      " - 0s - loss: 0.3723 - acc: 0.7917\n",
      "Epoch 18/100\n",
      " - 0s - loss: 0.3727 - acc: 0.7833\n",
      "Epoch 19/100\n - 0s - loss: 0.3607 - acc: 0.7917\n",
      "Epoch 20/100\n",
      " - 0s - loss: 0.3660 - acc: 0.7833\n",
      "Epoch 21/100\n",
      " - 0s - loss: 0.3555 - acc: 0.8083\n",
      "Epoch 22/100\n - 0s - loss: 0.3569 - acc: 0.7583\n",
      "Epoch 23/100\n - 0s - loss: 0.3691 - acc: 0.7667\n",
      "Epoch 24/100\n",
      " - 0s - loss: 0.3633 - acc: 0.8083\n",
      "Epoch 25/100\n",
      " - 0s - loss: 0.3506 - acc: 0.8250\n",
      "Epoch 26/100\n",
      " - 0s - loss: 0.3508 - acc: 0.8083\n",
      "Epoch 27/100\n",
      " - 0s - loss: 0.3606 - acc: 0.7833\n",
      "Epoch 28/100\n",
      " - 0s - loss: 0.3489 - acc: 0.7750\n",
      "Epoch 29/100\n",
      " - 0s - loss: 0.3491 - acc: 0.8167\n",
      "Epoch 30/100\n",
      " - 0s - loss: 0.3523 - acc: 0.7583\n",
      "Epoch 31/100\n",
      " - 0s - loss: 0.3468 - acc: 0.7833\n",
      "Epoch 32/100\n",
      " - 0s - loss: 0.3497 - acc: 0.7833\n",
      "Epoch 33/100\n - 0s - loss: 0.3408 - acc: 0.7667\n",
      "Epoch 34/100\n",
      " - 0s - loss: 0.3471 - acc: 0.7833\n",
      "Epoch 35/100\n",
      " - 0s - loss: 0.3506 - acc: 0.7667\n",
      "Epoch 36/100\n",
      " - 0s - loss: 0.3516 - acc: 0.7833\n",
      "Epoch 37/100\n",
      " - 0s - loss: 0.3434 - acc: 0.7667\n",
      "Epoch 38/100\n",
      " - 0s - loss: 0.3509 - acc: 0.7583\n",
      "Epoch 39/100\n",
      " - 0s - loss: 0.3415 - acc: 0.7500\n",
      "Epoch 40/100\n",
      " - 0s - loss: 0.3366 - acc: 0.7750\n",
      "Epoch 41/100\n",
      " - 0s - loss: 0.3470 - acc: 0.7833\n",
      "Epoch 42/100\n",
      " - 0s - loss: 0.3405 - acc: 0.8000\n",
      "Epoch 43/100\n",
      " - 0s - loss: 0.3424 - acc: 0.8167\n",
      "Epoch 44/100\n",
      " - 0s - loss: 0.3352 - acc: 0.7917\n",
      "Epoch 45/100\n",
      " - 0s - loss: 0.3363 - acc: 0.7833\n",
      "Epoch 46/100\n",
      " - 0s - loss: 0.3387 - acc: 0.8000\n",
      "Epoch 47/100\n",
      " - 0s - loss: 0.3357 - acc: 0.8000\n",
      "Epoch 48/100\n",
      " - 0s - loss: 0.3342 - acc: 0.7833\n",
      "Epoch 49/100\n",
      " - 0s - loss: 0.3336 - acc: 0.7833\n",
      "Epoch 50/100\n",
      " - 0s - loss: 0.3329 - acc: 0.7917\n",
      "Epoch 51/100\n",
      " - 0s - loss: 0.3387 - acc: 0.7917\n",
      "Epoch 52/100\n",
      " - 0s - loss: 0.3373 - acc: 0.7833\n",
      "Epoch 53/100\n",
      " - 0s - loss: 0.3332 - acc: 0.7833\n",
      "Epoch 54/100\n",
      " - 0s - loss: 0.3283 - acc: 0.7667\n",
      "Epoch 55/100\n",
      " - 0s - loss: 0.3333 - acc: 0.8000\n",
      "Epoch 56/100\n",
      " - 0s - loss: 0.3311 - acc: 0.7833\n",
      "Epoch 57/100\n",
      " - 0s - loss: 0.3320 - acc: 0.7667\n",
      "Epoch 58/100\n",
      " - 0s - loss: 0.3322 - acc: 0.8000\n",
      "Epoch 59/100\n - 0s - loss: 0.3319 - acc: 0.7750\n",
      "Epoch 60/100\n",
      " - 0s - loss: 0.3350 - acc: 0.7750\n",
      "Epoch 61/100\n - 0s - loss: 0.3301 - acc: 0.7917\n",
      "Epoch 62/100\n",
      " - 0s - loss: 0.3242 - acc: 0.7917\n",
      "Epoch 63/100\n",
      " - 0s - loss: 0.3344 - acc: 0.7750\n",
      "Epoch 64/100\n",
      " - 0s - loss: 0.3288 - acc: 0.7500\n",
      "Epoch 65/100\n",
      " - 0s - loss: 0.3263 - acc: 0.7833\n",
      "Epoch 66/100\n",
      " - 0s - loss: 0.3280 - acc: 0.7667\n",
      "Epoch 67/100\n",
      " - 0s - loss: 0.3271 - acc: 0.7833\n",
      "Epoch 68/100\n",
      " - 0s - loss: 0.3323 - acc: 0.7750\n",
      "Epoch 69/100\n",
      " - 0s - loss: 0.3258 - acc: 0.7917\n",
      "Epoch 70/100\n",
      " - 0s - loss: 0.3281 - acc: 0.7667\n",
      "Epoch 71/100\n",
      " - 0s - loss: 0.3267 - acc: 0.8000\n",
      "Epoch 72/100\n",
      " - 0s - loss: 0.3258 - acc: 0.7917\n",
      "Epoch 73/100\n",
      " - 0s - loss: 0.3273 - acc: 0.7833\n",
      "Epoch 74/100\n",
      " - 0s - loss: 0.3259 - acc: 0.7667\n",
      "Epoch 75/100\n - 0s - loss: 0.3276 - acc: 0.7750\n",
      "Epoch 76/100\n",
      " - 0s - loss: 0.3260 - acc: 0.7750\n",
      "Epoch 77/100\n",
      " - 0s - loss: 0.3246 - acc: 0.7833\n",
      "Epoch 78/100\n",
      " - 0s - loss: 0.3277 - acc: 0.7750\n",
      "Epoch 79/100\n",
      " - 0s - loss: 0.3284 - acc: 0.7917\n",
      "Epoch 80/100\n",
      " - 0s - loss: 0.3247 - acc: 0.7833\n",
      "Epoch 81/100\n",
      " - 0s - loss: 0.3263 - acc: 0.7667\n",
      "Epoch 82/100\n",
      " - 0s - loss: 0.3248 - acc: 0.7917\n",
      "Epoch 83/100\n",
      " - 0s - loss: 0.3303 - acc: 0.7833\n",
      "Epoch 84/100\n",
      " - 0s - loss: 0.3223 - acc: 0.7917\n",
      "Epoch 85/100\n",
      " - 0s - loss: 0.3221 - acc: 0.8167\n",
      "Epoch 86/100\n",
      " - 0s - loss: 0.3286 - acc: 0.7917\n",
      "Epoch 87/100\n",
      " - 0s - loss: 0.3247 - acc: 0.7750\n",
      "Epoch 88/100\n",
      " - 0s - loss: 0.3239 - acc: 0.7833\n",
      "Epoch 89/100\n",
      " - 0s - loss: 0.3221 - acc: 0.7917\n",
      "Epoch 90/100\n",
      " - 0s - loss: 0.3230 - acc: 0.7917\n",
      "Epoch 91/100\n",
      " - 0s - loss: 0.3267 - acc: 0.8083\n",
      "Epoch 92/100\n",
      " - 0s - loss: 0.3224 - acc: 0.8000\n",
      "Epoch 93/100\n",
      " - 0s - loss: 0.3217 - acc: 0.7833\n",
      "Epoch 94/100\n",
      " - 0s - loss: 0.3231 - acc: 0.7833\n",
      "Epoch 95/100\n",
      " - 0s - loss: 0.3247 - acc: 0.7750\n",
      "Epoch 96/100\n",
      " - 0s - loss: 0.3244 - acc: 0.7667\n",
      "Epoch 97/100\n",
      " - 0s - loss: 0.3225 - acc: 0.8167\n",
      "Epoch 98/100\n",
      " - 0s - loss: 0.3243 - acc: 0.7917\n",
      "Epoch 99/100\n",
      " - 0s - loss: 0.3217 - acc: 0.8000\n",
      "Epoch 100/100\n",
      " - 0s - loss: 0.3228 - acc: 0.7917\n"
     ],
     "output_type": "stream"
    }
   ],
   "source": [
    "one_hot_labels = keras.utils.to_categorical(y, num_classes=3)\n",
    "history = model.fit(x, one_hot_labels, epochs=100, batch_size=20, verbose=2, shuffle=True)\n"
   ],
   "metadata": {
    "collapsed": false,
    "pycharm": {
     "name": "#%%\n",
     "is_executing": false
    }
   }
  },
  {
   "cell_type": "code",
   "execution_count": 7,
   "outputs": [
    {
     "data": {
      "text/plain": "array([[0.8045, 0.007 , 0.8356],\n       [0.9978, 0.0006, 0.0005],\n       [0.0004, 0.9992, 0.0002],\n       [0.0039, 0.8535, 0.8717],\n       [0.0012, 0.0011, 0.9993],\n       [0.0024, 0.0021, 0.9988],\n       [0.316 , 0.6276, 0.1868],\n       [0.3408, 0.5641, 0.182 ]], dtype=float32)"
     },
     "metadata": {},
     "output_type": "execute_result",
     "execution_count": 7
    }
   ],
   "source": [
    "x_test = np.array([\n",
    "    [0.8, 220], [0.8, 224], [0.8, 230], [0.8, 234], [0.8, 240], [0.8, 245], [0.8, 250], [0.8, 260],\n",
    "    # [0.5, 190], [0.5, 195], [0.5, 200], [0.5, 205], [0.5, 210], [0.5, 215], [0.5, 220], [0.5, 225],\n",
    "    # [0.3, 190], [0.3, 195], [0.3, 200], [0.3, 205], [0.3, 210], [0.3, 215], [0.3, 220], [0.3, 225]\n",
    "    \n",
    "])\n",
    "classes = model.predict(x_test, batch_size=128)\n",
    "np.set_printoptions(precision=4, suppress=True)\n",
    "classes"
   ],
   "metadata": {
    "collapsed": false,
    "pycharm": {
     "name": "#%%\n",
     "is_executing": false
    }
   }
  },
  {
   "cell_type": "code",
   "execution_count": 8,
   "outputs": [
    {
     "data": {
      "text/plain": "<Figure size 432x288 with 1 Axes>",
      "image/png": "[encoded data removed]"
     },
     "metadata": {
      "needs_background": "light"
     },
     "output_type": "display_data"
    }
   ],
   "source": [
    "plt.plot(history.history['acc'])\n",
    "plt.title('Model accuracy')\n",
    "plt.ylabel('Accuracy')\n",
    "plt.xlabel('Epoch')\n",
    "plt.legend(['Train', 'Test'], loc='upper left')\n",
    "plt.show()"
   ],
   "metadata": {
    "collapsed": false,
    "pycharm": {
     "name": "#%%\n",
     "is_executing": false
    }
   }
  },
  {
   "cell_type": "code",
   "execution_count": 9,
   "outputs": [
    {
     "data": {
      "text/plain": "<Figure size 432x288 with 1 Axes>",
      "image/png": "[encoded data removed]"
     },
     "metadata": {
      "needs_background": "light"
     },
     "output_type": "display_data"
    }
   ],
   "source": [
    "plt.plot(history.history['loss'])\n",
    "plt.title('Model loss')\n",
    "plt.ylabel('Loss')\n",
    "plt.xlabel('Epoch')\n",
    "plt.legend(['Train', 'Test'], loc='upper left')\n",
    "plt.show()\n"
   ],
   "metadata": {
    "collapsed": false,
    "pycharm": {
     "name": "#%%\n",
     "is_executing": false
    }
   }
  },
  {
   "cell_type": "markdown",
   "source": [
    "#### пронозирование за 16 год\n"
   ],
   "metadata": {
    "collapsed": false
   }
  },
  {
   "cell_type": "code",
   "execution_count": 29,
   "outputs": [
    {
     "data": {
      "text/plain": "<Figure size 432x288 with 1 Axes>",
      "image/png": "[encoded data removed]"
     },
     "metadata": {
      "needs_background": "light"
     },
     "output_type": "display_data"
    }
   ],
   "source": [
    "df = pd.read_csv('../data.csv', sep=',', index_col='id')\n",
    "df['mean'] = df[subjects].mean(axis=1)\n",
    "\n",
    "df['k'] = [0.8] * 20 + [0.5] * 20 + [0.3] * 20 + [0.3] * 20 + [0.3] * 20 \n",
    "\n",
    "x_16 = df[df['year'] == 16][['k', 'ege']].values\n",
    "\n",
    "y_predicted = model.predict(x_16, batch_size=10)\n",
    "\n",
    "y = list(map(lambda y : y.argmax() + 3, y_predicted))\n",
    "\n",
    "marker_size = [100 for i in range(len(x))]\n",
    "plt.scatter(x_16[:, 1], y, marker='|', s=marker_size)\n",
    "\n",
    "plt.scatter(x_16[:, 1], np.round(df[df['year'] == 16]['mean']), color='red', marker='_', s=marker_size)\n",
    "\n",
    "plt.title('Поток 2016 года')\n",
    "plt.xlabel('Балл ЕГЭ')\n",
    "plt.ylabel('Средняя оценка')\n",
    "\n",
    "plt.legend(['Прогноз', 'Оригинал'])\n",
    "plt.yticks(np.arange(3, 6, 1))\n",
    "plt.savefig('16_pred_original.png', dpi=300)\n"
   ],
   "metadata": {
    "collapsed": false,
    "pycharm": {
     "name": "#%%\n",
     "is_executing": false
    }
   }
  },
  {
   "cell_type": "code",
   "execution_count": 31,
   "outputs": [
    {
     "data": {
      "text/plain": "<Figure size 432x288 with 1 Axes>",
      "image/png": "[encoded data removed]"
     },
     "metadata": {
      "needs_background": "light"
     },
     "output_type": "display_data"
    }
   ],
   "source": [
    "df = pd.read_csv('../data.csv', sep=',', index_col='id')\n",
    "df['mean'] = df[subjects].mean(axis=1)\n",
    "\n",
    "df['k'] = [0.8] * 20 + [0.5] * 20 + [0.3] * 20 + [0.3] * 20 + [0.3] * 20 \n",
    "\n",
    "x_17 = df[df['year'] == 17][['k', 'ege']].values\n",
    "\n",
    "y_predicted = model.predict(x_17, batch_size=10)\n",
    "\n",
    "y = list(map(lambda y : y.argmax() + 3, y_predicted))\n",
    "\n",
    "marker_size = [100 for i in range(len(x))]\n",
    "plt.scatter(x_17[:, 1], y, marker='|', s=marker_size)\n",
    "\n",
    "plt.scatter(x_17[:, 1], np.round(df[df['year'] == 17]['mean']), color='red', marker='_', s=marker_size)\n",
    "\n",
    "plt.title('Поток 2017 года')\n",
    "plt.xlabel('Балл ЕГЭ')\n",
    "plt.ylabel('Средняя оценка')\n",
    "\n",
    "plt.legend(['Прогноз', 'Оригинал'])\n",
    "plt.yticks(np.arange(3, 6, 1))\n",
    "plt.savefig('17_pred_original.png', dpi=300)\n"
   ],
   "metadata": {
    "collapsed": false,
    "pycharm": {
     "name": "#%%\n",
     "is_executing": false
    }
   }
  }
 ],
 "metadata": {
  "language_info": {
   "codemirror_mode": {
    "name": "ipython",
    "version": 2
   },
   "file_extension": ".py",
   "mimetype": "text/x-python",
   "name": "python",
   "nbconvert_exporter": "python",
   "pygments_lexer": "ipython2",
   "version": "2.7.6"
  },
  "kernelspec": {
   "name": "python3",
   "language": "python",
   "display_name": "Python 3"
  },
  "pycharm": {
   "stem_cell": {
    "cell_type": "raw",
    "source": [],
    "metadata": {
     "collapsed": false
    }
   }
  }
 },
 "nbformat": 4,
 "nbformat_minor": 0
}