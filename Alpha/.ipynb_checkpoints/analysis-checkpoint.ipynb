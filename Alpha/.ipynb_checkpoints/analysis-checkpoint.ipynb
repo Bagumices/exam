{
 "cells": [
  {
   "cell_type": "code",
   "execution_count": 8,
   "metadata": {},
   "outputs": [],
   "source": [
    "import pandas as pd\n",
    "import numpy as np\n",
    "import matplotlib.pyplot as plt\n",
    "\n",
    "%matplotlib inline"
   ]
  },
  {
   "cell_type": "code",
   "execution_count": 9,
   "metadata": {},
   "outputs": [],
   "source": [
    "df = pd.read_csv('data.csv', sep=',', index_col='id')\n",
    "\n",
    "subjects = ['calculus', 'algebra', 'discrete', 'ode', 'complex', 'programming',\n",
    "            'stat', 'pde', 'functional', 'variational', 'random_proc', 'numerical']\n",
    "years = [13, 14, 15, 16, 17]\n",
    "\n",
    "\n",
    "df['mean'] = df[subjects].mean(axis=1)\n",
    "\n",
    "# соотношение оценок по каждому году\n",
    "rating_stats_by_year = dict()\n",
    "\n",
    "df_for_each_course = [\n",
    "    df[['year', 'calculus', 'algebra', 'discrete']],\n",
    "    df[['year', 'ode', 'programming', 'complex']],\n",
    "    df[['year', 'stat', 'pde', 'functional']],\n",
    "    df[['year', 'variational', 'random_proc', 'numerical']]\n",
    "]\n",
    "i = 1\n",
    "\n",
    "for course in df_for_each_course:\n",
    "    rating_stats_by_year[i] = {}\n",
    "\n",
    "    for year in years:      \n",
    "        current_course_df = course[course['year'] == year].drop(columns=['year'])\n",
    "        current_course_df = current_course_df.apply(lambda x: x.value_counts())\n",
    "        current_course_df = current_course_df.sum(axis=1)\n",
    "        \n",
    "        if not current_course_df.empty:\n",
    "            current_course_df.index.astype(int)\n",
    "            rating_stats_by_year[i][year+1] = current_course_df\n",
    "\n",
    "    i += 1\n",
    "    \n",
    "ege_df = df[['year', 'ege']]\n",
    "# баллы ЕГЭ за каждый год\n",
    "ege_df_by_year = dict()\n",
    "\n",
    "for year in years:\n",
    "    year_df = ege_df[ege_df['year'] == year].drop(columns=['year'])\n",
    "    ege_df_by_year[\"20{}\".format(year)] = year_df['ege'].tolist()\n",
    "\n",
    "# средняя оценка по потокам\n",
    "mean_rating_by_flow = {}\n",
    "\n",
    "for year in years:\n",
    "    mean_rating_by_flow[int(\"20{}\".format(year))] = (df[df['year'] == year][['mean']].sum() / 20).values[0]"
   ]
  },
  {
   "cell_type": "markdown",
   "metadata": {},
   "source": [
    "### Динамика баллов ЕГЭ"
   ]
  },
  {
   "cell_type": "code",
   "execution_count": 11,
   "metadata": {},
   "outputs": [
    {
     "data": {
      "text/plain": [
       "[<matplotlib.axis.YTick at 0x7f9ac02db048>,\n",
       " <matplotlib.axis.YTick at 0x7f9ac02d3940>,\n",
       " <matplotlib.axis.YTick at 0x7f9abfc0af60>,\n",
       " <matplotlib.axis.YTick at 0x7f9abfbf1390>,\n",
       " <matplotlib.axis.YTick at 0x7f9abfbf17b8>,\n",
       " <matplotlib.axis.YTick at 0x7f9abfbf1d30>,\n",
       " <matplotlib.axis.YTick at 0x7f9abfbf82e8>,\n",
       " <matplotlib.axis.YTick at 0x7f9abfbf8860>,\n",
       " <matplotlib.axis.YTick at 0x7f9ac02cdac8>,\n",
       " <matplotlib.axis.YTick at 0x7f9abfbfd588>,\n",
       " <matplotlib.axis.YTick at 0x7f9abfbfd7b8>,\n",
       " <matplotlib.axis.YTick at 0x7f9abfbfdcc0>]"
      ]
     },
     "execution_count": 11,
     "metadata": {},
     "output_type": "execute_result"
    },
    {
     "data": {
      "image/png": "[encoded data removed]",
      "text/plain": [
       "<Figure size 648x432 with 1 Axes>"
      ]
     },
     "metadata": {
      "needs_background": "light"
     },
     "output_type": "display_data"
    }
   ],
   "source": [
    "box_props = dict(boxes='lightblue', whiskers=\"black\", medians=\"black\", caps=\"black\")\n",
    "ege_df = pd.DataFrame.from_dict(ege_df_by_year)\n",
    "ax = ege_df.plot.box(figsize=(9,6), color=box_props, patch_artist=True)\n",
    "ax.set_ylabel('баллы')\n",
    "ax.set_xlabel('год')\n",
    "ax.grid()\n",
    "ax.set_yticks(np.arange(190, 250, 5))\n",
    "plt.savefig('ege.png', dpi=300);"
   ]
  },
  {
   "cell_type": "code",
   "execution_count": null,
   "metadata": {},
   "outputs": [],
   "source": []
  }
 ],
 "metadata": {
  "kernelspec": {
   "display_name": "Python 3",
   "language": "python",
   "name": "python3"
  },
  "language_info": {
   "codemirror_mode": {
    "name": "ipython",
    "version": 3
   },
   "file_extension": ".py",
   "mimetype": "text/x-python",
   "name": "python",
   "nbconvert_exporter": "python",
   "pygments_lexer": "ipython3",
   "version": "3.7.3"
  }
 },
 "nbformat": 4,
 "nbformat_minor": 2
}
