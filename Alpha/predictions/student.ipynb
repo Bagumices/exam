{
 "cells": [
  {
   "cell_type": "code",
   "execution_count": 1,
   "metadata": {},
   "outputs": [
    {
     "name": "stderr",
     "output_type": "stream",
     "text": [
      "Using TensorFlow backend.\n"
     ]
    }
   ],
   "source": [
    "import numpy as np \n",
    "import matplotlib.pyplot as plt \n",
    "import pandas as pd \n",
    "import keras\n",
    "\n",
    "from keras.layers import Embedding\n",
    "from keras.layers import LSTM\n",
    "from keras.models import Sequential\n",
    "from keras.models import load_model\n",
    "from keras.layers import Dense, Dropout"
   ]
  },
  {
   "cell_type": "code",
   "execution_count": 36,
   "metadata": {},
   "outputs": [],
   "source": [
    "df = pd.read_csv('../datas.csv', sep=',', index_col='id')\n",
    "\n",
    "subjects = ['calculus', 'algebra', 'discrete', 'ode', 'complex', 'programming',\n",
    "            'stat', 'pde', 'functional', 'variational', 'random_proc', 'numerical']\n",
    "years = [13, 14, 15, 16, 17]\n",
    "\n",
    "df['course'] = [4] * 60 + [2] * 20 + [1] * 20\n",
    "df['mean'] = df[subjects].mean(axis=1)\n",
    "df['round'] = np.rint(df['mean'].values)\n",
    "\n",
    "df.loc[df['year'] == 13, 'k'] = 0.8\n",
    "df.loc[df['year'] == 14, 'k'] = 0.5\n",
    "df.loc[df['year'] >= 15, 'k'] = 0.3"
   ]
  },
  {
   "cell_type": "code",
   "execution_count": 53,
   "metadata": {},
   "outputs": [],
   "source": [
    "subject_courses = {\n",
    "    1: ['calculus', 'algebra', 'discrete'],\n",
    "    2: ['calculus', 'algebra', 'discrete', 'ode', 'complex', 'programming'],\n",
    "    3: ['calculus', 'algebra', 'discrete', 'ode', 'complex', 'programming', \n",
    "        'stat', 'pde', 'functional'],\n",
    "    4: ['calculus', 'algebra', 'discrete', 'ode', 'complex', 'programming', \n",
    "        'stat', 'pde', 'functional', 'variational', 'random_proc', 'numerical']\n",
    "}\n",
    "\n",
    "years = [13, 14, 15, 16, 17]\n",
    "train_data = []\n",
    "\n",
    "\n",
    "for index, row in df.iterrows():\n",
    "    for i in range(1, 4):\n",
    "        # [1] -> 2, [1,2] -> 3, [1, 2, 3] -> 4\n",
    "        \n",
    "        current_subjects = row[subject_courses[i]]\n",
    "        if current_subjects.isnull().values.any():\n",
    "            continue\n",
    "        \n",
    "        previous_mean = current_subjects.mean()\n",
    "        next_subjects = row[subject_courses[i+1]]\n",
    "        \n",
    "        if next_subjects.isnull().values.any():\n",
    "            continue\n",
    "            \n",
    "        next_mean = next_subjects.mean()\n",
    "\n",
    "        train_data.append(dict(\n",
    "            ege=row['ege'],\n",
    "            k=row['k'],\n",
    "            course=i,\n",
    "            prev_mean=previous_mean,\n",
    "            next_mean=next_mean,\n",
    "            year=row['year']\n",
    "        ))\n",
    "\n",
    "train_df = pd.DataFrame(train_data)\n",
    "\n",
    "x_train = train_df[['ege', 'k', 'prev_mean', 'course']].values\n",
    "y_train = train_df['next_mean'].values"
   ]
  },
  {
   "cell_type": "code",
   "execution_count": 4,
   "metadata": {},
   "outputs": [
    {
     "name": "stdout",
     "output_type": "stream",
     "text": [
      "WARNING:tensorflow:From /home/roman/PycharmProjects/Example/venv/lib/python3.7/site-packages/tensorflow/python/framework/op_def_library.py:263: colocate_with (from tensorflow.python.framework.ops) is deprecated and will be removed in a future version.\n",
      "Instructions for updating:\n",
      "Colocations handled automatically by placer.\n",
      "WARNING:tensorflow:From /home/roman/PycharmProjects/Example/venv/lib/python3.7/site-packages/keras/backend/tensorflow_backend.py:3445: calling dropout (from tensorflow.python.ops.nn_ops) with keep_prob is deprecated and will be removed in a future version.\n",
      "Instructions for updating:\n",
      "Please use `rate` instead of `keep_prob`. Rate should be set to `rate = 1 - keep_prob`.\n",
      "WARNING:tensorflow:From /home/roman/PycharmProjects/Example/venv/lib/python3.7/site-packages/tensorflow/python/ops/math_ops.py:3066: to_int32 (from tensorflow.python.ops.math_ops) is deprecated and will be removed in a future version.\n",
      "Instructions for updating:\n",
      "Use tf.cast instead.\n"
     ]
    }
   ],
   "source": [
    "# model = load_model('student_best_by_mean_prediction.h5')"
   ]
  },
  {
   "cell_type": "code",
   "execution_count": 151,
   "metadata": {},
   "outputs": [
    {
     "name": "stdout",
     "output_type": "stream",
     "text": [
      "_________________________________________________________________\n",
      "Layer (type)                 Output Shape              Param #   \n",
      "=================================================================\n",
      "embedding_24 (Embedding)     (None, None, 4)           1200      \n",
      "_________________________________________________________________\n",
      "lstm_24 (LSTM)               (None, 64)                17664     \n",
      "_________________________________________________________________\n",
      "dropout_4 (Dropout)          (None, 64)                0         \n",
      "_________________________________________________________________\n",
      "dense_23 (Dense)             (None, 1)                 65        \n",
      "=================================================================\n",
      "Total params: 18,929\n",
      "Trainable params: 18,929\n",
      "Non-trainable params: 0\n",
      "_________________________________________________________________\n"
     ]
    }
   ],
   "source": [
    "max_features = 300\n",
    "\n",
    "model = Sequential()\n",
    "model.add(Embedding(max_features, output_dim=4))\n",
    "model.add(LSTM(64))\n",
    "model.add(Dropout(0.5))\n",
    "model.add(Dense(1, activation='relu'))\n",
    "\n",
    "model.compile(loss='mse',\n",
    "              optimizer='rmsprop',\n",
    "              metrics=['mse'])\n",
    "model.summary()"
   ]
  },
  {
   "cell_type": "code",
   "execution_count": 152,
   "metadata": {},
   "outputs": [
    {
     "name": "stdout",
     "output_type": "stream",
     "text": [
      "Epoch 1/100\n",
      "200/200 [==============================] - 2s 9ms/step - loss: 14.4321 - mean_squared_error: 14.4321\n",
      "Epoch 2/100\n",
      "200/200 [==============================] - 0s 76us/step - loss: 14.0816 - mean_squared_error: 14.0816\n",
      "Epoch 3/100\n",
      "200/200 [==============================] - 0s 87us/step - loss: 13.7186 - mean_squared_error: 13.7186\n",
      "Epoch 4/100\n",
      "200/200 [==============================] - 0s 66us/step - loss: 13.3458 - mean_squared_error: 13.3458\n",
      "Epoch 5/100\n",
      "200/200 [==============================] - 0s 105us/step - loss: 12.8920 - mean_squared_error: 12.8920\n",
      "Epoch 6/100\n",
      "200/200 [==============================] - 0s 70us/step - loss: 12.3440 - mean_squared_error: 12.3440\n",
      "Epoch 7/100\n",
      "200/200 [==============================] - 0s 72us/step - loss: 11.7462 - mean_squared_error: 11.7462\n",
      "Epoch 8/100\n",
      "200/200 [==============================] - 0s 87us/step - loss: 11.0331 - mean_squared_error: 11.0331\n",
      "Epoch 9/100\n",
      "200/200 [==============================] - 0s 61us/step - loss: 10.1839 - mean_squared_error: 10.1839\n",
      "Epoch 10/100\n",
      "200/200 [==============================] - 0s 90us/step - loss: 9.2377 - mean_squared_error: 9.2377\n",
      "Epoch 11/100\n",
      "200/200 [==============================] - 0s 61us/step - loss: 8.2947 - mean_squared_error: 8.2947\n",
      "Epoch 12/100\n",
      "200/200 [==============================] - 0s 59us/step - loss: 6.9556 - mean_squared_error: 6.9556\n",
      "Epoch 13/100\n",
      "200/200 [==============================] - 0s 79us/step - loss: 5.7450 - mean_squared_error: 5.7450\n",
      "Epoch 14/100\n",
      "200/200 [==============================] - 0s 84us/step - loss: 4.4538 - mean_squared_error: 4.4538\n",
      "Epoch 15/100\n",
      "200/200 [==============================] - 0s 78us/step - loss: 3.4408 - mean_squared_error: 3.4408\n",
      "Epoch 16/100\n",
      "200/200 [==============================] - 0s 75us/step - loss: 2.4371 - mean_squared_error: 2.4371\n",
      "Epoch 17/100\n",
      "200/200 [==============================] - 0s 77us/step - loss: 1.6567 - mean_squared_error: 1.6567\n",
      "Epoch 18/100\n",
      "200/200 [==============================] - 0s 61us/step - loss: 1.0156 - mean_squared_error: 1.0156\n",
      "Epoch 19/100\n",
      "200/200 [==============================] - 0s 59us/step - loss: 0.7421 - mean_squared_error: 0.7421\n",
      "Epoch 20/100\n",
      "200/200 [==============================] - 0s 77us/step - loss: 0.6786 - mean_squared_error: 0.6786\n",
      "Epoch 21/100\n",
      "200/200 [==============================] - 0s 75us/step - loss: 0.5516 - mean_squared_error: 0.5516\n",
      "Epoch 22/100\n",
      "200/200 [==============================] - 0s 60us/step - loss: 0.6254 - mean_squared_error: 0.6254\n",
      "Epoch 23/100\n",
      "200/200 [==============================] - 0s 72us/step - loss: 0.5583 - mean_squared_error: 0.5583\n",
      "Epoch 24/100\n",
      "200/200 [==============================] - 0s 81us/step - loss: 0.4965 - mean_squared_error: 0.4965\n",
      "Epoch 25/100\n",
      "200/200 [==============================] - 0s 64us/step - loss: 0.5690 - mean_squared_error: 0.5690\n",
      "Epoch 26/100\n",
      "200/200 [==============================] - 0s 87us/step - loss: 0.4074 - mean_squared_error: 0.4074\n",
      "Epoch 27/100\n",
      "200/200 [==============================] - 0s 82us/step - loss: 0.4470 - mean_squared_error: 0.4470\n",
      "Epoch 28/100\n",
      "200/200 [==============================] - 0s 85us/step - loss: 0.4793 - mean_squared_error: 0.4793\n",
      "Epoch 29/100\n",
      "200/200 [==============================] - 0s 80us/step - loss: 0.5287 - mean_squared_error: 0.5287\n",
      "Epoch 30/100\n",
      "200/200 [==============================] - 0s 53us/step - loss: 0.4410 - mean_squared_error: 0.4410\n",
      "Epoch 31/100\n",
      "200/200 [==============================] - 0s 65us/step - loss: 0.4609 - mean_squared_error: 0.4609\n",
      "Epoch 32/100\n",
      "200/200 [==============================] - 0s 78us/step - loss: 0.4812 - mean_squared_error: 0.4812\n",
      "Epoch 33/100\n",
      "200/200 [==============================] - 0s 50us/step - loss: 0.4617 - mean_squared_error: 0.4617\n",
      "Epoch 34/100\n",
      "200/200 [==============================] - 0s 79us/step - loss: 0.4131 - mean_squared_error: 0.4131\n",
      "Epoch 35/100\n",
      "200/200 [==============================] - 0s 58us/step - loss: 0.3983 - mean_squared_error: 0.3983\n",
      "Epoch 36/100\n",
      "200/200 [==============================] - 0s 63us/step - loss: 0.4260 - mean_squared_error: 0.4260\n",
      "Epoch 37/100\n",
      "200/200 [==============================] - 0s 87us/step - loss: 0.5287 - mean_squared_error: 0.5287\n",
      "Epoch 38/100\n",
      "200/200 [==============================] - 0s 78us/step - loss: 0.4111 - mean_squared_error: 0.4111\n",
      "Epoch 39/100\n",
      "200/200 [==============================] - 0s 64us/step - loss: 0.4443 - mean_squared_error: 0.4443\n",
      "Epoch 40/100\n",
      "200/200 [==============================] - 0s 50us/step - loss: 0.3547 - mean_squared_error: 0.3547\n",
      "Epoch 41/100\n",
      "200/200 [==============================] - 0s 74us/step - loss: 0.3009 - mean_squared_error: 0.3009\n",
      "Epoch 42/100\n",
      "200/200 [==============================] - 0s 55us/step - loss: 0.4023 - mean_squared_error: 0.4023\n",
      "Epoch 43/100\n",
      "200/200 [==============================] - 0s 80us/step - loss: 0.3508 - mean_squared_error: 0.3508\n",
      "Epoch 44/100\n",
      "200/200 [==============================] - 0s 75us/step - loss: 0.3403 - mean_squared_error: 0.3403\n",
      "Epoch 45/100\n",
      "200/200 [==============================] - 0s 65us/step - loss: 0.3142 - mean_squared_error: 0.3142\n",
      "Epoch 46/100\n",
      "200/200 [==============================] - 0s 85us/step - loss: 0.4606 - mean_squared_error: 0.4606\n",
      "Epoch 47/100\n",
      "200/200 [==============================] - 0s 82us/step - loss: 0.3461 - mean_squared_error: 0.3461\n",
      "Epoch 48/100\n",
      "200/200 [==============================] - 0s 71us/step - loss: 0.3420 - mean_squared_error: 0.3420\n",
      "Epoch 49/100\n",
      "200/200 [==============================] - 0s 70us/step - loss: 0.3956 - mean_squared_error: 0.3956\n",
      "Epoch 50/100\n",
      "200/200 [==============================] - 0s 80us/step - loss: 0.3568 - mean_squared_error: 0.3568\n",
      "Epoch 51/100\n",
      "200/200 [==============================] - 0s 58us/step - loss: 0.2991 - mean_squared_error: 0.2991\n",
      "Epoch 52/100\n",
      "200/200 [==============================] - 0s 107us/step - loss: 0.3329 - mean_squared_error: 0.3329\n",
      "Epoch 53/100\n",
      "200/200 [==============================] - 0s 69us/step - loss: 0.3244 - mean_squared_error: 0.3244\n",
      "Epoch 54/100\n",
      "200/200 [==============================] - 0s 59us/step - loss: 0.2893 - mean_squared_error: 0.2893\n",
      "Epoch 55/100\n",
      "200/200 [==============================] - 0s 72us/step - loss: 0.2978 - mean_squared_error: 0.2978\n",
      "Epoch 56/100\n",
      "200/200 [==============================] - 0s 54us/step - loss: 0.3200 - mean_squared_error: 0.3200\n",
      "Epoch 57/100\n",
      "200/200 [==============================] - 0s 52us/step - loss: 0.3026 - mean_squared_error: 0.3026\n",
      "Epoch 58/100\n",
      "200/200 [==============================] - 0s 40us/step - loss: 0.2808 - mean_squared_error: 0.2808\n",
      "Epoch 59/100\n",
      "200/200 [==============================] - 0s 50us/step - loss: 0.2857 - mean_squared_error: 0.2857\n",
      "Epoch 60/100\n",
      "200/200 [==============================] - 0s 56us/step - loss: 0.2848 - mean_squared_error: 0.2848\n",
      "Epoch 61/100\n",
      "200/200 [==============================] - 0s 40us/step - loss: 0.3260 - mean_squared_error: 0.3260\n",
      "Epoch 62/100\n",
      "200/200 [==============================] - 0s 56us/step - loss: 0.3006 - mean_squared_error: 0.3006\n",
      "Epoch 63/100\n",
      "200/200 [==============================] - 0s 50us/step - loss: 0.3201 - mean_squared_error: 0.3201\n",
      "Epoch 64/100\n",
      "200/200 [==============================] - 0s 51us/step - loss: 0.2996 - mean_squared_error: 0.2996\n",
      "Epoch 65/100\n",
      "200/200 [==============================] - 0s 55us/step - loss: 0.2797 - mean_squared_error: 0.2797\n",
      "Epoch 66/100\n",
      "200/200 [==============================] - 0s 66us/step - loss: 0.2960 - mean_squared_error: 0.2960\n",
      "Epoch 67/100\n",
      "200/200 [==============================] - 0s 58us/step - loss: 0.2485 - mean_squared_error: 0.2485\n",
      "Epoch 68/100\n",
      "200/200 [==============================] - 0s 51us/step - loss: 0.3106 - mean_squared_error: 0.3106\n",
      "Epoch 69/100\n",
      "200/200 [==============================] - 0s 59us/step - loss: 0.2328 - mean_squared_error: 0.2328\n",
      "Epoch 70/100\n",
      "200/200 [==============================] - 0s 58us/step - loss: 0.2330 - mean_squared_error: 0.2330\n",
      "Epoch 71/100\n",
      "200/200 [==============================] - 0s 43us/step - loss: 0.2774 - mean_squared_error: 0.2774\n",
      "Epoch 72/100\n",
      "200/200 [==============================] - 0s 53us/step - loss: 0.2780 - mean_squared_error: 0.2780\n",
      "Epoch 73/100\n"
     ]
    },
    {
     "name": "stdout",
     "output_type": "stream",
     "text": [
      "200/200 [==============================] - 0s 42us/step - loss: 0.2711 - mean_squared_error: 0.2711\n",
      "Epoch 74/100\n",
      "200/200 [==============================] - 0s 57us/step - loss: 0.2911 - mean_squared_error: 0.2911\n",
      "Epoch 75/100\n",
      "200/200 [==============================] - 0s 54us/step - loss: 0.2990 - mean_squared_error: 0.2990\n",
      "Epoch 76/100\n",
      "200/200 [==============================] - 0s 65us/step - loss: 0.2681 - mean_squared_error: 0.2681\n",
      "Epoch 77/100\n",
      "200/200 [==============================] - 0s 44us/step - loss: 0.3237 - mean_squared_error: 0.3237\n",
      "Epoch 78/100\n",
      "200/200 [==============================] - 0s 54us/step - loss: 0.3320 - mean_squared_error: 0.3320\n",
      "Epoch 79/100\n",
      "200/200 [==============================] - 0s 50us/step - loss: 0.3256 - mean_squared_error: 0.3256\n",
      "Epoch 80/100\n",
      "200/200 [==============================] - 0s 40us/step - loss: 0.3012 - mean_squared_error: 0.3012\n",
      "Epoch 81/100\n",
      "200/200 [==============================] - 0s 51us/step - loss: 0.3055 - mean_squared_error: 0.3055\n",
      "Epoch 82/100\n",
      "200/200 [==============================] - 0s 42us/step - loss: 0.2878 - mean_squared_error: 0.2878\n",
      "Epoch 83/100\n",
      "200/200 [==============================] - 0s 48us/step - loss: 0.2998 - mean_squared_error: 0.2998\n",
      "Epoch 84/100\n",
      "200/200 [==============================] - 0s 51us/step - loss: 0.1983 - mean_squared_error: 0.1983\n",
      "Epoch 85/100\n",
      "200/200 [==============================] - 0s 44us/step - loss: 0.3090 - mean_squared_error: 0.3090\n",
      "Epoch 86/100\n",
      "200/200 [==============================] - 0s 50us/step - loss: 0.2274 - mean_squared_error: 0.2274\n",
      "Epoch 87/100\n",
      "200/200 [==============================] - 0s 33us/step - loss: 0.2704 - mean_squared_error: 0.2704\n",
      "Epoch 88/100\n",
      "200/200 [==============================] - 0s 47us/step - loss: 0.3002 - mean_squared_error: 0.3002\n",
      "Epoch 89/100\n",
      "200/200 [==============================] - 0s 39us/step - loss: 0.2956 - mean_squared_error: 0.2956\n",
      "Epoch 90/100\n",
      "200/200 [==============================] - 0s 47us/step - loss: 0.2481 - mean_squared_error: 0.2481\n",
      "Epoch 91/100\n",
      "200/200 [==============================] - 0s 38us/step - loss: 0.3429 - mean_squared_error: 0.3429\n",
      "Epoch 92/100\n",
      "200/200 [==============================] - ETA: 0s - loss: 0.3006 - mean_squared_error: 0.30 - 0s 51us/step - loss: 0.3169 - mean_squared_error: 0.3169\n",
      "Epoch 93/100\n",
      "200/200 [==============================] - 0s 55us/step - loss: 0.3089 - mean_squared_error: 0.3089\n",
      "Epoch 94/100\n",
      "200/200 [==============================] - 0s 46us/step - loss: 0.2799 - mean_squared_error: 0.2799\n",
      "Epoch 95/100\n",
      "200/200 [==============================] - 0s 53us/step - loss: 0.3192 - mean_squared_error: 0.3192\n",
      "Epoch 96/100\n",
      "200/200 [==============================] - 0s 53us/step - loss: 0.2659 - mean_squared_error: 0.2659\n",
      "Epoch 97/100\n",
      "200/200 [==============================] - 0s 46us/step - loss: 0.2126 - mean_squared_error: 0.2126\n",
      "Epoch 98/100\n",
      "200/200 [==============================] - 0s 59us/step - loss: 0.2804 - mean_squared_error: 0.2804\n",
      "Epoch 99/100\n",
      "200/200 [==============================] - 0s 53us/step - loss: 0.2896 - mean_squared_error: 0.2896\n",
      "Epoch 100/100\n",
      "200/200 [==============================] - 0s 42us/step - loss: 0.3138 - mean_squared_error: 0.3138\n"
     ]
    }
   ],
   "source": [
    "history = model.fit(x_train, y_train, epochs=100, batch_size=100, verbose=1, shuffle=True)"
   ]
  },
  {
   "cell_type": "code",
   "execution_count": 153,
   "metadata": {},
   "outputs": [
    {
     "data": {
      "image/png": "[encoded data removed]",
      "text/plain": [
       "<Figure size 432x288 with 1 Axes>"
      ]
     },
     "metadata": {
      "needs_background": "light"
     },
     "output_type": "display_data"
    }
   ],
   "source": [
    "plt.plot(history.history['mean_squared_error'], color='brown')\n",
    "plt.grid()\n",
    "plt.title('Точность модели на тренировочной выборке')\n",
    "plt.ylabel('Точность')\n",
    "plt.xlabel('Эпоха')\n",
    "plt.savefig('model_acc_stud.png', dpi=300)"
   ]
  },
  {
   "cell_type": "code",
   "execution_count": 141,
   "metadata": {},
   "outputs": [
    {
     "data": {
      "image/png": "[encoded data removed]",
      "text/plain": [
       "<Figure size 432x288 with 1 Axes>"
      ]
     },
     "metadata": {
      "needs_background": "light"
     },
     "output_type": "display_data"
    }
   ],
   "source": [
    "plt.plot(history.history['loss'], color='purple')\n",
    "plt.grid()\n",
    "plt.title('Значение функции потерь на тренировочной выборке')\n",
    "plt.ylabel('потеря')\n",
    "plt.xlabel('Эпоха')\n",
    "plt.savefig('model_loss_stud.png', dpi=300)"
   ]
  },
  {
   "cell_type": "markdown",
   "metadata": {},
   "source": [
    "### Прогнозирование для 2016 года 2 на  курс"
   ]
  },
  {
   "cell_type": "code",
   "execution_count": 142,
   "metadata": {},
   "outputs": [
    {
     "data": {
      "image/png": "[encoded data removed]",
      "text/plain": [
       "<Figure size 432x288 with 1 Axes>"
      ]
     },
     "metadata": {
      "needs_background": "light"
     },
     "output_type": "display_data"
    }
   ],
   "source": [
    "df_16 = train_df[train_df['year'] == 16][['ege', 'k', 'prev_mean', 'course', 'next_mean']]\n",
    "x_test_16 = df_16[['ege', 'k', 'prev_mean', 'course']].values\n",
    "y_test_16 = df_16['next_mean'].values\n",
    "\n",
    "y_predict_16 = model.predict(x_test_16)\n",
    "\n",
    "marker_size = [100 for i in range(len(x_test_16))]\n",
    "plt.scatter(x_test_16[:, 2], y_test_16, marker='|', color='green', s=marker_size)\n",
    "plt.scatter(x_test_16[:, 2], y_predict_16, marker='_', color='red', s=marker_size)\n",
    "\n",
    "plt.legend(['Оригинал', 'Прогноз'])\n",
    "\n",
    "plt.xticks(np.arange(3, 5.25, 0.25))\n",
    "plt.yticks(np.arange(3, 5.25, 0.25))\n",
    "\n",
    "plt.xlabel('Средняя оценка за предыдущие курсы')\n",
    "plt.ylabel('Средняя оценка за следующий курс')\n",
    "\n",
    "plt.savefig('16_1_to_2.png', dpi=300)"
   ]
  },
  {
   "cell_type": "markdown",
   "metadata": {},
   "source": [
    "### Прогнозирование для 15 года на 4 курс"
   ]
  },
  {
   "cell_type": "code",
   "execution_count": 133,
   "metadata": {},
   "outputs": [
    {
     "name": "stderr",
     "output_type": "stream",
     "text": [
      "/home/roman/PycharmProjects/Example/venv/lib/python3.7/site-packages/ipykernel_launcher.py:1: UserWarning: Boolean Series key will be reindexed to match DataFrame index.\n",
      "  \"\"\"Entry point for launching an IPython kernel.\n"
     ]
    },
    {
     "data": {
      "image/png": "[encoded data removed]",
      "text/plain": [
       "<Figure size 432x288 with 1 Axes>"
      ]
     },
     "metadata": {
      "needs_background": "light"
     },
     "output_type": "display_data"
    }
   ],
   "source": [
    "df_15 = train_df[train_df['year'] == 15][train_df['course']==3][['ege', 'k', 'prev_mean', 'course', 'next_mean']]\n",
    "x_test_15 = df_15[['ege', 'k', 'prev_mean', 'course']].values\n",
    "y_test_15 = df_15['next_mean'].values\n",
    "\n",
    "y_predict_15 = model.predict(x_test_15)\n",
    "\n",
    "marker_size = [100 for i in range(len(x_test_15))]\n",
    "plt.scatter(x_test_15[:, 2], y_test_15, marker='|', color='green', s=marker_size)\n",
    "plt.scatter(x_test_15[:, 2], y_predict_15, marker='_', color='red', s=marker_size)\n",
    "\n",
    "plt.legend(['Оригинал', 'Прогноз'])\n",
    "plt.xticks(np.arange(3, 5.25, 0.25))\n",
    "plt.yticks(np.arange(3, 5.25, 0.25))\n",
    "plt.xlabel('Средняя оценка за предыдущие курсы')\n",
    "plt.ylabel('Средняя оценка за следующий курс');"
   ]
  },
  {
   "cell_type": "markdown",
   "metadata": {},
   "source": [
    "### Рекуррентное применение модели для прогноза средней успеваемости потоков 2016 и 2017 года"
   ]
  },
  {
   "cell_type": "code",
   "execution_count": 154,
   "metadata": {},
   "outputs": [
    {
     "name": "stdout",
     "output_type": "stream",
     "text": [
      "id\n",
      "61    5.000000\n",
      "62    5.000000\n",
      "63    5.000000\n",
      "64    4.166667\n",
      "65    4.166667\n",
      "66    4.000000\n",
      "67    4.500000\n",
      "68    4.166667\n",
      "69    4.500000\n",
      "70    3.666667\n",
      "71    4.166667\n",
      "72    3.666667\n",
      "73    3.333333\n",
      "74    3.166667\n",
      "75    3.166667\n",
      "76    3.000000\n",
      "77    3.000000\n",
      "78    3.000000\n",
      "79    3.000000\n",
      "80    3.000000\n",
      "Name: prev_mean, dtype: float64\n",
      "id\n",
      "61    4.454691\n",
      "62    4.474194\n",
      "63    4.689369\n",
      "64    3.759385\n",
      "65    4.045276\n",
      "66    3.891833\n",
      "67    4.205786\n",
      "68    4.164430\n",
      "69    4.071756\n",
      "70    3.715938\n",
      "71    3.765553\n",
      "72    3.564116\n",
      "73    3.697009\n",
      "74    3.266806\n",
      "75    3.144987\n",
      "76    3.266806\n",
      "77    3.028860\n",
      "78    3.063514\n",
      "79    2.890319\n",
      "80    3.028860\n",
      "Name: prev_mean, dtype: float32\n",
      "id\n",
      "61    4.202425\n",
      "62    4.222026\n",
      "63    4.437600\n",
      "64    3.429658\n",
      "65    4.041903\n",
      "66    3.560733\n",
      "67    4.202425\n",
      "68    4.161072\n",
      "69    4.068397\n",
      "70    3.712542\n",
      "71    3.435770\n",
      "72    3.560733\n",
      "73    3.693612\n",
      "74    3.263435\n",
      "75    3.141633\n",
      "76    3.263435\n",
      "77    3.025515\n",
      "78    3.060167\n",
      "79    2.998450\n",
      "80    3.025515\n",
      "Name: prev_mean, dtype: float32\n"
     ]
    }
   ],
   "source": [
    "x_test_16 = df[df['year'] == 16].copy()\n",
    "x_test_16['prev_mean'] = x_test_16[subject_courses[2]].mean(axis=1)\n",
    "\n",
    "for i in range(1, 4):\n",
    "    x_test_16['course'] = i\n",
    "    print(x_test_16['prev_mean'])\n",
    "    y_predict = model.predict(x_test_16[['ege', 'k', 'prev_mean', 'course']].values)\n",
    "    x_test_16['prev_mean'] = y_predict\n",
    "\n",
    "x_test_17 = df[df['year'] == 17].copy()\n",
    "x_test_17['prev_mean'] = x_test_17[subject_courses[1]].mean(axis=1)\n",
    "x_test_17['course'] = 1\n",
    "x_test_17 = x_test_17[['ege', 'k', 'prev_mean', 'course']]\n",
    "\n",
    "\n",
    "for i in range(1, 4):\n",
    "    x_test_17['course'] = i\n",
    "    y_predict = model.predict(x_test_17[['ege', 'k', 'prev_mean', 'course']].values)\n",
    "    x_test_17['prev_mean'] = y_predict"
   ]
  },
  {
   "cell_type": "code",
   "execution_count": 155,
   "metadata": {},
   "outputs": [
    {
     "data": {
      "image/png": "[encoded data removed]",
      "text/plain": [
       "<Figure size 432x288 with 1 Axes>"
      ]
     },
     "metadata": {
      "needs_background": "light"
     },
     "output_type": "display_data"
    }
   ],
   "source": [
    "mean_rating_by_flow = {}\n",
    "\n",
    "for year in years:\n",
    "    mean_rating_by_flow[int(\"20{}\".format(year))] = (df[df['year'] == year][['mean']].sum() / 20).values[0]\n",
    "\n",
    "mean_rating_by_flow[int(\"20{}\".format(16))] = x_test_16['prev_mean'].mean()\n",
    "mean_rating_by_flow[int(\"20{}\".format(17))] = x_test_17['prev_mean'].mean()\n",
    "\n",
    "x = mean_rating_by_flow.keys()\n",
    "y = mean_rating_by_flow.values()\n",
    "plt.errorbar(x, y, marker='o')\n",
    "\n",
    "plt.ylabel('Средний балл')\n",
    "plt.xlabel('год')\n",
    "\n",
    "plt.xticks(np.arange(min(x), max(x)+1, 1))\n",
    "plt.yticks(np.arange(3, 5, 0.2))\n",
    "plt.grid()\n",
    "plt.savefig('mean_by_flow_with_prediction.png', dpi=300)"
   ]
  },
  {
   "cell_type": "code",
   "execution_count": 62,
   "metadata": {},
   "outputs": [],
   "source": [
    "# model.save('student_believable_by_mean_prediction.h5')"
   ]
  },
  {
   "cell_type": "code",
   "execution_count": null,
   "metadata": {},
   "outputs": [],
   "source": []
  }
 ],
 "metadata": {
  "kernelspec": {
   "display_name": "Python 3",
   "language": "python",
   "name": "python3"
  },
  "language_info": {
   "codemirror_mode": {
    "name": "ipython",
    "version": 3
   },
   "file_extension": ".py",
   "mimetype": "text/x-python",
   "name": "python",
   "nbconvert_exporter": "python",
   "pygments_lexer": "ipython3",
   "version": "3.7.3"
  }
 },
 "nbformat": 4,
 "nbformat_minor": 2
}
