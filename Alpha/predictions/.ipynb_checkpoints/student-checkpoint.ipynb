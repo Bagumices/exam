{
 "cells": [
  {
   "cell_type": "code",
   "execution_count": 1,
   "metadata": {},
   "outputs": [
    {
     "name": "stderr",
     "output_type": "stream",
     "text": [
      "Using TensorFlow backend.\n"
     ]
    }
   ],
   "source": [
    "import numpy as np \n",
    "import matplotlib.pyplot as plt \n",
    "import pandas as pd \n",
    "import keras\n",
    "\n",
    "from keras.layers import Embedding\n",
    "from keras.layers import LSTM\n",
    "from keras.models import Sequential\n",
    "from keras.models import load_model\n",
    "from keras.layers import Dense, Dropout"
   ]
  },
  {
   "cell_type": "code",
   "execution_count": 36,
   "metadata": {},
   "outputs": [],
   "source": [
    "df = pd.read_csv('../datas.csv', sep=',', index_col='id')\n",
    "\n",
    "subjects = ['calculus', 'algebra', 'discrete', 'ode', 'complex', 'programming',\n",
    "            'stat', 'pde', 'functional', 'variational', 'random_proc', 'numerical']\n",
    "years = [13, 14, 15, 16, 17]\n",
    "\n",
    "df['course'] = [4] * 60 + [2] * 20 + [1] * 20\n",
    "df['mean'] = df[subjects].mean(axis=1)\n",
    "df['round'] = np.rint(df['mean'].values)\n",
    "\n",
    "df.loc[df['year'] == 13, 'k'] = 0.8\n",
    "df.loc[df['year'] == 14, 'k'] = 0.5\n",
    "df.loc[df['year'] >= 15, 'k'] = 0.3"
   ]
  },
  {
   "cell_type": "code",
   "execution_count": 53,
   "metadata": {},
   "outputs": [],
   "source": [
    "subject_courses = {\n",
    "    1: ['calculus', 'algebra', 'discrete'],\n",
    "    2: ['calculus', 'algebra', 'discrete', 'ode', 'complex', 'programming'],\n",
    "    3: ['calculus', 'algebra', 'discrete', 'ode', 'complex', 'programming', \n",
    "        'stat', 'pde', 'functional'],\n",
    "    4: ['calculus', 'algebra', 'discrete', 'ode', 'complex', 'programming', \n",
    "        'stat', 'pde', 'functional', 'variational', 'random_proc', 'numerical']\n",
    "}\n",
    "\n",
    "years = [13, 14, 15, 16, 17]\n",
    "train_data = []\n",
    "\n",
    "\n",
    "for index, row in df.iterrows():\n",
    "    for i in range(1, 4):\n",
    "        # [1] -> 2, [1,2] -> 3, [1, 2, 3] -> 4\n",
    "        \n",
    "        current_subjects = row[subject_courses[i]]\n",
    "        if current_subjects.isnull().values.any():\n",
    "            continue\n",
    "        \n",
    "        previous_mean = current_subjects.mean()\n",
    "        next_subjects = row[subject_courses[i+1]]\n",
    "        \n",
    "        if next_subjects.isnull().values.any():\n",
    "            continue\n",
    "            \n",
    "        next_mean = next_subjects.mean()\n",
    "\n",
    "        train_data.append(dict(\n",
    "            ege=row['ege'],\n",
    "            k=row['k'],\n",
    "            course=i,\n",
    "            prev_mean=previous_mean,\n",
    "            next_mean=next_mean,\n",
    "            year=row['year']\n",
    "        ))\n",
    "\n",
    "train_df = pd.DataFrame(train_data)\n",
    "\n",
    "x_train = train_df[['ege', 'k', 'prev_mean', 'course']].values\n",
    "y_train = train_df['next_mean'].values"
   ]
  },
  {
   "cell_type": "code",
   "execution_count": 4,
   "metadata": {},
   "outputs": [
    {
     "name": "stdout",
     "output_type": "stream",
     "text": [
      "WARNING:tensorflow:From /home/roman/PycharmProjects/Example/venv/lib/python3.7/site-packages/tensorflow/python/framework/op_def_library.py:263: colocate_with (from tensorflow.python.framework.ops) is deprecated and will be removed in a future version.\n",
      "Instructions for updating:\n",
      "Colocations handled automatically by placer.\n",
      "WARNING:tensorflow:From /home/roman/PycharmProjects/Example/venv/lib/python3.7/site-packages/keras/backend/tensorflow_backend.py:3445: calling dropout (from tensorflow.python.ops.nn_ops) with keep_prob is deprecated and will be removed in a future version.\n",
      "Instructions for updating:\n",
      "Please use `rate` instead of `keep_prob`. Rate should be set to `rate = 1 - keep_prob`.\n",
      "WARNING:tensorflow:From /home/roman/PycharmProjects/Example/venv/lib/python3.7/site-packages/tensorflow/python/ops/math_ops.py:3066: to_int32 (from tensorflow.python.ops.math_ops) is deprecated and will be removed in a future version.\n",
      "Instructions for updating:\n",
      "Use tf.cast instead.\n"
     ]
    }
   ],
   "source": [
    "# model = load_model('student_best_by_mean_prediction.h5')"
   ]
  },
  {
   "cell_type": "code",
   "execution_count": 54,
   "metadata": {},
   "outputs": [],
   "source": [
    "max_features = 300\n",
    "\n",
    "model = Sequential()\n",
    "model.add(Embedding(max_features, output_dim=1))\n",
    "model.add(LSTM(64))\n",
    "model.add(Dense(1, activation='relu'))\n",
    "\n",
    "model.compile(loss='mse',\n",
    "              optimizer='rmsprop',\n",
    "              metrics=['accuracy'])"
   ]
  },
  {
   "cell_type": "code",
   "execution_count": 55,
   "metadata": {},
   "outputs": [
    {
     "name": "stdout",
     "output_type": "stream",
     "text": [
      "Epoch 1/100\n",
      "200/200 [==============================] - 1s 4ms/step - loss: 14.2621 - acc: 0.0000e+00\n",
      "Epoch 2/100\n",
      "200/200 [==============================] - 0s 154us/step - loss: 13.5915 - acc: 0.0000e+00\n",
      "Epoch 3/100\n",
      "200/200 [==============================] - 0s 122us/step - loss: 12.7211 - acc: 0.0000e+00\n",
      "Epoch 4/100\n",
      "200/200 [==============================] - 0s 115us/step - loss: 11.5615 - acc: 0.0000e+00\n",
      "Epoch 5/100\n",
      "200/200 [==============================] - 0s 89us/step - loss: 10.0520 - acc: 0.0000e+00\n",
      "Epoch 6/100\n",
      "200/200 [==============================] - 0s 107us/step - loss: 8.1686 - acc: 0.0000e+00\n",
      "Epoch 7/100\n",
      "200/200 [==============================] - 0s 127us/step - loss: 5.9760 - acc: 0.0000e+00\n",
      "Epoch 8/100\n",
      "200/200 [==============================] - 0s 115us/step - loss: 3.7445 - acc: 0.0000e+00\n",
      "Epoch 9/100\n",
      "200/200 [==============================] - 0s 62us/step - loss: 1.8962 - acc: 0.0200\n",
      "Epoch 10/100\n",
      "200/200 [==============================] - 0s 119us/step - loss: 0.8030 - acc: 0.0650\n",
      "Epoch 11/100\n",
      "200/200 [==============================] - 0s 102us/step - loss: 0.4237 - acc: 0.0600\n",
      "Epoch 12/100\n",
      "200/200 [==============================] - 0s 115us/step - loss: 0.3484 - acc: 0.0700\n",
      "Epoch 13/100\n",
      "200/200 [==============================] - 0s 131us/step - loss: 0.3291 - acc: 0.0700\n",
      "Epoch 14/100\n",
      "200/200 [==============================] - 0s 74us/step - loss: 0.3231 - acc: 0.0700\n",
      "Epoch 15/100\n",
      "200/200 [==============================] - 0s 79us/step - loss: 0.3092 - acc: 0.0700\n",
      "Epoch 16/100\n",
      "200/200 [==============================] - 0s 106us/step - loss: 0.3006 - acc: 0.0700\n",
      "Epoch 17/100\n",
      "200/200 [==============================] - 0s 101us/step - loss: 0.2904 - acc: 0.0750\n",
      "Epoch 18/100\n",
      "200/200 [==============================] - 0s 142us/step - loss: 0.2839 - acc: 0.0700\n",
      "Epoch 19/100\n",
      "200/200 [==============================] - 0s 76us/step - loss: 0.2861 - acc: 0.0850\n",
      "Epoch 20/100\n",
      "200/200 [==============================] - 0s 83us/step - loss: 0.2583 - acc: 0.0800\n",
      "Epoch 21/100\n",
      "200/200 [==============================] - 0s 123us/step - loss: 0.2498 - acc: 0.0950\n",
      "Epoch 22/100\n",
      "200/200 [==============================] - 0s 127us/step - loss: 0.2619 - acc: 0.0950\n",
      "Epoch 23/100\n",
      "200/200 [==============================] - 0s 91us/step - loss: 0.2386 - acc: 0.0900\n",
      "Epoch 24/100\n",
      "200/200 [==============================] - 0s 108us/step - loss: 0.2176 - acc: 0.1050\n",
      "Epoch 25/100\n",
      "200/200 [==============================] - 0s 118us/step - loss: 0.2109 - acc: 0.0950\n",
      "Epoch 26/100\n",
      "200/200 [==============================] - 0s 83us/step - loss: 0.2080 - acc: 0.1000\n",
      "Epoch 27/100\n",
      "200/200 [==============================] - 0s 97us/step - loss: 0.1856 - acc: 0.1100\n",
      "Epoch 28/100\n",
      "200/200 [==============================] - 0s 70us/step - loss: 0.1873 - acc: 0.1050\n",
      "Epoch 29/100\n",
      "200/200 [==============================] - 0s 75us/step - loss: 0.1615 - acc: 0.1100\n",
      "Epoch 30/100\n",
      "200/200 [==============================] - 0s 125us/step - loss: 0.1434 - acc: 0.1050\n",
      "Epoch 31/100\n",
      "200/200 [==============================] - 0s 102us/step - loss: 0.1545 - acc: 0.1200\n",
      "Epoch 32/100\n",
      "200/200 [==============================] - 0s 91us/step - loss: 0.1372 - acc: 0.1150\n",
      "Epoch 33/100\n",
      "200/200 [==============================] - 0s 137us/step - loss: 0.1243 - acc: 0.1150\n",
      "Epoch 34/100\n",
      "200/200 [==============================] - 0s 100us/step - loss: 0.1121 - acc: 0.1400\n",
      "Epoch 35/100\n",
      "200/200 [==============================] - 0s 145us/step - loss: 0.1024 - acc: 0.1350\n",
      "Epoch 36/100\n",
      "200/200 [==============================] - 0s 103us/step - loss: 0.1001 - acc: 0.1450\n",
      "Epoch 37/100\n",
      "200/200 [==============================] - 0s 133us/step - loss: 0.0858 - acc: 0.1450\n",
      "Epoch 38/100\n",
      "200/200 [==============================] - 0s 102us/step - loss: 0.0896 - acc: 0.1500\n",
      "Epoch 39/100\n",
      "200/200 [==============================] - 0s 92us/step - loss: 0.0909 - acc: 0.1600\n",
      "Epoch 40/100\n",
      "200/200 [==============================] - 0s 105us/step - loss: 0.0882 - acc: 0.1600\n",
      "Epoch 41/100\n",
      "200/200 [==============================] - 0s 99us/step - loss: 0.0808 - acc: 0.1750\n",
      "Epoch 42/100\n",
      "200/200 [==============================] - 0s 98us/step - loss: 0.0654 - acc: 0.2000\n",
      "Epoch 43/100\n",
      "200/200 [==============================] - 0s 117us/step - loss: 0.0866 - acc: 0.1800\n",
      "Epoch 44/100\n",
      "200/200 [==============================] - 0s 118us/step - loss: 0.0642 - acc: 0.2100\n",
      "Epoch 45/100\n",
      "200/200 [==============================] - 0s 99us/step - loss: 0.0650 - acc: 0.2050\n",
      "Epoch 46/100\n",
      "200/200 [==============================] - 0s 133us/step - loss: 0.0717 - acc: 0.2050\n",
      "Epoch 47/100\n",
      "200/200 [==============================] - 0s 128us/step - loss: 0.0487 - acc: 0.2150\n",
      "Epoch 48/100\n",
      "200/200 [==============================] - 0s 115us/step - loss: 0.0556 - acc: 0.2100\n",
      "Epoch 49/100\n",
      "200/200 [==============================] - 0s 94us/step - loss: 0.0524 - acc: 0.2200\n",
      "Epoch 50/100\n",
      "200/200 [==============================] - 0s 135us/step - loss: 0.0598 - acc: 0.2150\n",
      "Epoch 51/100\n",
      "200/200 [==============================] - 0s 109us/step - loss: 0.0629 - acc: 0.2250\n",
      "Epoch 52/100\n",
      "200/200 [==============================] - 0s 101us/step - loss: 0.0463 - acc: 0.2250\n",
      "Epoch 53/100\n",
      "200/200 [==============================] - 0s 135us/step - loss: 0.0511 - acc: 0.2100\n",
      "Epoch 54/100\n",
      "200/200 [==============================] - 0s 116us/step - loss: 0.0703 - acc: 0.2000\n",
      "Epoch 55/100\n",
      "200/200 [==============================] - 0s 81us/step - loss: 0.0424 - acc: 0.2250\n",
      "Epoch 56/100\n",
      "200/200 [==============================] - 0s 74us/step - loss: 0.0434 - acc: 0.2150\n",
      "Epoch 57/100\n",
      "200/200 [==============================] - 0s 73us/step - loss: 0.0439 - acc: 0.2200\n",
      "Epoch 58/100\n",
      "200/200 [==============================] - 0s 69us/step - loss: 0.0533 - acc: 0.2200\n",
      "Epoch 59/100\n",
      "200/200 [==============================] - 0s 79us/step - loss: 0.0807 - acc: 0.2100\n",
      "Epoch 60/100\n",
      "200/200 [==============================] - 0s 78us/step - loss: 0.0467 - acc: 0.2150\n",
      "Epoch 61/100\n",
      "200/200 [==============================] - 0s 107us/step - loss: 0.0410 - acc: 0.2150\n",
      "Epoch 62/100\n",
      "200/200 [==============================] - 0s 93us/step - loss: 0.0463 - acc: 0.2100\n",
      "Epoch 63/100\n",
      "200/200 [==============================] - 0s 84us/step - loss: 0.0548 - acc: 0.2200\n",
      "Epoch 64/100\n",
      "200/200 [==============================] - 0s 85us/step - loss: 0.0411 - acc: 0.2200\n",
      "Epoch 65/100\n",
      "200/200 [==============================] - 0s 83us/step - loss: 0.0381 - acc: 0.2200\n",
      "Epoch 66/100\n",
      "200/200 [==============================] - 0s 76us/step - loss: 0.0404 - acc: 0.2200\n",
      "Epoch 67/100\n",
      "200/200 [==============================] - 0s 81us/step - loss: 0.0845 - acc: 0.1900\n",
      "Epoch 68/100\n",
      "200/200 [==============================] - 0s 86us/step - loss: 0.0520 - acc: 0.2200\n",
      "Epoch 69/100\n",
      "200/200 [==============================] - 0s 93us/step - loss: 0.0372 - acc: 0.2250\n",
      "Epoch 70/100\n",
      "200/200 [==============================] - 0s 80us/step - loss: 0.0441 - acc: 0.2200\n",
      "Epoch 71/100\n",
      "200/200 [==============================] - 0s 67us/step - loss: 0.0482 - acc: 0.2150\n",
      "Epoch 72/100\n",
      "200/200 [==============================] - 0s 77us/step - loss: 0.0739 - acc: 0.2100\n",
      "Epoch 73/100\n",
      "200/200 [==============================] - 0s 83us/step - loss: 0.0365 - acc: 0.2250\n",
      "Epoch 74/100\n",
      "200/200 [==============================] - 0s 82us/step - loss: 0.0517 - acc: 0.2150\n",
      "Epoch 75/100\n",
      "200/200 [==============================] - 0s 76us/step - loss: 0.0657 - acc: 0.2050\n",
      "Epoch 76/100\n",
      "200/200 [==============================] - 0s 80us/step - loss: 0.0398 - acc: 0.2200\n",
      "Epoch 77/100\n",
      "200/200 [==============================] - 0s 78us/step - loss: 0.0373 - acc: 0.2250\n",
      "Epoch 78/100\n",
      "200/200 [==============================] - 0s 88us/step - loss: 0.0536 - acc: 0.2150\n",
      "Epoch 79/100\n",
      "200/200 [==============================] - 0s 73us/step - loss: 0.0379 - acc: 0.2250\n",
      "Epoch 80/100\n",
      "200/200 [==============================] - 0s 82us/step - loss: 0.0452 - acc: 0.2100\n",
      "Epoch 81/100\n",
      "200/200 [==============================] - 0s 106us/step - loss: 0.0616 - acc: 0.2150\n",
      "Epoch 82/100\n",
      "200/200 [==============================] - 0s 97us/step - loss: 0.0423 - acc: 0.2150\n",
      "Epoch 83/100\n"
     ]
    },
    {
     "name": "stdout",
     "output_type": "stream",
     "text": [
      "200/200 [==============================] - 0s 88us/step - loss: 0.0543 - acc: 0.2100\n",
      "Epoch 84/100\n",
      "200/200 [==============================] - 0s 97us/step - loss: 0.0453 - acc: 0.2200\n",
      "Epoch 85/100\n",
      "200/200 [==============================] - 0s 75us/step - loss: 0.0354 - acc: 0.2200\n",
      "Epoch 86/100\n",
      "200/200 [==============================] - 0s 71us/step - loss: 0.0470 - acc: 0.2250\n",
      "Epoch 87/100\n",
      "200/200 [==============================] - 0s 82us/step - loss: 0.0619 - acc: 0.2250\n",
      "Epoch 88/100\n",
      "200/200 [==============================] - 0s 76us/step - loss: 0.0363 - acc: 0.2200\n",
      "Epoch 89/100\n",
      "200/200 [==============================] - 0s 88us/step - loss: 0.0422 - acc: 0.2250\n",
      "Epoch 90/100\n",
      "200/200 [==============================] - 0s 72us/step - loss: 0.0593 - acc: 0.2150\n",
      "Epoch 91/100\n",
      "200/200 [==============================] - 0s 73us/step - loss: 0.0450 - acc: 0.2250\n",
      "Epoch 92/100\n",
      "200/200 [==============================] - 0s 77us/step - loss: 0.0448 - acc: 0.2200\n",
      "Epoch 93/100\n",
      "200/200 [==============================] - 0s 74us/step - loss: 0.0446 - acc: 0.2150\n",
      "Epoch 94/100\n",
      "200/200 [==============================] - 0s 74us/step - loss: 0.0546 - acc: 0.2200\n",
      "Epoch 95/100\n",
      "200/200 [==============================] - 0s 82us/step - loss: 0.0355 - acc: 0.2200\n",
      "Epoch 96/100\n",
      "200/200 [==============================] - 0s 52us/step - loss: 0.0377 - acc: 0.2200\n",
      "Epoch 97/100\n",
      "200/200 [==============================] - 0s 70us/step - loss: 0.0605 - acc: 0.2150\n",
      "Epoch 98/100\n",
      "200/200 [==============================] - 0s 81us/step - loss: 0.0386 - acc: 0.2200\n",
      "Epoch 99/100\n",
      "200/200 [==============================] - 0s 77us/step - loss: 0.0421 - acc: 0.2200\n",
      "Epoch 100/100\n",
      "200/200 [==============================] - 0s 76us/step - loss: 0.0584 - acc: 0.2250\n"
     ]
    }
   ],
   "source": [
    "history = model.fit(x_train, y_train, epochs=100, batch_size=50, verbose=1, shuffle=True)"
   ]
  },
  {
   "cell_type": "code",
   "execution_count": 56,
   "metadata": {},
   "outputs": [
    {
     "data": {
      "image/png": "[encoded data removed]",
      "text/plain": [
       "<Figure size 432x288 with 1 Axes>"
      ]
     },
     "metadata": {
      "needs_background": "light"
     },
     "output_type": "display_data"
    }
   ],
   "source": [
    "plt.plot(history.history['acc'], color='brown')\n",
    "plt.grid()\n",
    "plt.title('Точность модели на тренировочной выборке')\n",
    "plt.ylabel('Точность')\n",
    "plt.xlabel('Эпоха')\n",
    "plt.savefig('model_acc_stud.png', dpi=300)"
   ]
  },
  {
   "cell_type": "code",
   "execution_count": 57,
   "metadata": {},
   "outputs": [
    {
     "data": {
      "image/png": "[encoded data removed]",
      "text/plain": [
       "<Figure size 432x288 with 1 Axes>"
      ]
     },
     "metadata": {
      "needs_background": "light"
     },
     "output_type": "display_data"
    }
   ],
   "source": [
    "plt.plot(history.history['loss'], color='purple')\n",
    "plt.grid()\n",
    "plt.title('Значение функции потерь на тренировочной выборке')\n",
    "plt.ylabel('потеря')\n",
    "plt.xlabel('Эпоха')\n",
    "plt.savefig('model_loss_stud.png', dpi=300)"
   ]
  },
  {
   "cell_type": "markdown",
   "metadata": {},
   "source": [
    "### Прогнозирование для 2016 года 2 на  курс"
   ]
  },
  {
   "cell_type": "code",
   "execution_count": 58,
   "metadata": {},
   "outputs": [
    {
     "data": {
      "image/png": "[encoded data removed]",
      "text/plain": [
       "<Figure size 432x288 with 1 Axes>"
      ]
     },
     "metadata": {
      "needs_background": "light"
     },
     "output_type": "display_data"
    }
   ],
   "source": [
    "df_16 = train_df[train_df['year'] == 16][['ege', 'k', 'prev_mean', 'course', 'next_mean']]\n",
    "x_test_16 = df_16[['ege', 'k', 'prev_mean', 'course']].values\n",
    "y_test_16 = df_16['next_mean'].values\n",
    "\n",
    "y_predict_16 = model.predict(x_test_16)\n",
    "\n",
    "marker_size = [100 for i in range(len(x_test_16))]\n",
    "plt.scatter(x_test_16[:, 2], y_test_16, marker='|', color='green', s=marker_size)\n",
    "plt.scatter(x_test_16[:, 2], y_predict_16, marker='_', color='red', s=marker_size)\n",
    "\n",
    "plt.legend(['Оригинал', 'Прогноз'])\n",
    "\n",
    "plt.xticks(np.arange(3, 5.25, 0.25))\n",
    "plt.yticks(np.arange(3, 5.25, 0.25))\n",
    "\n",
    "plt.xlabel('Средняя оценка за предыдущие курсы')\n",
    "plt.ylabel('Средняя оценка за следующий курс')\n",
    "\n",
    "plt.savefig('16_1_to_2.png', dpi=300)"
   ]
  },
  {
   "cell_type": "markdown",
   "metadata": {},
   "source": [
    "### Прогнозирование для 15 года на 4 курс"
   ]
  },
  {
   "cell_type": "code",
   "execution_count": 59,
   "metadata": {},
   "outputs": [
    {
     "name": "stderr",
     "output_type": "stream",
     "text": [
      "/home/roman/PycharmProjects/Example/venv/lib/python3.7/site-packages/ipykernel_launcher.py:1: UserWarning: Boolean Series key will be reindexed to match DataFrame index.\n",
      "  \"\"\"Entry point for launching an IPython kernel.\n"
     ]
    },
    {
     "data": {
      "image/png": "[encoded data removed]",
      "text/plain": [
       "<Figure size 432x288 with 1 Axes>"
      ]
     },
     "metadata": {
      "needs_background": "light"
     },
     "output_type": "display_data"
    }
   ],
   "source": [
    "df_15 = train_df[train_df['year'] == 15][train_df['course']==3][['ege', 'k', 'prev_mean', 'course', 'next_mean']]\n",
    "x_test_15 = df_15[['ege', 'k', 'prev_mean', 'course']].values\n",
    "y_test_15 = df_15['next_mean'].values\n",
    "\n",
    "y_predict_15 = model.predict(x_test_15)\n",
    "\n",
    "marker_size = [100 for i in range(len(x_test_15))]\n",
    "plt.scatter(x_test_15[:, 2], y_test_15, marker='|', color='green', s=marker_size)\n",
    "plt.scatter(x_test_15[:, 2], y_predict_15, marker='_', color='red', s=marker_size)\n",
    "\n",
    "plt.legend(['Оригинал', 'Прогноз'])\n",
    "plt.xticks(np.arange(3, 5.25, 0.25))\n",
    "plt.yticks(np.arange(3, 5.25, 0.25))\n",
    "plt.xlabel('Средняя оценка за предыдущие курсы')\n",
    "plt.ylabel('Средняя оценка за следующий курс');"
   ]
  },
  {
   "cell_type": "markdown",
   "metadata": {},
   "source": [
    "### Рекуррентное применение модели для прогноза средней успеваемости потоков 2016 и 2017 года"
   ]
  },
  {
   "cell_type": "code",
   "execution_count": 60,
   "metadata": {},
   "outputs": [
    {
     "name": "stdout",
     "output_type": "stream",
     "text": [
      "id\n",
      "61    5.000000\n",
      "62    5.000000\n",
      "63    5.000000\n",
      "64    4.166667\n",
      "65    4.166667\n",
      "66    4.000000\n",
      "67    4.500000\n",
      "68    4.166667\n",
      "69    4.500000\n",
      "70    3.666667\n",
      "71    4.166667\n",
      "72    3.666667\n",
      "73    3.333333\n",
      "74    3.166667\n",
      "75    3.166667\n",
      "76    3.000000\n",
      "77    3.000000\n",
      "78    3.000000\n",
      "79    3.000000\n",
      "80    3.000000\n",
      "Name: prev_mean, dtype: float64\n",
      "id\n",
      "61    4.681418\n",
      "62    4.717706\n",
      "63    5.025723\n",
      "64    3.922861\n",
      "65    4.202240\n",
      "66    4.021148\n",
      "67    4.371137\n",
      "68    4.259193\n",
      "69    4.258642\n",
      "70    3.803546\n",
      "71    3.894992\n",
      "72    3.615237\n",
      "73    3.794899\n",
      "74    3.366376\n",
      "75    3.359452\n",
      "76    3.366376\n",
      "77    3.184005\n",
      "78    3.211392\n",
      "79    3.074853\n",
      "80    3.184005\n",
      "Name: prev_mean, dtype: float32\n",
      "id\n",
      "61    4.385114\n",
      "62    4.421241\n",
      "63    5.039423\n",
      "64    3.532871\n",
      "65    4.216253\n",
      "66    4.035185\n",
      "67    4.385114\n",
      "68    4.273195\n",
      "69    4.272644\n",
      "70    3.817622\n",
      "71    3.505560\n",
      "72    3.629297\n",
      "73    3.808974\n",
      "74    3.380387\n",
      "75    3.373461\n",
      "76    3.380387\n",
      "77    3.197955\n",
      "78    3.225353\n",
      "79    3.088758\n",
      "80    3.197955\n",
      "Name: prev_mean, dtype: float32\n"
     ]
    }
   ],
   "source": [
    "x_test_16 = df[df['year'] == 16].copy()\n",
    "x_test_16['prev_mean'] = x_test_16[subject_courses[2]].mean(axis=1)\n",
    "\n",
    "for i in range(1, 4):\n",
    "    x_test_16['course'] = i\n",
    "    print(x_test_16['prev_mean'])\n",
    "    y_predict = model.predict(x_test_16[['ege', 'k', 'prev_mean', 'course']].values)\n",
    "    x_test_16['prev_mean'] = y_predict\n",
    "\n",
    "x_test_17 = df[df['year'] == 17].copy()\n",
    "x_test_17['prev_mean'] = x_test_17[subject_courses[1]].mean(axis=1)\n",
    "x_test_17['course'] = 1\n",
    "x_test_17 = x_test_17[['ege', 'k', 'prev_mean', 'course']]\n",
    "\n",
    "\n",
    "for i in range(1, 4):\n",
    "    x_test_17['course'] = i\n",
    "    y_predict = model.predict(x_test_17[['ege', 'k', 'prev_mean', 'course']].values)\n",
    "    x_test_17['prev_mean'] = y_predict"
   ]
  },
  {
   "cell_type": "code",
   "execution_count": 61,
   "metadata": {},
   "outputs": [
    {
     "data": {
      "image/png": "[encoded data removed]",
      "text/plain": [
       "<Figure size 432x288 with 1 Axes>"
      ]
     },
     "metadata": {
      "needs_background": "light"
     },
     "output_type": "display_data"
    }
   ],
   "source": [
    "mean_rating_by_flow = {}\n",
    "\n",
    "for year in years:\n",
    "    mean_rating_by_flow[int(\"20{}\".format(year))] = (df[df['year'] == year][['mean']].sum() / 20).values[0]\n",
    "\n",
    "mean_rating_by_flow[int(\"20{}\".format(16))] = x_test_16['prev_mean'].mean()\n",
    "mean_rating_by_flow[int(\"20{}\".format(17))] = x_test_17['prev_mean'].mean()\n",
    "\n",
    "x = mean_rating_by_flow.keys()\n",
    "y = mean_rating_by_flow.values()\n",
    "plt.errorbar(x, y, marker='o')\n",
    "\n",
    "plt.ylabel('Средний балл')\n",
    "plt.xlabel('год')\n",
    "\n",
    "plt.xticks(np.arange(min(x), max(x)+1, 1))\n",
    "plt.yticks(np.arange(3, 5, 0.2))\n",
    "plt.grid()\n",
    "plt.savefig('mean_by_flow_with_prediction.png', dpi=300)"
   ]
  },
  {
   "cell_type": "code",
   "execution_count": 62,
   "metadata": {},
   "outputs": [],
   "source": [
    "# model.save('student_believable_by_mean_prediction.h5')"
   ]
  },
  {
   "cell_type": "code",
   "execution_count": null,
   "metadata": {},
   "outputs": [],
   "source": []
  }
 ],
 "metadata": {
  "kernelspec": {
   "display_name": "Python 3",
   "language": "python",
   "name": "python3"
  },
  "language_info": {
   "codemirror_mode": {
    "name": "ipython",
    "version": 3
   },
   "file_extension": ".py",
   "mimetype": "text/x-python",
   "name": "python",
   "nbconvert_exporter": "python",
   "pygments_lexer": "ipython3",
   "version": "3.7.3"
  }
 },
 "nbformat": 4,
 "nbformat_minor": 2
}
