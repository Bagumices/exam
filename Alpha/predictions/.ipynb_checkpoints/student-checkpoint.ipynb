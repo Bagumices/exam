{
 "cells": [
  {
   "cell_type": "code",
   "execution_count": 1,
   "metadata": {},
   "outputs": [
    {
     "name": "stderr",
     "output_type": "stream",
     "text": [
      "Using TensorFlow backend.\n"
     ]
    }
   ],
   "source": [
    "import numpy as np \n",
    "import matplotlib.pyplot as plt \n",
    "import pandas as pd \n",
    "import keras\n",
    "\n",
    "from keras.layers import Embedding\n",
    "from keras.layers import LSTM\n",
    "from keras.models import Sequential\n",
    "from keras.models import load_model\n",
    "from keras.layers import Dense, Dropout\n",
    "\n",
    "np.set_printoptions(precision=4, suppress=True)"
   ]
  },
  {
   "cell_type": "code",
   "execution_count": 2,
   "metadata": {},
   "outputs": [],
   "source": [
    "df = pd.read_csv('../datas.csv', sep=',', index_col='id')\n",
    "\n",
    "subjects = ['calculus', 'algebra', 'discrete', 'ode', 'complex', 'programming',\n",
    "            'stat', 'pde', 'functional', 'variational', 'random_proc', 'numerical']\n",
    "years = [13, 14, 15, 16, 17]\n",
    "\n",
    "df['course'] = [4] * 60 + [2] * 20 + [1] * 20\n",
    "df['mean'] = df[subjects].mean(axis=1)\n",
    "df['round'] = np.rint(df['mean'].values)\n",
    "\n",
    "df.loc[df['year'] == 13, 'k'] = 0.8\n",
    "df.loc[df['year'] == 14, 'k'] = 0.5\n",
    "df.loc[df['year'] >= 15, 'k'] = 0.3\n",
    "\n",
    "courses = {\n",
    "    1: ['calculus', 'algebra', 'discrete'],\n",
    "    2: ['ode', 'programming', 'complex'],\n",
    "    3: ['stat', 'pde', 'functional'],\n",
    "    4: ['variational', 'random_proc', 'numerical']\n",
    "}"
   ]
  },
  {
   "cell_type": "code",
   "execution_count": 3,
   "metadata": {},
   "outputs": [],
   "source": [
    "subject_courses = {\n",
    "    1: ['calculus', 'algebra', 'discrete'],\n",
    "    2: ['calculus', 'algebra', 'discrete', 'ode', 'complex', 'programming'],\n",
    "    3: ['calculus', 'algebra', 'discrete', 'ode', 'complex', 'programming', \n",
    "        'stat', 'pde', 'functional'],\n",
    "    4: ['calculus', 'algebra', 'discrete', 'ode', 'complex', 'programming', \n",
    "        'stat', 'pde', 'functional', 'variational', 'random_proc', 'numerical']\n",
    "}\n",
    "\n",
    "years = [13, 14, 15, 16, 17]\n",
    "train_data = []\n",
    "\n",
    "\n",
    "for index, row in df.iterrows():\n",
    "    for i in range(1, 4):\n",
    "        # [1] -> 2, [1,2] -> 3, [1, 2, 3] -> 4\n",
    "        \n",
    "        current_subjects = row[subject_courses[i]]\n",
    "        if current_subjects.isnull().values.any():\n",
    "            continue\n",
    "        \n",
    "        previous_mean = current_subjects.mean()\n",
    "        next_subjects = row[subject_courses[i+1]]\n",
    "        \n",
    "        if next_subjects.isnull().values.any():\n",
    "            continue\n",
    "            \n",
    "        next_mean = next_subjects.mean()\n",
    "\n",
    "        train_data.append(dict(\n",
    "            ege=row['ege'],\n",
    "            k=row['k'],\n",
    "            course=i,\n",
    "            prev_mean=previous_mean,\n",
    "            next_mean=next_mean,\n",
    "            year=row['year']\n",
    "        ))\n",
    "\n",
    "train_df = pd.DataFrame(train_data)\n",
    "\n",
    "x_train = train_df[['ege', 'k', 'prev_mean', 'course']].values\n",
    "y_train = train_df['next_mean'].values"
   ]
  },
  {
   "cell_type": "code",
   "execution_count": 4,
   "metadata": {},
   "outputs": [
    {
     "name": "stdout",
     "output_type": "stream",
     "text": [
      "WARNING:tensorflow:From /home/roman/PycharmProjects/exam/venv/lib/python3.7/site-packages/tensorflow/python/framework/op_def_library.py:263: colocate_with (from tensorflow.python.framework.ops) is deprecated and will be removed in a future version.\n",
      "Instructions for updating:\n",
      "Colocations handled automatically by placer.\n",
      "WARNING:tensorflow:From /home/roman/PycharmProjects/exam/venv/lib/python3.7/site-packages/keras/backend/tensorflow_backend.py:3445: calling dropout (from tensorflow.python.ops.nn_ops) with keep_prob is deprecated and will be removed in a future version.\n",
      "Instructions for updating:\n",
      "Please use `rate` instead of `keep_prob`. Rate should be set to `rate = 1 - keep_prob`.\n",
      "WARNING:tensorflow:From /home/roman/PycharmProjects/exam/venv/lib/python3.7/site-packages/tensorflow/python/ops/math_ops.py:3066: to_int32 (from tensorflow.python.ops.math_ops) is deprecated and will be removed in a future version.\n",
      "Instructions for updating:\n",
      "Use tf.cast instead.\n",
      "_________________________________________________________________\n",
      "Layer (type)                 Output Shape              Param #   \n",
      "=================================================================\n",
      "embedding_18 (Embedding)     (None, None, 1)           1024      \n",
      "_________________________________________________________________\n",
      "lstm_19 (LSTM)               (None, 128)               66560     \n",
      "_________________________________________________________________\n",
      "dropout_7 (Dropout)          (None, 128)               0         \n",
      "_________________________________________________________________\n",
      "dense_30 (Dense)             (None, 32)                4128      \n",
      "_________________________________________________________________\n",
      "dense_31 (Dense)             (None, 16)                528       \n",
      "_________________________________________________________________\n",
      "dense_32 (Dense)             (None, 1)                 17        \n",
      "=================================================================\n",
      "Total params: 72,257\n",
      "Trainable params: 72,257\n",
      "Non-trainable params: 0\n",
      "_________________________________________________________________\n"
     ]
    }
   ],
   "source": [
    "model = load_model('student_best_by_mean_prediction.h5')\n",
    "model.summary()"
   ]
  },
  {
   "cell_type": "code",
   "execution_count": 34,
   "metadata": {},
   "outputs": [
    {
     "name": "stdout",
     "output_type": "stream",
     "text": [
      "_________________________________________________________________\n",
      "Layer (type)                 Output Shape              Param #   \n",
      "=================================================================\n",
      "embedding_7 (Embedding)      (None, None, 4)           1200      \n",
      "_________________________________________________________________\n",
      "lstm_7 (LSTM)                (None, 128)               68096     \n",
      "_________________________________________________________________\n",
      "dense_7 (Dense)              (None, 32)                4128      \n",
      "_________________________________________________________________\n",
      "dense_8 (Dense)              (None, 16)                528       \n",
      "_________________________________________________________________\n",
      "dense_9 (Dense)              (None, 1)                 17        \n",
      "=================================================================\n",
      "Total params: 73,969\n",
      "Trainable params: 73,969\n",
      "Non-trainable params: 0\n",
      "_________________________________________________________________\n"
     ]
    }
   ],
   "source": [
    "# max_features = 300\n",
    "\n",
    "# model = Sequential()\n",
    "# model.add(Embedding(max_features, output_dim=4))\n",
    "# model.add(LSTM(128))\n",
    "# # model.add(Dropout(0.5))\n",
    "# model.add(Dense(32, activation='tanh'))\n",
    "# model.add(Dense(16, activation='relu'))\n",
    "# model.add(Dense(1, activation='relu'))\n",
    "\n",
    "# model.compile(loss='mse',\n",
    "#               optimizer='rmsprop',\n",
    "#               metrics=['mae'])\n",
    "# model.summary()"
   ]
  },
  {
   "cell_type": "code",
   "execution_count": 5,
   "metadata": {},
   "outputs": [],
   "source": [
    "# history = model.fit(x_train, y_train, epochs=200, batch_size=40, verbose=1, shuffle=True)"
   ]
  },
  {
   "cell_type": "code",
   "execution_count": 45,
   "metadata": {},
   "outputs": [
    {
     "data": {
      "image/png": "[encoded data removed]",
      "text/plain": [
       "<Figure size 432x288 with 1 Axes>"
      ]
     },
     "metadata": {
      "needs_background": "light"
     },
     "output_type": "display_data"
    }
   ],
   "source": [
    "plt.plot(history.history['mean_absolute_error'], color='brown')\n",
    "plt.grid()\n",
    "plt.title('Точность модели на тренировочной выборке')\n",
    "plt.ylabel('Точность')\n",
    "plt.xlabel('Эпоха')\n",
    "plt.savefig('model_acc_stud.png', dpi=300)"
   ]
  },
  {
   "cell_type": "code",
   "execution_count": 46,
   "metadata": {},
   "outputs": [
    {
     "data": {
      "image/png": "[encoded data removed]",
      "text/plain": [
       "<Figure size 432x288 with 1 Axes>"
      ]
     },
     "metadata": {
      "needs_background": "light"
     },
     "output_type": "display_data"
    }
   ],
   "source": [
    "plt.plot(history.history['loss'], color='purple')\n",
    "plt.grid()\n",
    "plt.title('Значение функции потерь на тренировочной выборке')\n",
    "plt.ylabel('потеря')\n",
    "plt.xlabel('Эпоха')\n",
    "plt.savefig('model_loss_stud.png', dpi=300)"
   ]
  },
  {
   "cell_type": "markdown",
   "metadata": {},
   "source": [
    "### Прогнозирование для 2016 года 2 на  курс"
   ]
  },
  {
   "cell_type": "code",
   "execution_count": 6,
   "metadata": {},
   "outputs": [
    {
     "name": "stdout",
     "output_type": "stream",
     "text": [
      "20/20 [==============================] - 0s 6ms/step\n",
      "[0.05084625631570816, 0.44999998807907104]\n"
     ]
    },
    {
     "data": {
      "image/png": "[encoded data removed]",
      "text/plain": [
       "<Figure size 432x288 with 1 Axes>"
      ]
     },
     "metadata": {
      "needs_background": "light"
     },
     "output_type": "display_data"
    }
   ],
   "source": [
    "df_16 = train_df[train_df['year'] == 16][['ege', 'k', 'prev_mean', 'course', 'next_mean']]\n",
    "x_test_16 = df_16[['ege', 'k', 'prev_mean', 'course']].values\n",
    "y_test_16 = df_16['next_mean'].values\n",
    "\n",
    "y_predict_16 = model.predict(x_test_16)\n",
    "\n",
    "marker_size = [100 for i in range(len(x_test_16))]\n",
    "plt.scatter(x_test_16[:, 2], y_test_16, marker='|', color='green', s=marker_size)\n",
    "plt.scatter(x_test_16[:, 2], y_predict_16, marker='_', color='red', s=marker_size)\n",
    "\n",
    "plt.legend(['Оригинал', 'Прогноз'])\n",
    "\n",
    "plt.xticks(np.arange(3, 5.25, 0.25))\n",
    "plt.yticks(np.arange(3, 5.25, 0.25))\n",
    "\n",
    "plt.xlabel('Средняя оценка за предыдущие курсы')\n",
    "plt.ylabel('Средняя оценка за следующий курс')\n",
    "\n",
    "plt.savefig('16_1_to_2.png', dpi=300)\n",
    "loss_and_metrics = model.evaluate(x_test_16, y_test_16)\n",
    "print(loss_and_metrics)"
   ]
  },
  {
   "cell_type": "markdown",
   "metadata": {},
   "source": [
    "### Прогнозирование для 15 года на 4 курс"
   ]
  },
  {
   "cell_type": "code",
   "execution_count": 7,
   "metadata": {},
   "outputs": [
    {
     "name": "stderr",
     "output_type": "stream",
     "text": [
      "/home/roman/PycharmProjects/exam/venv/lib/python3.7/site-packages/ipykernel_launcher.py:1: UserWarning: Boolean Series key will be reindexed to match DataFrame index.\n",
      "  \"\"\"Entry point for launching an IPython kernel.\n"
     ]
    },
    {
     "data": {
      "image/png": "[encoded data removed]",
      "text/plain": [
       "<Figure size 432x288 with 1 Axes>"
      ]
     },
     "metadata": {
      "needs_background": "light"
     },
     "output_type": "display_data"
    }
   ],
   "source": [
    "df_15 = train_df[train_df['year'] == 15][train_df['course']==3][['ege', 'k', 'prev_mean', 'course', 'next_mean']]\n",
    "x_test_15 = df_15[['ege', 'k', 'prev_mean', 'course']].values\n",
    "y_test_15 = df_15['next_mean'].values\n",
    "\n",
    "y_predict_15 = model.predict(x_test_15)\n",
    "\n",
    "marker_size = [100 for i in range(len(x_test_15))]\n",
    "plt.scatter(x_test_15[:, 2], y_test_15, marker='|', color='green', s=marker_size)\n",
    "plt.scatter(x_test_15[:, 2], y_predict_15, marker='_', color='red', s=marker_size)\n",
    "\n",
    "plt.legend(['Оригинал', 'Прогноз'])\n",
    "plt.xticks(np.arange(3, 5.25, 0.25))\n",
    "plt.yticks(np.arange(3, 5.25, 0.25))\n",
    "plt.xlabel('Средняя оценка за предыдущие курсы')\n",
    "plt.ylabel('Средняя оценка за следующий курс');"
   ]
  },
  {
   "cell_type": "markdown",
   "metadata": {},
   "source": [
    "### Рекуррентное применение модели для прогноза средней успеваемости потоков"
   ]
  },
  {
   "cell_type": "markdown",
   "metadata": {},
   "source": [
    "#### 2016 год. Предсказание с 3 по 4 курс"
   ]
  },
  {
   "cell_type": "code",
   "execution_count": 8,
   "metadata": {},
   "outputs": [],
   "source": [
    "recurrent_series_16 = df.loc[df['year'] == 16, ['ege', 'k']].copy()\n",
    "recurrent_series_16[1] = df.loc[df['year'] == 16, courses[1]].mean(axis=1)\n",
    "recurrent_series_16[2] = df.loc[df['year'] == 16, courses[1] + courses[2]].mean(axis=1)\n",
    "\n",
    "for i in range(2, 4):\n",
    "    recurrent_series_16['course'] = i\n",
    "    x = recurrent_series_16[['ege', 'k', i, 'course']].values\n",
    "    y_predict = model.predict(x)\n",
    "    recurrent_series_16[i+1] = y_predict\n",
    "\n",
    "recurrent_series_16 = recurrent_series_16.drop(['ege', 'k', 'course'], axis=1)"
   ]
  },
  {
   "cell_type": "markdown",
   "metadata": {},
   "source": [
    "#### Получившийся ряд предсказаний для 2016 года"
   ]
  },
  {
   "cell_type": "code",
   "execution_count": 10,
   "metadata": {},
   "outputs": [
    {
     "data": {
      "text/html": [
       "<div>\n",
       "<style scoped>\n",
       "    .dataframe tbody tr th:only-of-type {\n",
       "        vertical-align: middle;\n",
       "    }\n",
       "\n",
       "    .dataframe tbody tr th {\n",
       "        vertical-align: top;\n",
       "    }\n",
       "\n",
       "    .dataframe thead th {\n",
       "        text-align: right;\n",
       "    }\n",
       "</style>\n",
       "<table border=\"1\" class=\"dataframe\">\n",
       "  <thead>\n",
       "    <tr style=\"text-align: right;\">\n",
       "      <th></th>\n",
       "      <th>1</th>\n",
       "      <th>2</th>\n",
       "      <th>3</th>\n",
       "      <th>4</th>\n",
       "    </tr>\n",
       "    <tr>\n",
       "      <th>id</th>\n",
       "      <th></th>\n",
       "      <th></th>\n",
       "      <th></th>\n",
       "      <th></th>\n",
       "    </tr>\n",
       "  </thead>\n",
       "  <tbody>\n",
       "    <tr>\n",
       "      <th>61</th>\n",
       "      <td>5.000000</td>\n",
       "      <td>5.000000</td>\n",
       "      <td>5.120128</td>\n",
       "      <td>5.146311</td>\n",
       "    </tr>\n",
       "    <tr>\n",
       "      <th>62</th>\n",
       "      <td>5.000000</td>\n",
       "      <td>5.000000</td>\n",
       "      <td>5.128230</td>\n",
       "      <td>5.153949</td>\n",
       "    </tr>\n",
       "    <tr>\n",
       "      <th>63</th>\n",
       "      <td>5.000000</td>\n",
       "      <td>5.000000</td>\n",
       "      <td>5.327678</td>\n",
       "      <td>5.343698</td>\n",
       "    </tr>\n",
       "    <tr>\n",
       "      <th>64</th>\n",
       "      <td>4.000000</td>\n",
       "      <td>4.166667</td>\n",
       "      <td>4.074533</td>\n",
       "      <td>4.138565</td>\n",
       "    </tr>\n",
       "    <tr>\n",
       "      <th>65</th>\n",
       "      <td>4.000000</td>\n",
       "      <td>4.166667</td>\n",
       "      <td>4.360129</td>\n",
       "      <td>4.412592</td>\n",
       "    </tr>\n",
       "    <tr>\n",
       "      <th>66</th>\n",
       "      <td>4.333333</td>\n",
       "      <td>4.000000</td>\n",
       "      <td>4.126540</td>\n",
       "      <td>4.188340</td>\n",
       "    </tr>\n",
       "    <tr>\n",
       "      <th>67</th>\n",
       "      <td>4.000000</td>\n",
       "      <td>4.500000</td>\n",
       "      <td>4.454010</td>\n",
       "      <td>4.502928</td>\n",
       "    </tr>\n",
       "    <tr>\n",
       "      <th>68</th>\n",
       "      <td>4.333333</td>\n",
       "      <td>4.166667</td>\n",
       "      <td>4.414821</td>\n",
       "      <td>4.465211</td>\n",
       "    </tr>\n",
       "    <tr>\n",
       "      <th>69</th>\n",
       "      <td>4.333333</td>\n",
       "      <td>4.500000</td>\n",
       "      <td>4.389843</td>\n",
       "      <td>4.441176</td>\n",
       "    </tr>\n",
       "    <tr>\n",
       "      <th>70</th>\n",
       "      <td>3.666667</td>\n",
       "      <td>3.666667</td>\n",
       "      <td>3.882531</td>\n",
       "      <td>3.949464</td>\n",
       "    </tr>\n",
       "    <tr>\n",
       "      <th>71</th>\n",
       "      <td>4.000000</td>\n",
       "      <td>4.166667</td>\n",
       "      <td>4.089827</td>\n",
       "      <td>4.153196</td>\n",
       "    </tr>\n",
       "    <tr>\n",
       "      <th>72</th>\n",
       "      <td>4.000000</td>\n",
       "      <td>3.666667</td>\n",
       "      <td>3.543220</td>\n",
       "      <td>3.626025</td>\n",
       "    </tr>\n",
       "    <tr>\n",
       "      <th>73</th>\n",
       "      <td>3.333333</td>\n",
       "      <td>3.333333</td>\n",
       "      <td>3.888918</td>\n",
       "      <td>3.955585</td>\n",
       "    </tr>\n",
       "    <tr>\n",
       "      <th>74</th>\n",
       "      <td>3.333333</td>\n",
       "      <td>3.166667</td>\n",
       "      <td>3.439121</td>\n",
       "      <td>3.527539</td>\n",
       "    </tr>\n",
       "    <tr>\n",
       "      <th>75</th>\n",
       "      <td>3.000000</td>\n",
       "      <td>3.166667</td>\n",
       "      <td>3.405938</td>\n",
       "      <td>3.496210</td>\n",
       "    </tr>\n",
       "    <tr>\n",
       "      <th>76</th>\n",
       "      <td>3.000000</td>\n",
       "      <td>3.000000</td>\n",
       "      <td>3.439121</td>\n",
       "      <td>3.527539</td>\n",
       "    </tr>\n",
       "    <tr>\n",
       "      <th>77</th>\n",
       "      <td>3.000000</td>\n",
       "      <td>3.000000</td>\n",
       "      <td>3.243016</td>\n",
       "      <td>3.342779</td>\n",
       "    </tr>\n",
       "    <tr>\n",
       "      <th>78</th>\n",
       "      <td>3.000000</td>\n",
       "      <td>3.000000</td>\n",
       "      <td>3.282091</td>\n",
       "      <td>3.379528</td>\n",
       "    </tr>\n",
       "    <tr>\n",
       "      <th>79</th>\n",
       "      <td>3.000000</td>\n",
       "      <td>3.000000</td>\n",
       "      <td>3.173551</td>\n",
       "      <td>3.277509</td>\n",
       "    </tr>\n",
       "    <tr>\n",
       "      <th>80</th>\n",
       "      <td>3.000000</td>\n",
       "      <td>3.000000</td>\n",
       "      <td>3.243016</td>\n",
       "      <td>3.342779</td>\n",
       "    </tr>\n",
       "  </tbody>\n",
       "</table>\n",
       "</div>"
      ],
      "text/plain": [
       "           1         2         3         4\n",
       "id                                        \n",
       "61  5.000000  5.000000  5.120128  5.146311\n",
       "62  5.000000  5.000000  5.128230  5.153949\n",
       "63  5.000000  5.000000  5.327678  5.343698\n",
       "64  4.000000  4.166667  4.074533  4.138565\n",
       "65  4.000000  4.166667  4.360129  4.412592\n",
       "66  4.333333  4.000000  4.126540  4.188340\n",
       "67  4.000000  4.500000  4.454010  4.502928\n",
       "68  4.333333  4.166667  4.414821  4.465211\n",
       "69  4.333333  4.500000  4.389843  4.441176\n",
       "70  3.666667  3.666667  3.882531  3.949464\n",
       "71  4.000000  4.166667  4.089827  4.153196\n",
       "72  4.000000  3.666667  3.543220  3.626025\n",
       "73  3.333333  3.333333  3.888918  3.955585\n",
       "74  3.333333  3.166667  3.439121  3.527539\n",
       "75  3.000000  3.166667  3.405938  3.496210\n",
       "76  3.000000  3.000000  3.439121  3.527539\n",
       "77  3.000000  3.000000  3.243016  3.342779\n",
       "78  3.000000  3.000000  3.282091  3.379528\n",
       "79  3.000000  3.000000  3.173551  3.277509\n",
       "80  3.000000  3.000000  3.243016  3.342779"
      ]
     },
     "execution_count": 10,
     "metadata": {},
     "output_type": "execute_result"
    }
   ],
   "source": [
    "recurrent_series_16"
   ]
  },
  {
   "cell_type": "markdown",
   "metadata": {},
   "source": [
    "#### Статистические параметры ряда разностей курсов (2-1, 3-2, 4-3, 4-2) для ряда предсказаний 2016 года"
   ]
  },
  {
   "cell_type": "code",
   "execution_count": 11,
   "metadata": {},
   "outputs": [
    {
     "data": {
      "text/html": [
       "<div>\n",
       "<style scoped>\n",
       "    .dataframe tbody tr th:only-of-type {\n",
       "        vertical-align: middle;\n",
       "    }\n",
       "\n",
       "    .dataframe tbody tr th {\n",
       "        vertical-align: top;\n",
       "    }\n",
       "\n",
       "    .dataframe thead th {\n",
       "        text-align: right;\n",
       "    }\n",
       "</style>\n",
       "<table border=\"1\" class=\"dataframe\">\n",
       "  <thead>\n",
       "    <tr style=\"text-align: right;\">\n",
       "      <th></th>\n",
       "      <th>2-1</th>\n",
       "      <th>3-2</th>\n",
       "      <th>4-3</th>\n",
       "      <th>4-2</th>\n",
       "    </tr>\n",
       "  </thead>\n",
       "  <tbody>\n",
       "    <tr>\n",
       "      <th>count</th>\n",
       "      <td>20.000000</td>\n",
       "      <td>20.000000</td>\n",
       "      <td>20.000000</td>\n",
       "      <td>20.000000</td>\n",
       "    </tr>\n",
       "    <tr>\n",
       "      <th>mean</th>\n",
       "      <td>0.016667</td>\n",
       "      <td>0.167980</td>\n",
       "      <td>0.067233</td>\n",
       "      <td>0.251879</td>\n",
       "    </tr>\n",
       "    <tr>\n",
       "      <th>std</th>\n",
       "      <td>0.186535</td>\n",
       "      <td>0.183561</td>\n",
       "      <td>0.026382</td>\n",
       "      <td>0.233460</td>\n",
       "    </tr>\n",
       "    <tr>\n",
       "      <th>min</th>\n",
       "      <td>-0.333333</td>\n",
       "      <td>-0.123447</td>\n",
       "      <td>0.016020</td>\n",
       "      <td>-0.373975</td>\n",
       "    </tr>\n",
       "    <tr>\n",
       "      <th>25%</th>\n",
       "      <td>0.000000</td>\n",
       "      <td>0.078598</td>\n",
       "      <td>0.051098</td>\n",
       "      <td>0.144374</td>\n",
       "    </tr>\n",
       "    <tr>\n",
       "      <th>50%</th>\n",
       "      <td>0.000000</td>\n",
       "      <td>0.204663</td>\n",
       "      <td>0.065350</td>\n",
       "      <td>0.280153</td>\n",
       "    </tr>\n",
       "    <tr>\n",
       "      <th>75%</th>\n",
       "      <td>0.166667</td>\n",
       "      <td>0.254230</td>\n",
       "      <td>0.088881</td>\n",
       "      <td>0.387794</td>\n",
       "    </tr>\n",
       "    <tr>\n",
       "      <th>max</th>\n",
       "      <td>0.500000</td>\n",
       "      <td>0.555584</td>\n",
       "      <td>0.103958</td>\n",
       "      <td>0.622252</td>\n",
       "    </tr>\n",
       "  </tbody>\n",
       "</table>\n",
       "</div>"
      ],
      "text/plain": [
       "             2-1        3-2        4-3        4-2\n",
       "count  20.000000  20.000000  20.000000  20.000000\n",
       "mean    0.016667   0.167980   0.067233   0.251879\n",
       "std     0.186535   0.183561   0.026382   0.233460\n",
       "min    -0.333333  -0.123447   0.016020  -0.373975\n",
       "25%     0.000000   0.078598   0.051098   0.144374\n",
       "50%     0.000000   0.204663   0.065350   0.280153\n",
       "75%     0.166667   0.254230   0.088881   0.387794\n",
       "max     0.500000   0.555584   0.103958   0.622252"
      ]
     },
     "execution_count": 11,
     "metadata": {},
     "output_type": "execute_result"
    }
   ],
   "source": [
    "difference_series_16 = pd.DataFrame.from_dict({\n",
    "    '2-1': recurrent_series_16[2] - recurrent_series_16[1],\n",
    "    '3-2': recurrent_series_16[3] - recurrent_series_16[2],\n",
    "    '4-3': recurrent_series_16[4] - recurrent_series_16[3],\n",
    "    '4-2': recurrent_series_16[4] - recurrent_series_16[1],\n",
    "})\n",
    "difference_series_16.describe()"
   ]
  },
  {
   "cell_type": "markdown",
   "metadata": {},
   "source": [
    "#### 2017 год. Предсказание с 2 по 4 курс"
   ]
  },
  {
   "cell_type": "code",
   "execution_count": 12,
   "metadata": {},
   "outputs": [],
   "source": [
    "recurrent_series_17 = df.loc[df['year'] == 17, ['ege', 'k']].copy()\n",
    "recurrent_series_17[1] = df.loc[df['year'] == 17, courses[1]].mean(axis=1)\n",
    "\n",
    "for i in range(1, 4):\n",
    "    recurrent_series_17['course'] = i\n",
    "    x = recurrent_series_17[['ege', 'k', i, 'course']].values\n",
    "    y_predict = model.predict(x)\n",
    "    recurrent_series_17[i+1] = y_predict\n",
    "\n",
    "recurrent_series_17 = recurrent_series_17.drop(['ege', 'k', 'course'], axis=1)"
   ]
  },
  {
   "cell_type": "markdown",
   "metadata": {},
   "source": [
    "#### Получившийся ряд предсказаний для 2017 года"
   ]
  },
  {
   "cell_type": "code",
   "execution_count": 13,
   "metadata": {},
   "outputs": [
    {
     "data": {
      "text/html": [
       "<div>\n",
       "<style scoped>\n",
       "    .dataframe tbody tr th:only-of-type {\n",
       "        vertical-align: middle;\n",
       "    }\n",
       "\n",
       "    .dataframe tbody tr th {\n",
       "        vertical-align: top;\n",
       "    }\n",
       "\n",
       "    .dataframe thead th {\n",
       "        text-align: right;\n",
       "    }\n",
       "</style>\n",
       "<table border=\"1\" class=\"dataframe\">\n",
       "  <thead>\n",
       "    <tr style=\"text-align: right;\">\n",
       "      <th></th>\n",
       "      <th>1</th>\n",
       "      <th>2</th>\n",
       "      <th>3</th>\n",
       "      <th>4</th>\n",
       "    </tr>\n",
       "    <tr>\n",
       "      <th>id</th>\n",
       "      <th></th>\n",
       "      <th></th>\n",
       "      <th></th>\n",
       "      <th></th>\n",
       "    </tr>\n",
       "  </thead>\n",
       "  <tbody>\n",
       "    <tr>\n",
       "      <th>81</th>\n",
       "      <td>5.000000</td>\n",
       "      <td>4.992873</td>\n",
       "      <td>4.272102</td>\n",
       "      <td>4.327974</td>\n",
       "    </tr>\n",
       "    <tr>\n",
       "      <th>82</th>\n",
       "      <td>5.000000</td>\n",
       "      <td>4.941636</td>\n",
       "      <td>4.184319</td>\n",
       "      <td>4.243714</td>\n",
       "    </tr>\n",
       "    <tr>\n",
       "      <th>83</th>\n",
       "      <td>5.000000</td>\n",
       "      <td>4.926219</td>\n",
       "      <td>4.157661</td>\n",
       "      <td>4.218157</td>\n",
       "    </tr>\n",
       "    <tr>\n",
       "      <th>84</th>\n",
       "      <td>5.000000</td>\n",
       "      <td>5.097490</td>\n",
       "      <td>5.118482</td>\n",
       "      <td>5.144743</td>\n",
       "    </tr>\n",
       "    <tr>\n",
       "      <th>85</th>\n",
       "      <td>4.000000</td>\n",
       "      <td>4.077739</td>\n",
       "      <td>4.126540</td>\n",
       "      <td>4.188340</td>\n",
       "    </tr>\n",
       "    <tr>\n",
       "      <th>86</th>\n",
       "      <td>4.333333</td>\n",
       "      <td>4.415359</td>\n",
       "      <td>4.454010</td>\n",
       "      <td>4.502928</td>\n",
       "    </tr>\n",
       "    <tr>\n",
       "      <th>87</th>\n",
       "      <td>4.333333</td>\n",
       "      <td>4.330081</td>\n",
       "      <td>4.371180</td>\n",
       "      <td>4.423222</td>\n",
       "    </tr>\n",
       "    <tr>\n",
       "      <th>88</th>\n",
       "      <td>4.000000</td>\n",
       "      <td>3.905478</td>\n",
       "      <td>3.280103</td>\n",
       "      <td>3.377658</td>\n",
       "    </tr>\n",
       "    <tr>\n",
       "      <th>89</th>\n",
       "      <td>4.000000</td>\n",
       "      <td>3.839812</td>\n",
       "      <td>3.173551</td>\n",
       "      <td>3.277509</td>\n",
       "    </tr>\n",
       "    <tr>\n",
       "      <th>90</th>\n",
       "      <td>4.000000</td>\n",
       "      <td>4.511398</td>\n",
       "      <td>4.547328</td>\n",
       "      <td>4.592765</td>\n",
       "    </tr>\n",
       "    <tr>\n",
       "      <th>91</th>\n",
       "      <td>4.000000</td>\n",
       "      <td>4.375019</td>\n",
       "      <td>4.414821</td>\n",
       "      <td>4.465211</td>\n",
       "    </tr>\n",
       "    <tr>\n",
       "      <th>92</th>\n",
       "      <td>4.000000</td>\n",
       "      <td>4.330081</td>\n",
       "      <td>4.371180</td>\n",
       "      <td>4.423222</td>\n",
       "    </tr>\n",
       "    <tr>\n",
       "      <th>93</th>\n",
       "      <td>3.333333</td>\n",
       "      <td>3.368972</td>\n",
       "      <td>3.439121</td>\n",
       "      <td>3.527539</td>\n",
       "    </tr>\n",
       "    <tr>\n",
       "      <th>94</th>\n",
       "      <td>3.333333</td>\n",
       "      <td>3.204576</td>\n",
       "      <td>3.282091</td>\n",
       "      <td>3.379528</td>\n",
       "    </tr>\n",
       "    <tr>\n",
       "      <th>95</th>\n",
       "      <td>4.000000</td>\n",
       "      <td>3.839812</td>\n",
       "      <td>3.173551</td>\n",
       "      <td>3.277509</td>\n",
       "    </tr>\n",
       "    <tr>\n",
       "      <th>96</th>\n",
       "      <td>3.000000</td>\n",
       "      <td>3.368972</td>\n",
       "      <td>3.439121</td>\n",
       "      <td>3.527539</td>\n",
       "    </tr>\n",
       "    <tr>\n",
       "      <th>97</th>\n",
       "      <td>3.000000</td>\n",
       "      <td>3.368972</td>\n",
       "      <td>3.439121</td>\n",
       "      <td>3.527539</td>\n",
       "    </tr>\n",
       "    <tr>\n",
       "      <th>98</th>\n",
       "      <td>3.666667</td>\n",
       "      <td>3.476319</td>\n",
       "      <td>3.541940</td>\n",
       "      <td>3.624812</td>\n",
       "    </tr>\n",
       "    <tr>\n",
       "      <th>99</th>\n",
       "      <td>3.000000</td>\n",
       "      <td>3.727038</td>\n",
       "      <td>3.783188</td>\n",
       "      <td>3.854387</td>\n",
       "    </tr>\n",
       "    <tr>\n",
       "      <th>100</th>\n",
       "      <td>4.000000</td>\n",
       "      <td>4.336860</td>\n",
       "      <td>4.377761</td>\n",
       "      <td>4.429554</td>\n",
       "    </tr>\n",
       "  </tbody>\n",
       "</table>\n",
       "</div>"
      ],
      "text/plain": [
       "            1         2         3         4\n",
       "id                                         \n",
       "81   5.000000  4.992873  4.272102  4.327974\n",
       "82   5.000000  4.941636  4.184319  4.243714\n",
       "83   5.000000  4.926219  4.157661  4.218157\n",
       "84   5.000000  5.097490  5.118482  5.144743\n",
       "85   4.000000  4.077739  4.126540  4.188340\n",
       "86   4.333333  4.415359  4.454010  4.502928\n",
       "87   4.333333  4.330081  4.371180  4.423222\n",
       "88   4.000000  3.905478  3.280103  3.377658\n",
       "89   4.000000  3.839812  3.173551  3.277509\n",
       "90   4.000000  4.511398  4.547328  4.592765\n",
       "91   4.000000  4.375019  4.414821  4.465211\n",
       "92   4.000000  4.330081  4.371180  4.423222\n",
       "93   3.333333  3.368972  3.439121  3.527539\n",
       "94   3.333333  3.204576  3.282091  3.379528\n",
       "95   4.000000  3.839812  3.173551  3.277509\n",
       "96   3.000000  3.368972  3.439121  3.527539\n",
       "97   3.000000  3.368972  3.439121  3.527539\n",
       "98   3.666667  3.476319  3.541940  3.624812\n",
       "99   3.000000  3.727038  3.783188  3.854387\n",
       "100  4.000000  4.336860  4.377761  4.429554"
      ]
     },
     "execution_count": 13,
     "metadata": {},
     "output_type": "execute_result"
    }
   ],
   "source": [
    "recurrent_series_17"
   ]
  },
  {
   "cell_type": "markdown",
   "metadata": {},
   "source": [
    "#### Статистические параметры ряда разностей курсов (2-1, 3-2, 4-3, 4-2) для ряда предсказаний 2017 года"
   ]
  },
  {
   "cell_type": "code",
   "execution_count": 14,
   "metadata": {},
   "outputs": [
    {
     "data": {
      "text/html": [
       "<div>\n",
       "<style scoped>\n",
       "    .dataframe tbody tr th:only-of-type {\n",
       "        vertical-align: middle;\n",
       "    }\n",
       "\n",
       "    .dataframe tbody tr th {\n",
       "        vertical-align: top;\n",
       "    }\n",
       "\n",
       "    .dataframe thead th {\n",
       "        text-align: right;\n",
       "    }\n",
       "</style>\n",
       "<table border=\"1\" class=\"dataframe\">\n",
       "  <thead>\n",
       "    <tr style=\"text-align: right;\">\n",
       "      <th></th>\n",
       "      <th>2-1</th>\n",
       "      <th>3-2</th>\n",
       "      <th>4-3</th>\n",
       "      <th>4-1</th>\n",
       "    </tr>\n",
       "  </thead>\n",
       "  <tbody>\n",
       "    <tr>\n",
       "      <th>count</th>\n",
       "      <td>20.000000</td>\n",
       "      <td>20.000000</td>\n",
       "      <td>20.000000</td>\n",
       "      <td>20.000000</td>\n",
       "    </tr>\n",
       "    <tr>\n",
       "      <th>mean</th>\n",
       "      <td>0.121735</td>\n",
       "      <td>-0.174377</td>\n",
       "      <td>0.069334</td>\n",
       "      <td>0.016692</td>\n",
       "    </tr>\n",
       "    <tr>\n",
       "      <th>std</th>\n",
       "      <td>0.259005</td>\n",
       "      <td>0.355035</td>\n",
       "      <td>0.022694</td>\n",
       "      <td>0.533777</td>\n",
       "    </tr>\n",
       "    <tr>\n",
       "      <th>min</th>\n",
       "      <td>-0.190348</td>\n",
       "      <td>-0.768557</td>\n",
       "      <td>0.026261</td>\n",
       "      <td>-0.781843</td>\n",
       "    </tr>\n",
       "    <tr>\n",
       "      <th>25%</th>\n",
       "      <td>-0.078967</td>\n",
       "      <td>-0.635596</td>\n",
       "      <td>0.051980</td>\n",
       "      <td>-0.634763</td>\n",
       "    </tr>\n",
       "    <tr>\n",
       "      <th>50%</th>\n",
       "      <td>0.056689</td>\n",
       "      <td>0.040352</td>\n",
       "      <td>0.061148</td>\n",
       "      <td>0.157169</td>\n",
       "    </tr>\n",
       "    <tr>\n",
       "      <th>75%</th>\n",
       "      <td>0.344888</td>\n",
       "      <td>0.058518</td>\n",
       "      <td>0.088417</td>\n",
       "      <td>0.438468</td>\n",
       "    </tr>\n",
       "    <tr>\n",
       "      <th>max</th>\n",
       "      <td>0.727038</td>\n",
       "      <td>0.077515</td>\n",
       "      <td>0.103958</td>\n",
       "      <td>0.854387</td>\n",
       "    </tr>\n",
       "  </tbody>\n",
       "</table>\n",
       "</div>"
      ],
      "text/plain": [
       "             2-1        3-2        4-3        4-1\n",
       "count  20.000000  20.000000  20.000000  20.000000\n",
       "mean    0.121735  -0.174377   0.069334   0.016692\n",
       "std     0.259005   0.355035   0.022694   0.533777\n",
       "min    -0.190348  -0.768557   0.026261  -0.781843\n",
       "25%    -0.078967  -0.635596   0.051980  -0.634763\n",
       "50%     0.056689   0.040352   0.061148   0.157169\n",
       "75%     0.344888   0.058518   0.088417   0.438468\n",
       "max     0.727038   0.077515   0.103958   0.854387"
      ]
     },
     "execution_count": 14,
     "metadata": {},
     "output_type": "execute_result"
    }
   ],
   "source": [
    "difference_series_17 = pd.DataFrame.from_dict({\n",
    "    '2-1': recurrent_series_17[2] - recurrent_series_17[1],\n",
    "    '3-2': recurrent_series_17[3] - recurrent_series_17[2],\n",
    "    '4-3': recurrent_series_17[4] - recurrent_series_17[3],\n",
    "    '4-1': recurrent_series_17[4] - recurrent_series_17[1],\n",
    "})\n",
    "difference_series_17.describe()"
   ]
  },
  {
   "cell_type": "code",
   "execution_count": 18,
   "metadata": {},
   "outputs": [
    {
     "data": {
      "image/png": "[encoded data removed]",
      "text/plain": [
       "<Figure size 432x288 with 1 Axes>"
      ]
     },
     "metadata": {
      "needs_background": "light"
     },
     "output_type": "display_data"
    }
   ],
   "source": [
    "# real data\n",
    "real_mean = {\n",
    "    2013: df.loc[df['year'] == 13]['mean'].mean(),\n",
    "    2014: df.loc[df['year'] == 14]['mean'].mean(),\n",
    "    2015: df.loc[df['year'] == 15]['mean'].mean()\n",
    "}\n",
    "\n",
    "x_real_mean = real_mean.keys()\n",
    "y_real_mean = real_mean.values()\n",
    "\n",
    "# model forecasting\n",
    "model_mean = {\n",
    "    2015: real_mean[2015],\n",
    "    2016: recurrent_series_16[4].mean(),\n",
    "    2017: recurrent_series_17[4].mean(),\n",
    "}\n",
    "\n",
    "\n",
    "x_model_mean = model_mean.keys()\n",
    "y_model_mean = model_mean.values()\n",
    "\n",
    "# pessimistic forecasting\n",
    "pessimistic_df = df.copy()\n",
    "pessimistic_df.loc[pessimistic_df['year'] == 16, courses[3] + courses[4]] = 3\n",
    "pessimistic_df.loc[pessimistic_df['year'] == 17, courses[2] + courses[3] + courses[4]] = 3\n",
    "pessimistic_df['mean'] = pessimistic_df[subjects].mean(axis=1)\n",
    "\n",
    "pessemistic_mean_by_flow = {\n",
    "    2015: pessimistic_df.loc[pessimistic_df['year'] == 15]['mean'].mean(),\n",
    "    2016: pessimistic_df.loc[pessimistic_df['year'] == 16]['mean'].mean(),\n",
    "    2017: pessimistic_df.loc[pessimistic_df['year'] == 17]['mean'].mean(),\n",
    "}\n",
    "\n",
    "x_pess_mean = pessemistic_mean_by_flow.keys()\n",
    "y_pess_mean = pessemistic_mean_by_flow.values()\n",
    "\n",
    "plt.errorbar(x_real_mean, y_real_mean, marker='o', color='blue')\n",
    "plt.errorbar(x_model_mean, y_model_mean, marker='o', color='purple')\n",
    "plt.errorbar(x_pess_mean, y_pess_mean, marker='o', color='green')\n",
    "\n",
    "plt.ylabel('Средний балл')\n",
    "plt.xlabel('год')\n",
    "\n",
    "plt.legend(['Реальное положение дел', 'Предсказание модели', 'Пессимистичный прогноз'], loc=2)\n",
    "plt.xticks(np.arange(2013, 2017+1, 1))\n",
    "plt.yticks(np.arange(3, 5, 0.2))\n",
    "plt.grid()\n",
    "plt.savefig('mean_by_flow_with_prediction.png', dpi=300)"
   ]
  },
  {
   "cell_type": "code",
   "execution_count": 171,
   "metadata": {},
   "outputs": [],
   "source": [
    "# model.save('student_believable_by_mean_prediction.h5')"
   ]
  },
  {
   "cell_type": "markdown",
   "metadata": {},
   "source": [
    "### Средняя оценка для потока 2016 года на 2 курс"
   ]
  },
  {
   "cell_type": "code",
   "execution_count": 80,
   "metadata": {},
   "outputs": [
    {
     "data": {
      "text/plain": [
       "3.833333333333333"
      ]
     },
     "execution_count": 80,
     "metadata": {},
     "output_type": "execute_result"
    }
   ],
   "source": [
    "df.loc[df['year'] == 16, courses[1] + courses[2]].mean(axis=1).mean()"
   ]
  },
  {
   "cell_type": "markdown",
   "metadata": {},
   "source": [
    "### Средняя оценка для потока 2016 года на 1 курс"
   ]
  },
  {
   "cell_type": "code",
   "execution_count": 84,
   "metadata": {},
   "outputs": [
    {
     "data": {
      "text/plain": [
       "3.8166666666666664"
      ]
     },
     "execution_count": 84,
     "metadata": {},
     "output_type": "execute_result"
    }
   ],
   "source": [
    "df.loc[df['year'] == 16, courses[1]].mean(axis=1).mean()"
   ]
  },
  {
   "cell_type": "markdown",
   "metadata": {},
   "source": [
    "### Средняя оценка для потока 2017 года на 1 курс"
   ]
  },
  {
   "cell_type": "code",
   "execution_count": 81,
   "metadata": {},
   "outputs": [
    {
     "data": {
      "text/plain": [
       "4.0"
      ]
     },
     "execution_count": 81,
     "metadata": {},
     "output_type": "execute_result"
    }
   ],
   "source": [
    "df.loc[df['year'] == 17, courses[1]].mean(axis=1).mean()"
   ]
  }
 ],
 "metadata": {
  "kernelspec": {
   "display_name": "Python 3",
   "language": "python",
   "name": "python3"
  },
  "language_info": {
   "codemirror_mode": {
    "name": "ipython",
    "version": 3
   },
   "file_extension": ".py",
   "mimetype": "text/x-python",
   "name": "python",
   "nbconvert_exporter": "python",
   "pygments_lexer": "ipython3",
   "version": "3.7.3"
  }
 },
 "nbformat": 4,
 "nbformat_minor": 2
}
