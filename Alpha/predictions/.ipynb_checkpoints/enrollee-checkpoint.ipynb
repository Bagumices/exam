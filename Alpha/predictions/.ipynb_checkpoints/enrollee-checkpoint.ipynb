{
 "cells": [
  {
   "cell_type": "code",
   "execution_count": 8,
   "metadata": {},
   "outputs": [],
   "source": [
    "import numpy as np \n",
    "import matplotlib.pyplot as plt \n",
    "import pandas as pd \n",
    "\n",
    "import keras\n",
    "from keras.layers import Embedding, Dropout\n",
    "from keras.layers import LSTM\n",
    "from keras.models import Sequential\n",
    "from keras.layers import Dense\n",
    "\n",
    "np.set_printoptions(precision=4, suppress=True)"
   ]
  },
  {
   "cell_type": "code",
   "execution_count": 15,
   "metadata": {},
   "outputs": [],
   "source": [
    "df = pd.read_csv('../datas.csv', sep=',', index_col='id')\n",
    "\n",
    "subjects = ['calculus', 'algebra', 'discrete', 'ode', 'complex', 'programming',\n",
    "            'stat', 'pde', 'functional', 'variational', 'random_proc', 'numerical']\n",
    "years = [13, 14, 15, 16, 17]\n",
    "\n",
    "df['mean'] = df[subjects].mean(axis=1)\n",
    "df['round'] = np.rint(df['mean'].values)\n",
    "\n",
    "df.loc[df['year'] == 13, 'k'] = 0.8\n",
    "df.loc[df['year'] == 14, 'k'] = 0.5\n",
    "df.loc[df['year'] >= 15, 'k'] = 0.3"
   ]
  },
  {
   "cell_type": "code",
   "execution_count": 19,
   "metadata": {},
   "outputs": [],
   "source": [
    "train_df = df.loc[df['year'] <= 15]\n",
    "\n",
    "x_train = train_df[['k', 'ege']].values\n",
    "y_train = train_df['round'].values - 3\n",
    "\n",
    "test_df = df.loc[df['year'] > 15]\n",
    "x_test = test_df[['k', 'ege']].values\n",
    "y_test = test_df['round'].values - 3\n",
    "\n",
    "x_additional = np.array([\n",
    "    [0.8, 243], [0.8, 239], [0.8, 237], [0.8, 235], [0.8, 234], [0.8, 233], [0.8, 232], [0.8, 231], \n",
    "    [0.8, 230], [0.8, 229], [0.8, 228], [0.8, 227], [0.8, 226], [0.8, 225], [0.8, 224], [0.8, 223], \n",
    "    [0.8, 222], [0.8, 221], [0.8, 220], [0.8, 219], \n",
    "    [0.5, 235], [0.5, 220], [0.5, 218], [0.5, 217], [0.5, 215], [0.5, 214], [0.5, 213], [0.5, 210], \n",
    "    [0.5, 209], [0.5, 207], [0.5, 206], [0.5, 205], [0.5, 203], [0.5, 200], [0.5, 199], [0.5, 195], \n",
    "    [0.5, 193], [0.5, 192], [0.5, 191], [0.5, 190], \n",
    "    [0.3, 244], [0.3, 222], [0.3, 215], [0.3, 213], [0.3, 211], [0.3, 209], [0.3, 206], [0.3, 205], \n",
    "    [0.3, 204], [0.3, 203], [0.3, 202], [0.3, 201], [0.3, 200], [0.3, 199], [0.3, 197], [0.3, 196], \n",
    "    [0.3, 194], [0.3, 193], [0.3, 191], [0.3, 191]\n",
    "])\n",
    "y_additional = np.array([\n",
    "    2,2,2,2,2,2,1,1,1,1,1,1,1,1,0,0,0,0,0,0,2,2,2,2,2,2,2,1,1,1,1,1,1,1,1,0,0,0,0,0,2,2,2,1,1,1,1,\n",
    "    1,1,1,1,1,1,1,1,0,0,0,0,0])\n",
    "\n",
    "x = np.concatenate((x, x_additional), axis=0)\n",
    "y = np.concatenate((y, y_additional), axis=0)"
   ]
  },
  {
   "cell_type": "code",
   "execution_count": 81,
   "metadata": {},
   "outputs": [],
   "source": [
    "max_features = 1024\n",
    "\n",
    "model = Sequential()\n",
    "\n",
    "model.add(Embedding(max_features, output_dim=256))\n",
    "model.add(LSTM(128))\n",
    "model.add(Dropout(0.5))\n",
    "model.add(Dense(3, activation='softmax'))\n",
    "\n",
    "model.compile(loss='categorical_crossentropy',\n",
    "              optimizer='rmsprop',\n",
    "              metrics=['categorical_accuracy'])"
   ]
  },
  {
   "cell_type": "code",
   "execution_count": 82,
   "metadata": {},
   "outputs": [
    {
     "name": "stdout",
     "output_type": "stream",
     "text": [
      "Epoch 1/100\n",
      "60/60 [==============================] - 1s 15ms/step - loss: 1.0823 - categorical_accuracy: 0.4000\n",
      "Epoch 2/100\n",
      "60/60 [==============================] - 0s 542us/step - loss: 1.0242 - categorical_accuracy: 0.5000\n",
      "Epoch 3/100\n",
      "60/60 [==============================] - 0s 463us/step - loss: 0.9651 - categorical_accuracy: 0.5500\n",
      "Epoch 4/100\n",
      "60/60 [==============================] - 0s 499us/step - loss: 0.9142 - categorical_accuracy: 0.5500\n",
      "Epoch 5/100\n",
      "60/60 [==============================] - 0s 512us/step - loss: 0.8608 - categorical_accuracy: 0.5333\n",
      "Epoch 6/100\n",
      "60/60 [==============================] - 0s 606us/step - loss: 0.8380 - categorical_accuracy: 0.7167\n",
      "Epoch 7/100\n",
      "60/60 [==============================] - 0s 540us/step - loss: 0.7982 - categorical_accuracy: 0.6667\n",
      "Epoch 8/100\n",
      "60/60 [==============================] - 0s 568us/step - loss: 0.7706 - categorical_accuracy: 0.7000\n",
      "Epoch 9/100\n",
      "60/60 [==============================] - 0s 477us/step - loss: 0.7154 - categorical_accuracy: 0.7333\n",
      "Epoch 10/100\n",
      "60/60 [==============================] - 0s 431us/step - loss: 0.6831 - categorical_accuracy: 0.8167\n",
      "Epoch 11/100\n",
      "60/60 [==============================] - 0s 417us/step - loss: 0.6250 - categorical_accuracy: 0.8500\n",
      "Epoch 12/100\n",
      "60/60 [==============================] - 0s 397us/step - loss: 0.5511 - categorical_accuracy: 0.8500\n",
      "Epoch 13/100\n",
      "60/60 [==============================] - 0s 553us/step - loss: 0.5237 - categorical_accuracy: 0.8667\n",
      "Epoch 14/100\n",
      "60/60 [==============================] - 0s 572us/step - loss: 0.4622 - categorical_accuracy: 0.8500\n",
      "Epoch 15/100\n",
      "60/60 [==============================] - 0s 484us/step - loss: 0.4120 - categorical_accuracy: 0.8500\n",
      "Epoch 16/100\n",
      "60/60 [==============================] - 0s 598us/step - loss: 0.3943 - categorical_accuracy: 0.8667\n",
      "Epoch 17/100\n",
      "60/60 [==============================] - 0s 467us/step - loss: 0.3681 - categorical_accuracy: 0.8667\n",
      "Epoch 18/100\n",
      "60/60 [==============================] - 0s 519us/step - loss: 0.3134 - categorical_accuracy: 0.9000\n",
      "Epoch 19/100\n",
      "60/60 [==============================] - 0s 600us/step - loss: 0.2791 - categorical_accuracy: 0.8833\n",
      "Epoch 20/100\n",
      "60/60 [==============================] - 0s 520us/step - loss: 0.2588 - categorical_accuracy: 0.9167\n",
      "Epoch 21/100\n",
      "60/60 [==============================] - 0s 500us/step - loss: 0.2407 - categorical_accuracy: 0.9000\n",
      "Epoch 22/100\n",
      "60/60 [==============================] - 0s 542us/step - loss: 0.2202 - categorical_accuracy: 0.9167\n",
      "Epoch 23/100\n",
      "60/60 [==============================] - 0s 648us/step - loss: 0.1960 - categorical_accuracy: 0.9167\n",
      "Epoch 24/100\n",
      "60/60 [==============================] - 0s 562us/step - loss: 0.1793 - categorical_accuracy: 0.9000\n",
      "Epoch 25/100\n",
      "60/60 [==============================] - 0s 481us/step - loss: 0.1871 - categorical_accuracy: 0.9000\n",
      "Epoch 26/100\n",
      "60/60 [==============================] - 0s 599us/step - loss: 0.1562 - categorical_accuracy: 0.9333\n",
      "Epoch 27/100\n",
      "60/60 [==============================] - 0s 519us/step - loss: 0.1757 - categorical_accuracy: 0.8833\n",
      "Epoch 28/100\n",
      "60/60 [==============================] - 0s 530us/step - loss: 0.1633 - categorical_accuracy: 0.9000\n",
      "Epoch 29/100\n",
      "60/60 [==============================] - 0s 481us/step - loss: 0.1799 - categorical_accuracy: 0.9000\n",
      "Epoch 30/100\n",
      "60/60 [==============================] - 0s 557us/step - loss: 0.1671 - categorical_accuracy: 0.9167\n",
      "Epoch 31/100\n",
      "60/60 [==============================] - 0s 531us/step - loss: 0.1870 - categorical_accuracy: 0.8833\n",
      "Epoch 32/100\n",
      "60/60 [==============================] - 0s 772us/step - loss: 0.1504 - categorical_accuracy: 0.9167\n",
      "Epoch 33/100\n",
      "60/60 [==============================] - 0s 694us/step - loss: 0.1713 - categorical_accuracy: 0.9000\n",
      "Epoch 34/100\n",
      "60/60 [==============================] - 0s 593us/step - loss: 0.1987 - categorical_accuracy: 0.8833\n",
      "Epoch 35/100\n",
      "60/60 [==============================] - 0s 660us/step - loss: 0.1584 - categorical_accuracy: 0.9000\n",
      "Epoch 36/100\n",
      "60/60 [==============================] - 0s 641us/step - loss: 0.1372 - categorical_accuracy: 0.9167\n",
      "Epoch 37/100\n",
      "60/60 [==============================] - 0s 793us/step - loss: 0.1912 - categorical_accuracy: 0.8667\n",
      "Epoch 38/100\n",
      "60/60 [==============================] - 0s 827us/step - loss: 0.1685 - categorical_accuracy: 0.9000\n",
      "Epoch 39/100\n",
      "60/60 [==============================] - 0s 535us/step - loss: 0.1621 - categorical_accuracy: 0.9167\n",
      "Epoch 40/100\n",
      "60/60 [==============================] - 0s 609us/step - loss: 0.1456 - categorical_accuracy: 0.9167\n",
      "Epoch 41/100\n",
      "60/60 [==============================] - 0s 576us/step - loss: 0.1613 - categorical_accuracy: 0.9333\n",
      "Epoch 42/100\n",
      "60/60 [==============================] - 0s 688us/step - loss: 0.1447 - categorical_accuracy: 0.9167\n",
      "Epoch 43/100\n",
      "60/60 [==============================] - 0s 538us/step - loss: 0.1568 - categorical_accuracy: 0.9000\n",
      "Epoch 44/100\n",
      "60/60 [==============================] - 0s 513us/step - loss: 0.1700 - categorical_accuracy: 0.9000\n",
      "Epoch 45/100\n",
      "60/60 [==============================] - 0s 506us/step - loss: 0.1616 - categorical_accuracy: 0.8833\n",
      "Epoch 46/100\n",
      "60/60 [==============================] - 0s 489us/step - loss: 0.1325 - categorical_accuracy: 0.9167\n",
      "Epoch 47/100\n",
      "60/60 [==============================] - 0s 532us/step - loss: 0.1793 - categorical_accuracy: 0.8833\n",
      "Epoch 48/100\n",
      "60/60 [==============================] - 0s 549us/step - loss: 0.1579 - categorical_accuracy: 0.9167\n",
      "Epoch 49/100\n",
      "60/60 [==============================] - 0s 500us/step - loss: 0.1891 - categorical_accuracy: 0.8833\n",
      "Epoch 50/100\n",
      "60/60 [==============================] - 0s 670us/step - loss: 0.1558 - categorical_accuracy: 0.8833\n",
      "Epoch 51/100\n",
      "60/60 [==============================] - 0s 555us/step - loss: 0.1358 - categorical_accuracy: 0.9333\n",
      "Epoch 52/100\n",
      "60/60 [==============================] - 0s 650us/step - loss: 0.1639 - categorical_accuracy: 0.8667\n",
      "Epoch 53/100\n",
      "60/60 [==============================] - 0s 788us/step - loss: 0.1606 - categorical_accuracy: 0.9167\n",
      "Epoch 54/100\n",
      "60/60 [==============================] - 0s 598us/step - loss: 0.1603 - categorical_accuracy: 0.9167\n",
      "Epoch 55/100\n",
      "60/60 [==============================] - 0s 505us/step - loss: 0.1814 - categorical_accuracy: 0.9167\n",
      "Epoch 56/100\n",
      "60/60 [==============================] - 0s 503us/step - loss: 0.1588 - categorical_accuracy: 0.8833\n",
      "Epoch 57/100\n",
      "60/60 [==============================] - 0s 519us/step - loss: 0.1549 - categorical_accuracy: 0.9167\n",
      "Epoch 58/100\n",
      "60/60 [==============================] - 0s 476us/step - loss: 0.1678 - categorical_accuracy: 0.9333\n",
      "Epoch 59/100\n",
      "60/60 [==============================] - 0s 462us/step - loss: 0.1688 - categorical_accuracy: 0.8833\n",
      "Epoch 60/100\n",
      "60/60 [==============================] - 0s 516us/step - loss: 0.1276 - categorical_accuracy: 0.9667\n",
      "Epoch 61/100\n",
      "60/60 [==============================] - 0s 495us/step - loss: 0.1590 - categorical_accuracy: 0.9000\n",
      "Epoch 62/100\n",
      "60/60 [==============================] - 0s 456us/step - loss: 0.1929 - categorical_accuracy: 0.8833\n",
      "Epoch 63/100\n",
      "60/60 [==============================] - 0s 409us/step - loss: 0.1554 - categorical_accuracy: 0.9000\n",
      "Epoch 64/100\n",
      "60/60 [==============================] - 0s 446us/step - loss: 0.1771 - categorical_accuracy: 0.8833\n",
      "Epoch 65/100\n",
      "60/60 [==============================] - 0s 403us/step - loss: 0.1704 - categorical_accuracy: 0.9167\n",
      "Epoch 66/100\n",
      "60/60 [==============================] - 0s 442us/step - loss: 0.1635 - categorical_accuracy: 0.9167\n",
      "Epoch 67/100\n",
      "60/60 [==============================] - 0s 401us/step - loss: 0.1773 - categorical_accuracy: 0.9000\n",
      "Epoch 68/100\n",
      "60/60 [==============================] - 0s 417us/step - loss: 0.1417 - categorical_accuracy: 0.9000\n",
      "Epoch 69/100\n",
      "60/60 [==============================] - 0s 389us/step - loss: 0.1592 - categorical_accuracy: 0.8833\n",
      "Epoch 70/100\n",
      "60/60 [==============================] - 0s 432us/step - loss: 0.2004 - categorical_accuracy: 0.8500\n",
      "Epoch 71/100\n",
      "60/60 [==============================] - 0s 481us/step - loss: 0.1743 - categorical_accuracy: 0.9000\n",
      "Epoch 72/100\n",
      "60/60 [==============================] - 0s 391us/step - loss: 0.1826 - categorical_accuracy: 0.8667\n"
     ]
    },
    {
     "name": "stdout",
     "output_type": "stream",
     "text": [
      "Epoch 73/100\n",
      "60/60 [==============================] - 0s 457us/step - loss: 0.1393 - categorical_accuracy: 0.9000\n",
      "Epoch 74/100\n",
      "60/60 [==============================] - 0s 407us/step - loss: 0.1606 - categorical_accuracy: 0.9333\n",
      "Epoch 75/100\n",
      "60/60 [==============================] - 0s 436us/step - loss: 0.1501 - categorical_accuracy: 0.9000\n",
      "Epoch 76/100\n",
      "60/60 [==============================] - 0s 523us/step - loss: 0.1482 - categorical_accuracy: 0.9167\n",
      "Epoch 77/100\n",
      "60/60 [==============================] - 0s 549us/step - loss: 0.1426 - categorical_accuracy: 0.9167\n",
      "Epoch 78/100\n",
      "60/60 [==============================] - 0s 514us/step - loss: 0.1754 - categorical_accuracy: 0.8833\n",
      "Epoch 79/100\n",
      "60/60 [==============================] - 0s 413us/step - loss: 0.1382 - categorical_accuracy: 0.9000\n",
      "Epoch 80/100\n",
      "60/60 [==============================] - 0s 505us/step - loss: 0.1646 - categorical_accuracy: 0.9000\n",
      "Epoch 81/100\n",
      "60/60 [==============================] - 0s 478us/step - loss: 0.1483 - categorical_accuracy: 0.9000\n",
      "Epoch 82/100\n",
      "60/60 [==============================] - 0s 497us/step - loss: 0.1541 - categorical_accuracy: 0.9333\n",
      "Epoch 83/100\n",
      "60/60 [==============================] - 0s 485us/step - loss: 0.1530 - categorical_accuracy: 0.9500\n",
      "Epoch 84/100\n",
      "60/60 [==============================] - 0s 471us/step - loss: 0.1819 - categorical_accuracy: 0.8833\n",
      "Epoch 85/100\n",
      "60/60 [==============================] - 0s 428us/step - loss: 0.1539 - categorical_accuracy: 0.9333\n",
      "Epoch 86/100\n",
      "60/60 [==============================] - 0s 413us/step - loss: 0.1716 - categorical_accuracy: 0.9000\n",
      "Epoch 87/100\n",
      "60/60 [==============================] - 0s 404us/step - loss: 0.1577 - categorical_accuracy: 0.9333\n",
      "Epoch 88/100\n",
      "60/60 [==============================] - 0s 482us/step - loss: 0.1547 - categorical_accuracy: 0.9000\n",
      "Epoch 89/100\n",
      "60/60 [==============================] - 0s 397us/step - loss: 0.1362 - categorical_accuracy: 0.9333\n",
      "Epoch 90/100\n",
      "60/60 [==============================] - 0s 416us/step - loss: 0.1520 - categorical_accuracy: 0.9167\n",
      "Epoch 91/100\n",
      "60/60 [==============================] - 0s 371us/step - loss: 0.1433 - categorical_accuracy: 0.9333\n",
      "Epoch 92/100\n",
      "60/60 [==============================] - 0s 416us/step - loss: 0.1439 - categorical_accuracy: 0.9000\n",
      "Epoch 93/100\n",
      "60/60 [==============================] - 0s 412us/step - loss: 0.1699 - categorical_accuracy: 0.8833\n",
      "Epoch 94/100\n",
      "60/60 [==============================] - 0s 420us/step - loss: 0.1648 - categorical_accuracy: 0.9167\n",
      "Epoch 95/100\n",
      "60/60 [==============================] - 0s 409us/step - loss: 0.1701 - categorical_accuracy: 0.9000\n",
      "Epoch 96/100\n",
      "60/60 [==============================] - 0s 397us/step - loss: 0.1564 - categorical_accuracy: 0.9000\n",
      "Epoch 97/100\n",
      "60/60 [==============================] - 0s 402us/step - loss: 0.1501 - categorical_accuracy: 0.9000\n",
      "Epoch 98/100\n",
      "60/60 [==============================] - 0s 438us/step - loss: 0.1658 - categorical_accuracy: 0.9000\n",
      "Epoch 99/100\n",
      "60/60 [==============================] - 0s 465us/step - loss: 0.1576 - categorical_accuracy: 0.8833\n",
      "Epoch 100/100\n",
      "60/60 [==============================] - 0s 451us/step - loss: 0.1552 - categorical_accuracy: 0.9000\n"
     ]
    }
   ],
   "source": [
    "one_hot_labels = keras.utils.to_categorical(y_train, num_classes=3)\n",
    "history = model.fit(x_train, one_hot_labels, epochs=100, batch_size=20, verbose=1, shuffle=True)"
   ]
  },
  {
   "cell_type": "code",
   "execution_count": 83,
   "metadata": {},
   "outputs": [
    {
     "data": {
      "image/png": "[encoded data removed]",
      "text/plain": [
       "<Figure size 432x288 with 1 Axes>"
      ]
     },
     "metadata": {
      "needs_background": "light"
     },
     "output_type": "display_data"
    }
   ],
   "source": [
    "plt.plot(history.history['categorical_accuracy'], color='brown')\n",
    "plt.grid()\n",
    "plt.title('Точность модели на тренировочной выборке')\n",
    "plt.ylabel('Точность')\n",
    "plt.xlabel('Эпоха')\n",
    "plt.savefig('enrollee_acc.png', dpi=300)"
   ]
  },
  {
   "cell_type": "code",
   "execution_count": 84,
   "metadata": {},
   "outputs": [
    {
     "data": {
      "image/png": "[encoded data removed]",
      "text/plain": [
       "<Figure size 432x288 with 1 Axes>"
      ]
     },
     "metadata": {
      "needs_background": "light"
     },
     "output_type": "display_data"
    }
   ],
   "source": [
    "plt.plot(history.history['loss'], color='purple')\n",
    "plt.grid()\n",
    "plt.title('Значение функции потерь на тренировочной выборке')\n",
    "plt.ylabel('потеря')\n",
    "plt.xlabel('Эпоха')\n",
    "plt.savefig('enrollee_loss.png', dpi=300)"
   ]
  },
  {
   "cell_type": "markdown",
   "metadata": {},
   "source": [
    "### Пронозирование успеваемости абитуриентов за 2016 год"
   ]
  },
  {
   "cell_type": "code",
   "execution_count": 90,
   "metadata": {},
   "outputs": [
    {
     "data": {
      "image/png": "[encoded data removed]",
      "text/plain": [
       "<Figure size 432x288 with 1 Axes>"
      ]
     },
     "metadata": {
      "needs_background": "light"
     },
     "output_type": "display_data"
    }
   ],
   "source": [
    "df_16 = df.loc[df['year'] == 16][['ege', 'k', 'round']]\n",
    "x_test_16 = df_16[['k', 'ege']].values\n",
    "y_test_16 = df_16['round'].values - 3\n",
    "\n",
    "one_hot_labels = keras.utils.to_categorical(y, num_classes=3)\n",
    "\n",
    "y_predict_16 = model.predict(x_test_16)\n",
    "y_predict_16 = list(map(lambda y : y.argmax()+3, y_predict_16))\n",
    "\n",
    "marker_size = [100 for i in range(len(x))]\n",
    "\n",
    "plt.scatter(x_test_16[:, 1], y_test_16+3, marker='|', color='green', s=marker_size)\n",
    "plt.scatter(x_test_16[:, 1], y_predict_16, marker='x', color='red', s=marker_size)\n",
    "\n",
    "plt.title('Поток 2017 года')\n",
    "plt.xlabel('Балл ЕГЭ')\n",
    "plt.ylabel('Средняя оценка')\n",
    "plt.xticks(np.arange(min(x_test_16[:, 1]), max(x_test_16[:, 1])+1, 2))\n",
    "plt.legend(['Оригинал', 'Прогноз']);"
   ]
  },
  {
   "cell_type": "markdown",
   "metadata": {},
   "source": [
    "### Пронозирование успеваемости абитуриентов за 2016 год"
   ]
  },
  {
   "cell_type": "code",
   "execution_count": null,
   "metadata": {},
   "outputs": [],
   "source": []
  }
 ],
 "metadata": {
  "kernelspec": {
   "display_name": "Python 3",
   "language": "python",
   "name": "python3"
  },
  "language_info": {
   "codemirror_mode": {
    "name": "ipython",
    "version": 3
   },
   "file_extension": ".py",
   "mimetype": "text/x-python",
   "name": "python",
   "nbconvert_exporter": "python",
   "pygments_lexer": "ipython3",
   "version": "3.7.3"
  }
 },
 "nbformat": 4,
 "nbformat_minor": 2
}
