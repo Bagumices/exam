{
 "cells": [
  {
   "cell_type": "code",
   "execution_count": 1,
   "metadata": {},
   "outputs": [
    {
     "name": "stderr",
     "output_type": "stream",
     "text": [
      "Using TensorFlow backend.\n"
     ]
    }
   ],
   "source": [
    "import numpy as np \n",
    "import matplotlib.pyplot as plt \n",
    "import pandas as pd \n",
    "\n",
    "import keras\n",
    "from keras.layers import Embedding, Dropout\n",
    "from keras.layers import LSTM\n",
    "from keras.models import Sequential\n",
    "from keras.layers import Dense\n",
    "\n",
    "np.set_printoptions(precision=4, suppress=True)"
   ]
  },
  {
   "cell_type": "code",
   "execution_count": 2,
   "metadata": {},
   "outputs": [],
   "source": [
    "df = pd.read_csv('../datas.csv', sep=',', index_col='id')\n",
    "\n",
    "subjects = ['calculus', 'algebra', 'discrete', 'ode', 'complex', 'programming',\n",
    "            'stat', 'pde', 'functional', 'variational', 'random_proc', 'numerical']\n",
    "years = [13, 14, 15, 16, 17]\n",
    "\n",
    "df['mean'] = df[subjects].mean(axis=1)\n",
    "df['round'] = np.rint(df['mean'].values)\n",
    "\n",
    "df.loc[df['year'] == 13, 'k'] = 0.8\n",
    "df.loc[df['year'] == 14, 'k'] = 0.5\n",
    "df.loc[df['year'] >= 15, 'k'] = 0.3"
   ]
  },
  {
   "cell_type": "code",
   "execution_count": 4,
   "metadata": {},
   "outputs": [],
   "source": [
    "train_df = df.loc[df['year'] <= 15]\n",
    "\n",
    "x_train = train_df[['k', 'ege']].values\n",
    "y_train = train_df['round'].values - 3\n",
    "\n",
    "test_df = df.loc[df['year'] > 15]\n",
    "x_test = test_df[['k', 'ege']].values\n",
    "y_test = test_df['round'].values - 3\n",
    "\n",
    "x_additional = np.array([\n",
    "    [0.8, 243], [0.8, 239], [0.8, 237], [0.8, 235], [0.8, 234], [0.8, 233], [0.8, 232], [0.8, 231], \n",
    "    [0.8, 230], [0.8, 229], [0.8, 228], [0.8, 227], [0.8, 226], [0.8, 225], [0.8, 224], [0.8, 223], \n",
    "    [0.8, 222], [0.8, 221], [0.8, 220], [0.8, 219], \n",
    "    [0.5, 235], [0.5, 220], [0.5, 218], [0.5, 217], [0.5, 215], [0.5, 214], [0.5, 213], [0.5, 210], \n",
    "    [0.5, 209], [0.5, 207], [0.5, 206], [0.5, 205], [0.5, 203], [0.5, 200], [0.5, 199], [0.5, 195], \n",
    "    [0.5, 193], [0.5, 192], [0.5, 191], [0.5, 190], \n",
    "    [0.3, 244], [0.3, 222], [0.3, 215], [0.3, 213], [0.3, 211], [0.3, 209], [0.3, 206], [0.3, 205], \n",
    "    [0.3, 204], [0.3, 203], [0.3, 202], [0.3, 201], [0.3, 200], [0.3, 199], [0.3, 197], [0.3, 196], \n",
    "    [0.3, 194], [0.3, 193], [0.3, 191], [0.3, 191]\n",
    "])\n",
    "y_additional = np.array([\n",
    "    2,2,2,2,2,2,1,1,1,1,1,1,1,1,0,0,0,0,0,0,2,2,2,2,2,2,2,1,1,1,1,1,1,1,1,0,0,0,0,0,2,2,2,1,1,1,1,\n",
    "    1,1,1,1,1,1,1,1,0,0,0,0,0])\n",
    "\n",
    "x = np.concatenate((x_train, x_additional), axis=0)\n",
    "y = np.concatenate((y_train, y_additional), axis=0)"
   ]
  },
  {
   "cell_type": "code",
   "execution_count": 5,
   "metadata": {},
   "outputs": [
    {
     "name": "stdout",
     "output_type": "stream",
     "text": [
      "WARNING:tensorflow:From /home/roman/PycharmProjects/Example/venv/lib/python3.7/site-packages/tensorflow/python/framework/op_def_library.py:263: colocate_with (from tensorflow.python.framework.ops) is deprecated and will be removed in a future version.\n",
      "Instructions for updating:\n",
      "Colocations handled automatically by placer.\n",
      "WARNING:tensorflow:From /home/roman/PycharmProjects/Example/venv/lib/python3.7/site-packages/keras/backend/tensorflow_backend.py:3445: calling dropout (from tensorflow.python.ops.nn_ops) with keep_prob is deprecated and will be removed in a future version.\n",
      "Instructions for updating:\n",
      "Please use `rate` instead of `keep_prob`. Rate should be set to `rate = 1 - keep_prob`.\n"
     ]
    }
   ],
   "source": [
    "max_features = 1024\n",
    "\n",
    "model = Sequential()\n",
    "\n",
    "model.add(Embedding(max_features, output_dim=256))\n",
    "model.add(LSTM(128))\n",
    "model.add(Dropout(0.5))\n",
    "model.add(Dense(3, activation='softmax'))\n",
    "\n",
    "model.compile(loss='categorical_crossentropy',\n",
    "              optimizer='rmsprop',\n",
    "              metrics=['categorical_accuracy'])"
   ]
  },
  {
   "cell_type": "code",
   "execution_count": 6,
   "metadata": {},
   "outputs": [
    {
     "name": "stdout",
     "output_type": "stream",
     "text": [
      "WARNING:tensorflow:From /home/roman/PycharmProjects/Example/venv/lib/python3.7/site-packages/tensorflow/python/ops/math_ops.py:3066: to_int32 (from tensorflow.python.ops.math_ops) is deprecated and will be removed in a future version.\n",
      "Instructions for updating:\n",
      "Use tf.cast instead.\n",
      "Epoch 1/100\n",
      "60/60 [==============================] - 1s 23ms/step - loss: 1.0765 - categorical_accuracy: 0.5167\n",
      "Epoch 2/100\n",
      "60/60 [==============================] - 0s 506us/step - loss: 1.0250 - categorical_accuracy: 0.5333\n",
      "Epoch 3/100\n",
      "60/60 [==============================] - 0s 535us/step - loss: 0.9768 - categorical_accuracy: 0.5833\n",
      "Epoch 4/100\n",
      "60/60 [==============================] - 0s 463us/step - loss: 0.9154 - categorical_accuracy: 0.6500\n",
      "Epoch 5/100\n",
      "60/60 [==============================] - 0s 502us/step - loss: 0.8723 - categorical_accuracy: 0.6333\n",
      "Epoch 6/100\n",
      "60/60 [==============================] - 0s 532us/step - loss: 0.8331 - categorical_accuracy: 0.6000\n",
      "Epoch 7/100\n",
      "60/60 [==============================] - 0s 593us/step - loss: 0.7890 - categorical_accuracy: 0.7667\n",
      "Epoch 8/100\n",
      "60/60 [==============================] - 0s 528us/step - loss: 0.7622 - categorical_accuracy: 0.7833\n",
      "Epoch 9/100\n",
      "60/60 [==============================] - 0s 545us/step - loss: 0.6949 - categorical_accuracy: 0.7667\n",
      "Epoch 10/100\n",
      "60/60 [==============================] - 0s 439us/step - loss: 0.6601 - categorical_accuracy: 0.8333\n",
      "Epoch 11/100\n",
      "60/60 [==============================] - 0s 476us/step - loss: 0.6043 - categorical_accuracy: 0.8500\n",
      "Epoch 12/100\n",
      "60/60 [==============================] - 0s 553us/step - loss: 0.5468 - categorical_accuracy: 0.8500\n",
      "Epoch 13/100\n",
      "60/60 [==============================] - 0s 536us/step - loss: 0.5231 - categorical_accuracy: 0.8667\n",
      "Epoch 14/100\n",
      "60/60 [==============================] - 0s 500us/step - loss: 0.4579 - categorical_accuracy: 0.8500\n",
      "Epoch 15/100\n",
      "60/60 [==============================] - 0s 427us/step - loss: 0.4382 - categorical_accuracy: 0.8333\n",
      "Epoch 16/100\n",
      "60/60 [==============================] - 0s 455us/step - loss: 0.3931 - categorical_accuracy: 0.8667\n",
      "Epoch 17/100\n",
      "60/60 [==============================] - 0s 542us/step - loss: 0.3585 - categorical_accuracy: 0.8333\n",
      "Epoch 18/100\n",
      "60/60 [==============================] - 0s 569us/step - loss: 0.3384 - categorical_accuracy: 0.8500\n",
      "Epoch 19/100\n",
      "60/60 [==============================] - 0s 628us/step - loss: 0.3075 - categorical_accuracy: 0.8833\n",
      "Epoch 20/100\n",
      "60/60 [==============================] - 0s 554us/step - loss: 0.2811 - categorical_accuracy: 0.9000\n",
      "Epoch 21/100\n",
      "60/60 [==============================] - 0s 614us/step - loss: 0.2587 - categorical_accuracy: 0.9000\n",
      "Epoch 22/100\n",
      "60/60 [==============================] - 0s 558us/step - loss: 0.2497 - categorical_accuracy: 0.9167\n",
      "Epoch 23/100\n",
      "60/60 [==============================] - 0s 565us/step - loss: 0.2462 - categorical_accuracy: 0.9000\n",
      "Epoch 24/100\n",
      "60/60 [==============================] - 0s 643us/step - loss: 0.2015 - categorical_accuracy: 0.9167\n",
      "Epoch 25/100\n",
      "60/60 [==============================] - 0s 661us/step - loss: 0.2021 - categorical_accuracy: 0.9167\n",
      "Epoch 26/100\n",
      "60/60 [==============================] - 0s 538us/step - loss: 0.1873 - categorical_accuracy: 0.9167\n",
      "Epoch 27/100\n",
      "60/60 [==============================] - 0s 531us/step - loss: 0.2064 - categorical_accuracy: 0.8667\n",
      "Epoch 28/100\n",
      "60/60 [==============================] - 0s 579us/step - loss: 0.1839 - categorical_accuracy: 0.9167\n",
      "Epoch 29/100\n",
      "60/60 [==============================] - 0s 503us/step - loss: 0.1760 - categorical_accuracy: 0.9167\n",
      "Epoch 30/100\n",
      "60/60 [==============================] - 0s 511us/step - loss: 0.1969 - categorical_accuracy: 0.8833\n",
      "Epoch 31/100\n",
      "60/60 [==============================] - 0s 373us/step - loss: 0.1725 - categorical_accuracy: 0.9333\n",
      "Epoch 32/100\n",
      "60/60 [==============================] - 0s 576us/step - loss: 0.1835 - categorical_accuracy: 0.9000\n",
      "Epoch 33/100\n",
      "60/60 [==============================] - 0s 415us/step - loss: 0.1778 - categorical_accuracy: 0.9000\n",
      "Epoch 34/100\n",
      "60/60 [==============================] - 0s 643us/step - loss: 0.1807 - categorical_accuracy: 0.8833\n",
      "Epoch 35/100\n",
      "60/60 [==============================] - 0s 504us/step - loss: 0.1620 - categorical_accuracy: 0.9000\n",
      "Epoch 36/100\n",
      "60/60 [==============================] - 0s 526us/step - loss: 0.1608 - categorical_accuracy: 0.8833\n",
      "Epoch 37/100\n",
      "60/60 [==============================] - 0s 651us/step - loss: 0.1804 - categorical_accuracy: 0.9167\n",
      "Epoch 38/100\n",
      "60/60 [==============================] - 0s 729us/step - loss: 0.1882 - categorical_accuracy: 0.9000\n",
      "Epoch 39/100\n",
      "60/60 [==============================] - 0s 622us/step - loss: 0.1648 - categorical_accuracy: 0.8833\n",
      "Epoch 40/100\n",
      "60/60 [==============================] - 0s 730us/step - loss: 0.1449 - categorical_accuracy: 0.9333\n",
      "Epoch 41/100\n",
      "60/60 [==============================] - 0s 564us/step - loss: 0.1973 - categorical_accuracy: 0.8833\n",
      "Epoch 42/100\n",
      "60/60 [==============================] - 0s 572us/step - loss: 0.1986 - categorical_accuracy: 0.8833\n",
      "Epoch 43/100\n",
      "60/60 [==============================] - 0s 748us/step - loss: 0.1790 - categorical_accuracy: 0.9000\n",
      "Epoch 44/100\n",
      "60/60 [==============================] - 0s 614us/step - loss: 0.1431 - categorical_accuracy: 0.9500\n",
      "Epoch 45/100\n",
      "60/60 [==============================] - 0s 640us/step - loss: 0.1628 - categorical_accuracy: 0.9167\n",
      "Epoch 46/100\n",
      "60/60 [==============================] - 0s 525us/step - loss: 0.1455 - categorical_accuracy: 0.8833\n",
      "Epoch 47/100\n",
      "60/60 [==============================] - 0s 433us/step - loss: 0.1379 - categorical_accuracy: 0.9333\n",
      "Epoch 48/100\n",
      "60/60 [==============================] - 0s 585us/step - loss: 0.1407 - categorical_accuracy: 0.9167\n",
      "Epoch 49/100\n",
      "60/60 [==============================] - 0s 713us/step - loss: 0.1755 - categorical_accuracy: 0.8833\n",
      "Epoch 50/100\n",
      "60/60 [==============================] - 0s 709us/step - loss: 0.1860 - categorical_accuracy: 0.8833\n",
      "Epoch 51/100\n",
      "60/60 [==============================] - 0s 548us/step - loss: 0.1792 - categorical_accuracy: 0.8833\n",
      "Epoch 52/100\n",
      "60/60 [==============================] - 0s 557us/step - loss: 0.1839 - categorical_accuracy: 0.8667\n",
      "Epoch 53/100\n",
      "60/60 [==============================] - 0s 431us/step - loss: 0.1469 - categorical_accuracy: 0.9167\n",
      "Epoch 54/100\n",
      "60/60 [==============================] - 0s 460us/step - loss: 0.1680 - categorical_accuracy: 0.9167\n",
      "Epoch 55/100\n",
      "60/60 [==============================] - 0s 472us/step - loss: 0.1565 - categorical_accuracy: 0.9333\n",
      "Epoch 56/100\n",
      "60/60 [==============================] - 0s 455us/step - loss: 0.1610 - categorical_accuracy: 0.9000\n",
      "Epoch 57/100\n",
      "60/60 [==============================] - 0s 501us/step - loss: 0.1635 - categorical_accuracy: 0.8833\n",
      "Epoch 58/100\n",
      "60/60 [==============================] - 0s 444us/step - loss: 0.1520 - categorical_accuracy: 0.9000\n",
      "Epoch 59/100\n",
      "60/60 [==============================] - 0s 385us/step - loss: 0.1540 - categorical_accuracy: 0.9000\n",
      "Epoch 60/100\n",
      "60/60 [==============================] - 0s 417us/step - loss: 0.1738 - categorical_accuracy: 0.9167\n",
      "Epoch 61/100\n",
      "60/60 [==============================] - 0s 380us/step - loss: 0.1810 - categorical_accuracy: 0.8833\n",
      "Epoch 62/100\n",
      "60/60 [==============================] - 0s 411us/step - loss: 0.1452 - categorical_accuracy: 0.9333\n",
      "Epoch 63/100\n",
      "60/60 [==============================] - 0s 360us/step - loss: 0.1580 - categorical_accuracy: 0.9167\n",
      "Epoch 64/100\n",
      "60/60 [==============================] - 0s 442us/step - loss: 0.1625 - categorical_accuracy: 0.9000\n",
      "Epoch 65/100\n",
      "60/60 [==============================] - 0s 394us/step - loss: 0.1664 - categorical_accuracy: 0.8500\n",
      "Epoch 66/100\n",
      "60/60 [==============================] - 0s 389us/step - loss: 0.1635 - categorical_accuracy: 0.9167\n",
      "Epoch 67/100\n",
      "60/60 [==============================] - 0s 402us/step - loss: 0.1560 - categorical_accuracy: 0.9000\n",
      "Epoch 68/100\n",
      "60/60 [==============================] - 0s 435us/step - loss: 0.1633 - categorical_accuracy: 0.9000\n",
      "Epoch 69/100\n",
      "60/60 [==============================] - 0s 370us/step - loss: 0.1501 - categorical_accuracy: 0.9000\n",
      "Epoch 70/100\n"
     ]
    },
    {
     "name": "stdout",
     "output_type": "stream",
     "text": [
      "60/60 [==============================] - 0s 422us/step - loss: 0.1530 - categorical_accuracy: 0.9167\n",
      "Epoch 71/100\n",
      "60/60 [==============================] - 0s 399us/step - loss: 0.1601 - categorical_accuracy: 0.9167\n",
      "Epoch 72/100\n",
      "60/60 [==============================] - 0s 431us/step - loss: 0.1738 - categorical_accuracy: 0.9333\n",
      "Epoch 73/100\n",
      "60/60 [==============================] - 0s 381us/step - loss: 0.1639 - categorical_accuracy: 0.8833\n",
      "Epoch 74/100\n",
      "60/60 [==============================] - 0s 421us/step - loss: 0.1524 - categorical_accuracy: 0.9167\n",
      "Epoch 75/100\n",
      "60/60 [==============================] - 0s 457us/step - loss: 0.1732 - categorical_accuracy: 0.9167\n",
      "Epoch 76/100\n",
      "60/60 [==============================] - 0s 490us/step - loss: 0.1646 - categorical_accuracy: 0.9000\n",
      "Epoch 77/100\n",
      "60/60 [==============================] - 0s 453us/step - loss: 0.1421 - categorical_accuracy: 0.9167\n",
      "Epoch 78/100\n",
      "60/60 [==============================] - 0s 481us/step - loss: 0.1527 - categorical_accuracy: 0.9167\n",
      "Epoch 79/100\n",
      "60/60 [==============================] - 0s 410us/step - loss: 0.1486 - categorical_accuracy: 0.9000\n",
      "Epoch 80/100\n",
      "60/60 [==============================] - 0s 439us/step - loss: 0.1564 - categorical_accuracy: 0.9167\n",
      "Epoch 81/100\n",
      "60/60 [==============================] - 0s 510us/step - loss: 0.1419 - categorical_accuracy: 0.9167\n",
      "Epoch 82/100\n",
      "60/60 [==============================] - 0s 416us/step - loss: 0.1507 - categorical_accuracy: 0.9167\n",
      "Epoch 83/100\n",
      "60/60 [==============================] - 0s 479us/step - loss: 0.1864 - categorical_accuracy: 0.8667\n",
      "Epoch 84/100\n",
      "60/60 [==============================] - 0s 491us/step - loss: 0.1465 - categorical_accuracy: 0.9500\n",
      "Epoch 85/100\n",
      "60/60 [==============================] - 0s 375us/step - loss: 0.1344 - categorical_accuracy: 0.9167\n",
      "Epoch 86/100\n",
      "60/60 [==============================] - 0s 421us/step - loss: 0.1378 - categorical_accuracy: 0.9167\n",
      "Epoch 87/100\n",
      "60/60 [==============================] - 0s 385us/step - loss: 0.1740 - categorical_accuracy: 0.8667\n",
      "Epoch 88/100\n",
      "60/60 [==============================] - 0s 394us/step - loss: 0.1566 - categorical_accuracy: 0.8833\n",
      "Epoch 89/100\n",
      "60/60 [==============================] - 0s 398us/step - loss: 0.1531 - categorical_accuracy: 0.9333\n",
      "Epoch 90/100\n",
      "60/60 [==============================] - 0s 431us/step - loss: 0.1288 - categorical_accuracy: 0.9333\n",
      "Epoch 91/100\n",
      "60/60 [==============================] - 0s 376us/step - loss: 0.1451 - categorical_accuracy: 0.9167\n",
      "Epoch 92/100\n",
      "60/60 [==============================] - 0s 409us/step - loss: 0.1616 - categorical_accuracy: 0.9000\n",
      "Epoch 93/100\n",
      "60/60 [==============================] - 0s 423us/step - loss: 0.1718 - categorical_accuracy: 0.8833\n",
      "Epoch 94/100\n",
      "60/60 [==============================] - 0s 494us/step - loss: 0.1792 - categorical_accuracy: 0.8833\n",
      "Epoch 95/100\n",
      "60/60 [==============================] - 0s 479us/step - loss: 0.1641 - categorical_accuracy: 0.9167\n",
      "Epoch 96/100\n",
      "60/60 [==============================] - 0s 414us/step - loss: 0.1482 - categorical_accuracy: 0.9167\n",
      "Epoch 97/100\n",
      "60/60 [==============================] - 0s 491us/step - loss: 0.1500 - categorical_accuracy: 0.9000\n",
      "Epoch 98/100\n",
      "60/60 [==============================] - 0s 492us/step - loss: 0.1755 - categorical_accuracy: 0.9000\n",
      "Epoch 99/100\n",
      "60/60 [==============================] - 0s 548us/step - loss: 0.1623 - categorical_accuracy: 0.9167\n",
      "Epoch 100/100\n",
      "60/60 [==============================] - 0s 441us/step - loss: 0.1805 - categorical_accuracy: 0.9000\n"
     ]
    }
   ],
   "source": [
    "one_hot_labels = keras.utils.to_categorical(y_train, num_classes=3)\n",
    "history = model.fit(x_train, one_hot_labels, epochs=100, batch_size=20, verbose=1, shuffle=True)"
   ]
  },
  {
   "cell_type": "code",
   "execution_count": 7,
   "metadata": {},
   "outputs": [
    {
     "data": {
      "image/png": "[encoded data removed]",
      "text/plain": [
       "<Figure size 432x288 with 1 Axes>"
      ]
     },
     "metadata": {
      "needs_background": "light"
     },
     "output_type": "display_data"
    }
   ],
   "source": [
    "plt.plot(history.history['categorical_accuracy'], color='brown')\n",
    "plt.grid()\n",
    "plt.title('Точность модели на тренировочной выборке')\n",
    "plt.ylabel('Точность')\n",
    "plt.xlabel('Эпоха')\n",
    "plt.savefig('enrollee_acc.png', dpi=300)"
   ]
  },
  {
   "cell_type": "code",
   "execution_count": 8,
   "metadata": {},
   "outputs": [
    {
     "data": {
      "image/png": "[encoded data removed]",
      "text/plain": [
       "<Figure size 432x288 with 1 Axes>"
      ]
     },
     "metadata": {
      "needs_background": "light"
     },
     "output_type": "display_data"
    }
   ],
   "source": [
    "plt.plot(history.history['loss'], color='purple')\n",
    "plt.grid()\n",
    "plt.title('Значение функции потерь на тренировочной выборке')\n",
    "plt.ylabel('потеря')\n",
    "plt.xlabel('Эпоха')\n",
    "plt.savefig('enrollee_loss.png', dpi=300)"
   ]
  },
  {
   "cell_type": "markdown",
   "metadata": {},
   "source": [
    "### Пронозирование успеваемости абитуриентов за 2016 год"
   ]
  },
  {
   "cell_type": "code",
   "execution_count": 14,
   "metadata": {},
   "outputs": [
    {
     "data": {
      "image/png": "[encoded data removed]",
      "text/plain": [
       "<Figure size 432x288 with 1 Axes>"
      ]
     },
     "metadata": {
      "needs_background": "light"
     },
     "output_type": "display_data"
    }
   ],
   "source": [
    "df_16 = df.loc[df['year'] == 16][['ege', 'k', 'round']]\n",
    "x_test_16 = df_16[['k', 'ege']].values\n",
    "y_test_16 = df_16['round'].values - 3\n",
    "\n",
    "y_predict_16 = model.predict(x_test_16)\n",
    "y_predict_16 = list(map(lambda y : y.argmax()+3, y_predict_16))\n",
    "\n",
    "marker_size = [100 for i in range(len(x))]\n",
    "\n",
    "plt.scatter(x_test_16[:, 1], y_test_16+3, marker='|', color='green', s=marker_size)\n",
    "plt.scatter(x_test_16[:, 1], y_predict_16, marker='_', color='red', s=marker_size)\n",
    "\n",
    "plt.title('Поток 2017 года')\n",
    "plt.xlabel('Балл ЕГЭ')\n",
    "plt.ylabel('Средняя оценка')\n",
    "plt.legend(['Оригинал', 'Прогноз']);"
   ]
  },
  {
   "cell_type": "markdown",
   "metadata": {},
   "source": [
    "### Пронозирование успеваемости абитуриентов за 2017 год"
   ]
  },
  {
   "cell_type": "code",
   "execution_count": 16,
   "metadata": {},
   "outputs": [
    {
     "data": {
      "image/png": "[encoded data removed]",
      "text/plain": [
       "<Figure size 432x288 with 1 Axes>"
      ]
     },
     "metadata": {
      "needs_background": "light"
     },
     "output_type": "display_data"
    }
   ],
   "source": [
    "df_17 = df.loc[df['year'] == 17][['ege', 'k', 'round']]\n",
    "x_test_17 = df_17[['k', 'ege']].values\n",
    "y_test_17 = df_17['round'].values - 3\n",
    "\n",
    "y_predict_17 = model.predict(x_test_17)\n",
    "y_predict_17 = list(map(lambda y : y.argmax()+3, y_predict_17))\n",
    "\n",
    "marker_size = [100 for i in range(len(x))]\n",
    "\n",
    "plt.scatter(x_test_17[:, 1], y_test_17+3, marker='|', color='green', s=marker_size)\n",
    "plt.scatter(x_test_17[:, 1], y_predict_17, marker='_', color='red', s=marker_size)\n",
    "\n",
    "plt.title('Поток 2017 года')\n",
    "plt.xlabel('Балл ЕГЭ')\n",
    "plt.ylabel('Средняя оценка')\n",
    "plt.legend(['Оригинал', 'Прогноз']);"
   ]
  },
  {
   "cell_type": "code",
   "execution_count": 17,
   "metadata": {},
   "outputs": [],
   "source": [
    "#model.save('enrollee_acc_90.h5')"
   ]
  }
 ],
 "metadata": {
  "kernelspec": {
   "display_name": "Python 3",
   "language": "python",
   "name": "python3"
  },
  "language_info": {
   "codemirror_mode": {
    "name": "ipython",
    "version": 3
   },
   "file_extension": ".py",
   "mimetype": "text/x-python",
   "name": "python",
   "nbconvert_exporter": "python",
   "pygments_lexer": "ipython3",
   "version": "3.7.3"
  }
 },
 "nbformat": 4,
 "nbformat_minor": 2
}
