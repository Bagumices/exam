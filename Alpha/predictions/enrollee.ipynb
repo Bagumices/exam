{
 "cells": [
  {
   "cell_type": "code",
   "execution_count": 1,
   "metadata": {},
   "outputs": [
    {
     "name": "stderr",
     "output_type": "stream",
     "text": [
      "Using TensorFlow backend.\n"
     ]
    }
   ],
   "source": [
    "import numpy as np \n",
    "import matplotlib.pyplot as plt \n",
    "import pandas as pd \n",
    "import keras\n",
    "\n",
    "from keras.models import load_model\n",
    "from keras.layers import Embedding, Dropout\n",
    "from keras.layers import LSTM\n",
    "from keras.models import Sequential\n",
    "from keras.layers import Dense\n",
    "\n",
    "np.set_printoptions(precision=4, suppress=True)"
   ]
  },
  {
   "cell_type": "code",
   "execution_count": 2,
   "metadata": {},
   "outputs": [],
   "source": [
    "df = pd.read_csv('../datas.csv', sep=',', index_col='id')\n",
    "\n",
    "subjects = ['calculus', 'algebra', 'discrete', 'ode', 'complex', 'programming',\n",
    "            'stat', 'pde', 'functional', 'variational', 'random_proc', 'numerical']\n",
    "years = [13, 14, 15, 16, 17]\n",
    "\n",
    "df['mean'] = df[subjects].mean(axis=1)\n",
    "df['round'] = np.rint(df['mean'].values)\n",
    "\n",
    "df.loc[df['year'] == 13, 'k'] = 0.8\n",
    "df.loc[df['year'] == 14, 'k'] = 0.5\n",
    "df.loc[df['year'] >= 15, 'k'] = 0.3"
   ]
  },
  {
   "cell_type": "code",
   "execution_count": 3,
   "metadata": {},
   "outputs": [],
   "source": [
    "train_df = df.loc[df['year'] <= 15]\n",
    "\n",
    "x_train = train_df[['k', 'ege']].values\n",
    "y_train = train_df['round'].values - 3\n",
    "\n",
    "test_df = df.loc[df['year'] > 15]\n",
    "x = test_df[['k', 'ege']].values\n",
    "y = test_df['round'].values - 3\n"
   ]
  },
  {
   "cell_type": "code",
   "execution_count": 4,
   "metadata": {},
   "outputs": [
    {
     "name": "stdout",
     "output_type": "stream",
     "text": [
      "WARNING:tensorflow:From /home/roman/PycharmProjects/exam/venv/lib/python3.7/site-packages/tensorflow/python/framework/op_def_library.py:263: colocate_with (from tensorflow.python.framework.ops) is deprecated and will be removed in a future version.\n",
      "Instructions for updating:\n",
      "Colocations handled automatically by placer.\n",
      "WARNING:tensorflow:From /home/roman/PycharmProjects/exam/venv/lib/python3.7/site-packages/tensorflow/python/ops/math_ops.py:3066: to_int32 (from tensorflow.python.ops.math_ops) is deprecated and will be removed in a future version.\n",
      "Instructions for updating:\n",
      "Use tf.cast instead.\n"
     ]
    }
   ],
   "source": [
    "model = load_model(\"enrollee_model.h5\")"
   ]
  },
  {
   "cell_type": "code",
   "execution_count": 5,
   "metadata": {},
   "outputs": [
    {
     "name": "stdout",
     "output_type": "stream",
     "text": [
      "_________________________________________________________________\n",
      "Layer (type)                 Output Shape              Param #   \n",
      "=================================================================\n",
      "embedding_14 (Embedding)     (None, None, 2)           2048      \n",
      "_________________________________________________________________\n",
      "lstm_13 (LSTM)               (None, 128)               67072     \n",
      "_________________________________________________________________\n",
      "dense_30 (Dense)             (None, 3)                 387       \n",
      "_________________________________________________________________\n",
      "dense_31 (Dense)             (None, 3)                 12        \n",
      "=================================================================\n",
      "Total params: 69,519\n",
      "Trainable params: 69,519\n",
      "Non-trainable params: 0\n",
      "_________________________________________________________________\n"
     ]
    }
   ],
   "source": [
    "model.summary()"
   ]
  },
  {
   "cell_type": "code",
   "execution_count": 6,
   "metadata": {},
   "outputs": [
    {
     "name": "stdout",
     "output_type": "stream",
     "text": [
      "20/20 [==============================] - 0s 17ms/step\n",
      "2016\n",
      "[0.8946971893310547, 0.699999988079071]\n",
      "20/20 [==============================] - 0s 170us/step\n",
      "2017\n",
      "[1.0736539363861084, 0.550000011920929]\n"
     ]
    }
   ],
   "source": [
    "df_16 = df.loc[df['year'] == 16][['ege', 'k', 'round']]\n",
    "x_test_16 = df_16[['k', 'ege']].values\n",
    "y_test_16 = df_16['round'].values - 3\n",
    "\n",
    "one_hot_labels_16 = keras.utils.to_categorical(y_test_16, num_classes=3)\n",
    "\n",
    "loss_and_metrics_16 = model.evaluate(x_test_16, one_hot_labels_16)\n",
    "print(\"2016\")\n",
    "print(loss_and_metrics_16)\n",
    "\n",
    "df_17 = df.loc[df['year'] == 17][['ege', 'k', 'round']]\n",
    "x_test_17 = df_17[['k', 'ege']].values\n",
    "y_test_17 = df_17['round'].values - 3\n",
    "\n",
    "one_hot_labels_17 = keras.utils.to_categorical(y_test_17, num_classes=3)\n",
    "\n",
    "loss_and_metrics_17 = model.evaluate(x_test_17, one_hot_labels_17)\n",
    "\n",
    "print(\"2017\")\n",
    "print(loss_and_metrics_17)"
   ]
  },
  {
   "cell_type": "markdown",
   "metadata": {},
   "source": [
    "### Пронозирование успеваемости абитуриентов за 2016 год"
   ]
  },
  {
   "cell_type": "code",
   "execution_count": 7,
   "metadata": {},
   "outputs": [
    {
     "data": {
      "image/png": "[encoded data removed]",
      "text/plain": [
       "<Figure size 432x288 with 1 Axes>"
      ]
     },
     "metadata": {
      "needs_background": "light"
     },
     "output_type": "display_data"
    }
   ],
   "source": [
    "df_16 = df.loc[df['year'] == 16][['ege', 'k', 'round']]\n",
    "x_test_16 = df_16[['k', 'ege']].values\n",
    "y_test_16 = df_16['round'].values - 3\n",
    "\n",
    "y_predict_16 = model.predict(x_test_16)\n",
    "y_predict_16 = list(map(lambda y : y.argmax()+3, y_predict_16))\n",
    "\n",
    "marker_size = [80 for i in range(len(x))]\n",
    "\n",
    "plt.scatter(x_test_16[:, 1], y_test_16+3, marker='|', color='blue', s=marker_size)\n",
    "plt.scatter(x_test_16[:, 1], y_predict_16, marker='_', color='red', s=marker_size)\n",
    "\n",
    "plt.title('Поток 2016 года')\n",
    "plt.xlabel('Балл ЕГЭ')\n",
    "plt.ylabel('Средняя оценка студента')\n",
    "plt.legend(['Оригинал', 'Прогноз']);\n",
    "plt.savefig('enrollee_predict_2016.png', dpi=300)"
   ]
  },
  {
   "cell_type": "markdown",
   "metadata": {},
   "source": [
    "### Пронозирование успеваемости абитуриентов за 2017 год"
   ]
  },
  {
   "cell_type": "code",
   "execution_count": 8,
   "metadata": {},
   "outputs": [
    {
     "data": {
      "image/png": "[encoded data removed]",
      "text/plain": [
       "<Figure size 432x288 with 1 Axes>"
      ]
     },
     "metadata": {
      "needs_background": "light"
     },
     "output_type": "display_data"
    }
   ],
   "source": [
    "df_17 = df.loc[df['year'] == 17][['ege', 'k', 'round']]\n",
    "x_test_17 = df_17[['k', 'ege']].values\n",
    "y_test_17 = df_17['round'].values - 3\n",
    "\n",
    "y_predict_17 = model.predict(x_test_17)\n",
    "y_predict_17 = list(map(lambda y : y.argmax()+3, y_predict_17))\n",
    "\n",
    "marker_size = [80 for i in range(len(x))]\n",
    "\n",
    "plt.scatter(x_test_17[:, 1], y_test_17+3, marker='|', color='blue', s=marker_size)\n",
    "plt.scatter(x_test_17[:, 1], y_predict_17, marker='_', color='red', s=marker_size)\n",
    "\n",
    "plt.title('Поток 2017 года')\n",
    "plt.xlabel('Балл ЕГЭ')\n",
    "plt.ylabel('Средняя оценка студента')\n",
    "plt.legend(['Оригинал', 'Прогноз']);\n",
    "plt.savefig('enrollee_predict_2017.png', dpi=300)"
   ]
  }
 ],
 "metadata": {
  "kernelspec": {
   "display_name": "Python 3",
   "language": "python",
   "name": "python3"
  },
  "language_info": {
   "codemirror_mode": {
    "name": "ipython",
    "version": 3
   },
   "file_extension": ".py",
   "mimetype": "text/x-python",
   "name": "python",
   "nbconvert_exporter": "python",
   "pygments_lexer": "ipython3",
   "version": "3.7.3"
  }
 },
 "nbformat": 4,
 "nbformat_minor": 2
}
