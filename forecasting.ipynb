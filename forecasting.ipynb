{
 "cells": [
  {
   "cell_type": "code",
   "execution_count": 1,
   "outputs": [
    {
     "name": "stderr",
     "text": [
      "Using TensorFlow backend.\n"
     ],
     "output_type": "stream"
    }
   ],
   "source": [
    "import numpy as np\n",
    "import pandas as pd\n",
    "from keras.layers import Dense, Activation, regularizers\n",
    "from keras.models import Sequential;\n"
   ],
   "metadata": {
    "collapsed": false,
    "pycharm": {
     "name": "#%%\n",
     "is_executing": false
    }
   }
  },
  {
   "cell_type": "markdown",
   "source": [
    "#### Данные для обучения\n"
   ],
   "metadata": {
    "collapsed": false
   }
  },
  {
   "cell_type": "code",
   "execution_count": 2,
   "outputs": [],
   "source": [
    "df = pd.read_csv('data.csv', sep=',', index_col='id')\n",
    "df = df[:-40]\n",
    "\n",
    "k = [0.8] * 20 + [0.5] * 20 + [0.3] * 60\n",
    "years = [13, 14, 15, 16, 17]\n",
    "subjects = ['calculus', 'algebra', 'discrete', 'ode', 'complex', 'mechanics',\n",
    "            'prob_and_stat', 'pde', 'functional', 'optimization', 'random_proc', 'numerical']\n",
    "df['mean'] = df[subjects].mean(axis=1)\n",
    "df['k'] = k[:-40]\n",
    "\n",
    "x_train = df[['k', 'ege']].values\n",
    "y_train = df['mean'].values\n"
   ],
   "metadata": {
    "collapsed": false,
    "pycharm": {
     "name": "#%%\n",
     "is_executing": false
    }
   }
  },
  {
   "cell_type": "markdown",
   "source": [
    "#### Модель \"Абитуриент\"\n"
   ],
   "metadata": {
    "collapsed": false
   }
  },
  {
   "cell_type": "code",
   "execution_count": 185,
   "outputs": [
    {
     "name": "stdout",
     "text": [
      "Epoch 1/150\n",
      " - 1s - loss: 2.1414 - acc: 0.0000e+00\n",
      "Epoch 2/150\n - 0s - loss: 0.5132 - acc: 0.0333\n",
      "Epoch 3/150\n - 0s - loss: 0.4784 - acc: 0.0333\n",
      "Epoch 4/150\n - 0s - loss: 0.4766 - acc: 0.0333\n",
      "Epoch 5/150\n - 0s - loss: 0.4822 - acc: 0.0333\n",
      "Epoch 6/150\n - 0s - loss: 0.4768 - acc: 0.0333\n",
      "Epoch 7/150\n - 0s - loss: 0.4728 - acc: 0.0333\n",
      "Epoch 8/150\n - 0s - loss: 0.4805 - acc: 0.0333\n",
      "Epoch 9/150\n - 0s - loss: 0.4747 - acc: 0.0333\n",
      "Epoch 10/150\n - 0s - loss: 0.4847 - acc: 0.0333\n",
      "Epoch 11/150\n - 0s - loss: 0.4791 - acc: 0.0333\n",
      "Epoch 12/150",
      "\n",
      " - 0s - loss: 0.4890 - acc: 0.0333\n",
      "Epoch 13/150\n",
      " - 0s - loss: 0.4781 - acc: 0.0333\n",
      "Epoch 14/150\n",
      " - 0s - loss: 0.4824 - acc: 0.0333\n",
      "Epoch 15/150\n",
      " - 0s - loss: 0.4800 - acc: 0.0333\n",
      "Epoch 16/150\n",
      " - 0s - loss: 0.4788 - acc: 0.0333\n",
      "Epoch 17/150\n",
      " - 0s - loss: 0.4803 - acc: 0.0333\n",
      "Epoch 18/150\n - 0s - loss: 0.4795 - acc: 0.0333\n",
      "Epoch 19/150\n",
      " - 0s - loss: 0.4781 - acc: 0.0333\n",
      "Epoch 20/150\n - 0s - loss: 0.4857 - acc: 0.0333\n",
      "Epoch 21/150\n",
      " - 0s - loss: 0.4784 - acc: 0.0333\n",
      "Epoch 22/150\n",
      " - 0s - loss: 0.4831 - acc: 0.0333\n",
      "Epoch 23/150\n - 0s - loss: 0.4763 - acc: 0.0333\n",
      "Epoch 24/150\n",
      " - 0s - loss: 0.4792 - acc: 0.0333\n",
      "Epoch 25/150\n - 0s - loss: 0.4782 - acc: 0.0333\n",
      "Epoch 26/150\n",
      " - 0s - loss: 0.4767 - acc: 0.0333\n",
      "Epoch 27/150\n",
      " - 0s - loss: 0.4814 - acc: 0.0333\n",
      "Epoch 28/150\n",
      " - 0s - loss: 0.4890 - acc: 0.0333\n",
      "Epoch 29/150\n",
      " - 0s - loss: 0.4777 - acc: 0.0333\n",
      "Epoch 30/150\n",
      " - 0s - loss: 0.4785 - acc: 0.0333\n",
      "Epoch 31/150\n",
      " - 0s - loss: 0.4797 - acc: 0.0333\n",
      "Epoch 32/150\n",
      " - 0s - loss: 0.4785 - acc: 0.0333\n",
      "Epoch 33/150\n",
      " - 0s - loss: 0.4862 - acc: 0.0333\n",
      "Epoch 34/150\n",
      " - 0s - loss: 0.4796 - acc: 0.0333\n",
      "Epoch 35/150\n",
      " - 0s - loss: 0.4786 - acc: 0.0333\n",
      "Epoch 36/150\n",
      " - 0s - loss: 0.4782 - acc: 0.0333\n",
      "Epoch 37/150\n",
      " - 0s - loss: 0.4788 - acc: 0.0333\n",
      "Epoch 38/150\n",
      " - 0s - loss: 0.4786 - acc: 0.0333\n",
      "Epoch 39/150\n",
      " - 0s - loss: 0.4799 - acc: 0.0333\n",
      "Epoch 40/150\n",
      " - 0s - loss: 0.4815 - acc: 0.0333\n",
      "Epoch 41/150\n",
      " - 0s - loss: 0.4785 - acc: 0.0333\n",
      "Epoch 42/150\n",
      " - 0s - loss: 0.4744 - acc: 0.0333\n",
      "Epoch 43/150\n",
      " - 0s - loss: 0.4789 - acc: 0.0333\n",
      "Epoch 44/150\n",
      " - 0s - loss: 0.4781 - acc: 0.0333\n",
      "Epoch 45/150\n - 0s - loss: 0.4766 - acc: 0.0333\n",
      "Epoch 46/150\n",
      " - 0s - loss: 0.4795 - acc: 0.0333\n",
      "Epoch 47/150\n",
      " - 0s - loss: 0.4765 - acc: 0.0333\n",
      "Epoch 48/150\n",
      " - 0s - loss: 0.4764 - acc: 0.0333\n",
      "Epoch 49/150\n",
      " - 0s - loss: 0.4852 - acc: 0.0333\n",
      "Epoch 50/150\n - 0s - loss: 0.4848 - acc: 0.0333\n",
      "Epoch 51/150\n - 0s - loss: 0.4799 - acc: 0.0333\n",
      "Epoch 52/150\n",
      " - 0s - loss: 0.4789 - acc: 0.0333\n",
      "Epoch 53/150\n",
      " - 0s - loss: 0.4841 - acc: 0.0333\n",
      "Epoch 54/150\n",
      " - 0s - loss: 0.4799 - acc: 0.0333\n",
      "Epoch 55/150\n",
      " - 0s - loss: 0.4841 - acc: 0.0333\n",
      "Epoch 56/150\n",
      " - 0s - loss: 0.4798 - acc: 0.0333\n",
      "Epoch 57/150\n",
      " - 0s - loss: 0.4793 - acc: 0.0333\n",
      "Epoch 58/150\n",
      " - 0s - loss: 0.4777 - acc: 0.0333\n",
      "Epoch 59/150\n",
      " - 0s - loss: 0.4811 - acc: 0.0333\n",
      "Epoch 60/150\n",
      " - 0s - loss: 0.4775 - acc: 0.0333\n",
      "Epoch 61/150\n",
      " - 0s - loss: 0.4847 - acc: 0.0333\n",
      "Epoch 62/150\n",
      " - 0s - loss: 0.4783 - acc: 0.0333\n",
      "Epoch 63/150\n",
      " - 0s - loss: 0.4741 - acc: 0.0333\n",
      "Epoch 64/150\n",
      " - 0s - loss: 0.4826 - acc: 0.0333\n",
      "Epoch 65/150\n",
      " - 0s - loss: 0.4780 - acc: 0.0333\n",
      "Epoch 66/150\n",
      " - 0s - loss: 0.4816 - acc: 0.0333\n",
      "Epoch 67/150\n",
      " - 0s - loss: 0.4760 - acc: 0.0333\n",
      "Epoch 68/150\n - 0s - loss: 0.4821 - acc: 0.0333\n",
      "Epoch 69/150\n",
      " - 0s - loss: 0.4778 - acc: 0.0333\n",
      "Epoch 70/150\n - 0s - loss: 0.4792 - acc: 0.0333\n",
      "Epoch 71/150\n",
      " - 0s - loss: 0.4803 - acc: 0.0333\n",
      "Epoch 72/150\n",
      " - 0s - loss: 0.4771 - acc: 0.0333\n",
      "Epoch 73/150\n",
      " - 0s - loss: 0.4799 - acc: 0.0333\n",
      "Epoch 74/150\n",
      " - 0s - loss: 0.4864 - acc: 0.0333\n",
      "Epoch 75/150\n",
      " - 0s - loss: 0.4833 - acc: 0.0333\n",
      "Epoch 76/150\n",
      " - 0s - loss: 0.4766 - acc: 0.0333\n",
      "Epoch 77/150\n",
      " - 0s - loss: 0.4776 - acc: 0.0333\n",
      "Epoch 78/150\n - 0s - loss: 0.4763 - acc: 0.0333\n",
      "Epoch 79/150\n",
      " - 0s - loss: 0.4746 - acc: 0.0333\n",
      "Epoch 80/150\n",
      " - 0s - loss: 0.4797 - acc: 0.0333\n",
      "Epoch 81/150\n",
      " - 0s - loss: 0.4850 - acc: 0.0333\n",
      "Epoch 82/150\n",
      " - 0s - loss: 0.4828 - acc: 0.0333\n",
      "Epoch 83/150\n",
      " - 0s - loss: 0.4820 - acc: 0.0333\n",
      "Epoch 84/150\n",
      " - 0s - loss: 0.4813 - acc: 0.0333\n",
      "Epoch 85/150\n",
      " - 0s - loss: 0.4797 - acc: 0.0333\n",
      "Epoch 86/150\n",
      " - 0s - loss: 0.4789 - acc: 0.0333\n",
      "Epoch 87/150\n",
      " - 0s - loss: 0.4779 - acc: 0.0333\n",
      "Epoch 88/150\n",
      " - 0s - loss: 0.4783 - acc: 0.0333\n",
      "Epoch 89/150\n - 0s - loss: 0.4766 - acc: 0.0333\n",
      "Epoch 90/150\n",
      " - 0s - loss: 0.4834 - acc: 0.0333\n",
      "Epoch 91/150\n",
      " - 0s - loss: 0.4728 - acc: 0.0333\n",
      "Epoch 92/150\n",
      " - 0s - loss: 0.4830 - acc: 0.0333\n",
      "Epoch 93/150\n",
      " - 0s - loss: 0.4802 - acc: 0.0333\n",
      "Epoch 94/150\n",
      " - 0s - loss: 0.4830 - acc: 0.0333\n",
      "Epoch 95/150\n",
      " - 0s - loss: 0.4809 - acc: 0.0333\n",
      "Epoch 96/150\n - 0s - loss: 0.4805 - acc: 0.0333\n",
      "Epoch 97/150\n",
      " - 0s - loss: 0.4758 - acc: 0.0333\n",
      "Epoch 98/150\n",
      " - 0s - loss: 0.4727 - acc: 0.0333\n",
      "Epoch 99/150\n",
      " - 0s - loss: 0.4830 - acc: 0.0333\n",
      "Epoch 100/150\n",
      " - 0s - loss: 0.4807 - acc: 0.0333\n",
      "Epoch 101/150\n",
      " - 0s - loss: 0.4816 - acc: 0.0333\n",
      "Epoch 102/150\n",
      " - 0s - loss: 0.4778 - acc: 0.0333\n",
      "Epoch 103/150\n",
      " - 0s - loss: 0.4854 - acc: 0.0333\n",
      "Epoch 104/150\n",
      " - 0s - loss: 0.4848 - acc: 0.0333\n",
      "Epoch 105/150\n - 0s - loss: 0.4803 - acc: 0.0333\n",
      "Epoch 106/150\n",
      " - 0s - loss: 0.4757 - acc: 0.0333\n",
      "Epoch 107/150\n",
      " - 0s - loss: 0.4769 - acc: 0.0333\n",
      "Epoch 108/150\n",
      " - 0s - loss: 0.4792 - acc: 0.0333\n",
      "Epoch 109/150\n",
      " - 0s - loss: 0.4763 - acc: 0.0333\n",
      "Epoch 110/150\n",
      " - 0s - loss: 0.4714 - acc: 0.0333\n",
      "Epoch 111/150\n",
      " - 0s - loss: 0.4821 - acc: 0.0333\n",
      "Epoch 112/150\n",
      " - 0s - loss: 0.4821 - acc: 0.0333\n",
      "Epoch 113/150\n",
      " - 0s - loss: 0.4778 - acc: 0.0333\n",
      "Epoch 114/150\n",
      " - 0s - loss: 0.4768 - acc: 0.0333\n",
      "Epoch 115/150\n",
      " - 0s - loss: 0.4838 - acc: 0.0333\n",
      "Epoch 116/150\n",
      " - 0s - loss: 0.4766 - acc: 0.0333\n",
      "Epoch 117/150\n - 0s - loss: 0.4753 - acc: 0.0333\n",
      "Epoch 118/150\n",
      " - 0s - loss: 0.4786 - acc: 0.0333\n",
      "Epoch 119/150\n",
      " - 0s - loss: 0.4768 - acc: 0.0333\n",
      "Epoch 120/150\n",
      " - 0s - loss: 0.4811 - acc: 0.0333\n",
      "Epoch 121/150\n",
      " - 0s - loss: 0.4790 - acc: 0.0333\n",
      "Epoch 122/150\n",
      " - 0s - loss: 0.4830 - acc: 0.0333\n",
      "Epoch 123/150\n",
      " - 0s - loss: 0.4789 - acc: 0.0333\n",
      "Epoch 124/150\n",
      " - 0s - loss: 0.4806 - acc: 0.0333\n",
      "Epoch 125/150\n",
      " - 0s - loss: 0.4740 - acc: 0.0333\n",
      "Epoch 126/150\n",
      " - 0s - loss: 0.4769 - acc: 0.0333\n",
      "Epoch 127/150\n",
      " - 0s - loss: 0.4818 - acc: 0.0333\n",
      "Epoch 128/150\n",
      " - 0s - loss: 0.4769 - acc: 0.0333\n",
      "Epoch 129/150\n",
      " - 0s - loss: 0.4768 - acc: 0.0333\n",
      "Epoch 130/150\n - 0s - loss: 0.4763 - acc: 0.0333\n",
      "Epoch 131/150\n",
      " - 0s - loss: 0.4746 - acc: 0.0333\n",
      "Epoch 132/150\n",
      " - 0s - loss: 0.4812 - acc: 0.0333\n",
      "Epoch 133/150\n",
      " - 0s - loss: 0.4796 - acc: 0.0333\n",
      "Epoch 134/150\n",
      " - 0s - loss: 0.4797 - acc: 0.0333\n",
      "Epoch 135/150\n",
      " - 0s - loss: 0.4783 - acc: 0.0333\n",
      "Epoch 136/150\n - 0s - loss: 0.4753 - acc: 0.0333\n",
      "Epoch 137/150\n",
      " - 0s - loss: 0.4761 - acc: 0.0333\n",
      "Epoch 138/150\n",
      " - 0s - loss: 0.4731 - acc: 0.0333\n",
      "Epoch 139/150\n",
      " - 0s - loss: 0.4828 - acc: 0.0333\n",
      "Epoch 140/150\n",
      " - 0s - loss: 0.4776 - acc: 0.0333\n",
      "Epoch 141/150\n",
      " - 0s - loss: 0.4765 - acc: 0.0333\n",
      "Epoch 142/150\n",
      " - 0s - loss: 0.4837 - acc: 0.0333\n",
      "Epoch 143/150\n - 0s - loss: 0.4801 - acc: 0.0333\n",
      "Epoch 144/150\n",
      " - 0s - loss: 0.4741 - acc: 0.0333\n",
      "Epoch 145/150\n",
      " - 0s - loss: 0.4786 - acc: 0.0333\n",
      "Epoch 146/150\n",
      " - 0s - loss: 0.4849 - acc: 0.0333\n",
      "Epoch 147/150\n - 0s - loss: 0.4829 - acc: 0.0333\n",
      "Epoch 148/150\n",
      " - 0s - loss: 0.4730 - acc: 0.0333\n",
      "Epoch 149/150\n",
      " - 0s - loss: 0.4782 - acc: 0.0333\n",
      "Epoch 150/150\n",
      " - 0s - loss: 0.4776 - acc: 0.0333\n"
     ],
     "output_type": "stream"
    },
    {
     "data": {
      "text/plain": "<keras.callbacks.History at 0x7f8d8cbafa90>"
     },
     "metadata": {},
     "output_type": "execute_result",
     "execution_count": 185
    }
   ],
   "source": [
    "model = Sequential()\n",
    "\n",
    "model.add(Dense(units=2, activation='linear', input_dim=2))\n",
    "model.add(Dense(units=8, activation='tanh'))\n",
    "model.add(Dense(units=16, activation='sigmoid'))\n",
    "model.add(Dense(units=1, activation='relu', activity_regularizer=regularizers.l1(0.01)))\n",
    "\n",
    "model.compile(loss='mse', optimizer='sgd', metrics=['accuracy'])\n",
    "\n",
    "model.fit(x_train, y_train, epochs=150, batch_size=5, verbose=2, shuffle=True)\n"
   ],
   "metadata": {
    "collapsed": false,
    "pycharm": {
     "name": "#%%\n",
     "is_executing": false
    }
   }
  },
  {
   "cell_type": "markdown",
   "source": [
    "#### Проверка\n"
   ],
   "metadata": {
    "collapsed": false
   }
  },
  {
   "cell_type": "code",
   "execution_count": 186,
   "outputs": [
    {
     "data": {
      "text/plain": "array([[3.7557707]], dtype=float32)"
     },
     "metadata": {},
     "output_type": "execute_result",
     "execution_count": 186
    }
   ],
   "source": [
    "classes = model.predict(np.array([0.3, 333]).reshape(1, 2))\n",
    "classes\n",
    "\n"
   ],
   "metadata": {
    "collapsed": false,
    "pycharm": {
     "name": "#%%\n",
     "is_executing": false
    }
   }
  },
  {
   "cell_type": "markdown",
   "source": [
    "#### Полиномиальная регрессия\n"
   ],
   "metadata": {
    "collapsed": false
   }
  },
  {
   "cell_type": "code",
   "execution_count": null,
   "outputs": [],
   "source": [
    "\n"
   ],
   "metadata": {
    "collapsed": false,
    "pycharm": {
     "name": "#%%\n"
    }
   }
  }
 ],
 "metadata": {
  "language_info": {
   "codemirror_mode": {
    "name": "ipython",
    "version": 2
   },
   "file_extension": ".py",
   "mimetype": "text/x-python",
   "name": "python",
   "nbconvert_exporter": "python",
   "pygments_lexer": "ipython2",
   "version": "2.7.6"
  },
  "kernelspec": {
   "name": "python3",
   "language": "python",
   "display_name": "Python 3"
  },
  "pycharm": {
   "stem_cell": {
    "cell_type": "raw",
    "source": [],
    "metadata": {
     "collapsed": false
    }
   }
  }
 },
 "nbformat": 4,
 "nbformat_minor": 0
}